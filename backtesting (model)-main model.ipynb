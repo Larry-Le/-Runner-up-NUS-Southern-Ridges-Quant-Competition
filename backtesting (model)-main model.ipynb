{
 "cells": [
  {
   "cell_type": "code",
   "execution_count": 1,
   "metadata": {},
   "outputs": [
    {
     "data": {
      "text/plain": [
       "'/Users/lexinyi/Desktop/Southern ridges competition submit/Model Code'"
      ]
     },
     "execution_count": 1,
     "metadata": {},
     "output_type": "execute_result"
    }
   ],
   "source": [
    "import os\n",
    "os.getcwd()"
   ]
  },
  {
   "cell_type": "code",
   "execution_count": 2,
   "metadata": {},
   "outputs": [],
   "source": [
    "import pandas as pd\n",
    "import numpy as np\n",
    "from scipy import stats\n",
    "import matplotlib.pyplot as plt\n",
    "import seaborn as sns"
   ]
  },
  {
   "cell_type": "code",
   "execution_count": 4,
   "metadata": {
    "scrolled": false
   },
   "outputs": [
    {
     "data": {
      "text/html": [
       "<div>\n",
       "<style scoped>\n",
       "    .dataframe tbody tr th:only-of-type {\n",
       "        vertical-align: middle;\n",
       "    }\n",
       "\n",
       "    .dataframe tbody tr th {\n",
       "        vertical-align: top;\n",
       "    }\n",
       "\n",
       "    .dataframe thead th {\n",
       "        text-align: right;\n",
       "    }\n",
       "</style>\n",
       "<table border=\"1\" class=\"dataframe\">\n",
       "  <thead>\n",
       "    <tr style=\"text-align: right;\">\n",
       "      <th></th>\n",
       "      <th>Date</th>\n",
       "      <th>Open</th>\n",
       "      <th>High</th>\n",
       "      <th>Low</th>\n",
       "      <th>Close</th>\n",
       "      <th>Adj Close</th>\n",
       "      <th>Volume</th>\n",
       "    </tr>\n",
       "  </thead>\n",
       "  <tbody>\n",
       "    <tr>\n",
       "      <td>0</td>\n",
       "      <td>2010-01-04</td>\n",
       "      <td>2974.860107</td>\n",
       "      <td>3017.800049</td>\n",
       "      <td>2974.860107</td>\n",
       "      <td>3017.800049</td>\n",
       "      <td>3017.800049</td>\n",
       "      <td>0</td>\n",
       "    </tr>\n",
       "    <tr>\n",
       "      <td>1</td>\n",
       "      <td>2010-01-05</td>\n",
       "      <td>3016.639893</td>\n",
       "      <td>3025.600098</td>\n",
       "      <td>3006.469971</td>\n",
       "      <td>3012.360107</td>\n",
       "      <td>3012.360107</td>\n",
       "      <td>0</td>\n",
       "    </tr>\n",
       "    <tr>\n",
       "      <td>2</td>\n",
       "      <td>2010-01-06</td>\n",
       "      <td>3010.889893</td>\n",
       "      <td>3016.830078</td>\n",
       "      <td>2997.050049</td>\n",
       "      <td>3009.659912</td>\n",
       "      <td>3009.659912</td>\n",
       "      <td>0</td>\n",
       "    </tr>\n",
       "    <tr>\n",
       "      <td>3</td>\n",
       "      <td>2010-01-07</td>\n",
       "      <td>3000.139893</td>\n",
       "      <td>3013.899902</td>\n",
       "      <td>2979.800049</td>\n",
       "      <td>3007.340088</td>\n",
       "      <td>3007.340088</td>\n",
       "      <td>0</td>\n",
       "    </tr>\n",
       "    <tr>\n",
       "      <td>4</td>\n",
       "      <td>2010-01-08</td>\n",
       "      <td>3012.969971</td>\n",
       "      <td>3024.580078</td>\n",
       "      <td>2993.729980</td>\n",
       "      <td>3017.850098</td>\n",
       "      <td>3017.850098</td>\n",
       "      <td>0</td>\n",
       "    </tr>\n",
       "    <tr>\n",
       "      <td>...</td>\n",
       "      <td>...</td>\n",
       "      <td>...</td>\n",
       "      <td>...</td>\n",
       "      <td>...</td>\n",
       "      <td>...</td>\n",
       "      <td>...</td>\n",
       "      <td>...</td>\n",
       "    </tr>\n",
       "    <tr>\n",
       "      <td>2256</td>\n",
       "      <td>2018-12-19</td>\n",
       "      <td>3042.189941</td>\n",
       "      <td>3063.699951</td>\n",
       "      <td>3042.189941</td>\n",
       "      <td>3051.379883</td>\n",
       "      <td>3051.379883</td>\n",
       "      <td>46652700</td>\n",
       "    </tr>\n",
       "    <tr>\n",
       "      <td>2257</td>\n",
       "      <td>2018-12-20</td>\n",
       "      <td>3031.320068</td>\n",
       "      <td>3031.320068</td>\n",
       "      <td>2993.399902</td>\n",
       "      <td>3000.060059</td>\n",
       "      <td>3000.060059</td>\n",
       "      <td>57123500</td>\n",
       "    </tr>\n",
       "    <tr>\n",
       "      <td>2258</td>\n",
       "      <td>2018-12-21</td>\n",
       "      <td>2996.919922</td>\n",
       "      <td>3003.060059</td>\n",
       "      <td>2957.560059</td>\n",
       "      <td>3000.610107</td>\n",
       "      <td>3000.610107</td>\n",
       "      <td>84815000</td>\n",
       "    </tr>\n",
       "    <tr>\n",
       "      <td>2259</td>\n",
       "      <td>2018-12-27</td>\n",
       "      <td>2987.669922</td>\n",
       "      <td>2997.239990</td>\n",
       "      <td>2908.699951</td>\n",
       "      <td>2937.360107</td>\n",
       "      <td>2937.360107</td>\n",
       "      <td>45597600</td>\n",
       "    </tr>\n",
       "    <tr>\n",
       "      <td>2260</td>\n",
       "      <td>2018-12-28</td>\n",
       "      <td>2952.050049</td>\n",
       "      <td>2996.169922</td>\n",
       "      <td>2951.510010</td>\n",
       "      <td>2986.530029</td>\n",
       "      <td>2986.530029</td>\n",
       "      <td>32799300</td>\n",
       "    </tr>\n",
       "  </tbody>\n",
       "</table>\n",
       "<p>2261 rows × 7 columns</p>\n",
       "</div>"
      ],
      "text/plain": [
       "            Date         Open         High          Low        Close  \\\n",
       "0     2010-01-04  2974.860107  3017.800049  2974.860107  3017.800049   \n",
       "1     2010-01-05  3016.639893  3025.600098  3006.469971  3012.360107   \n",
       "2     2010-01-06  3010.889893  3016.830078  2997.050049  3009.659912   \n",
       "3     2010-01-07  3000.139893  3013.899902  2979.800049  3007.340088   \n",
       "4     2010-01-08  3012.969971  3024.580078  2993.729980  3017.850098   \n",
       "...          ...          ...          ...          ...          ...   \n",
       "2256  2018-12-19  3042.189941  3063.699951  3042.189941  3051.379883   \n",
       "2257  2018-12-20  3031.320068  3031.320068  2993.399902  3000.060059   \n",
       "2258  2018-12-21  2996.919922  3003.060059  2957.560059  3000.610107   \n",
       "2259  2018-12-27  2987.669922  2997.239990  2908.699951  2937.360107   \n",
       "2260  2018-12-28  2952.050049  2996.169922  2951.510010  2986.530029   \n",
       "\n",
       "        Adj Close    Volume  \n",
       "0     3017.800049         0  \n",
       "1     3012.360107         0  \n",
       "2     3009.659912         0  \n",
       "3     3007.340088         0  \n",
       "4     3017.850098         0  \n",
       "...           ...       ...  \n",
       "2256  3051.379883  46652700  \n",
       "2257  3000.060059  57123500  \n",
       "2258  3000.610107  84815000  \n",
       "2259  2937.360107  45597600  \n",
       "2260  2986.530029  32799300  \n",
       "\n",
       "[2261 rows x 7 columns]"
      ]
     },
     "execution_count": 4,
     "metadata": {},
     "output_type": "execute_result"
    }
   ],
   "source": [
    "stoxx_data = pd.read_csv(\"../../southern ridges competition/stoxx_till_2018.csv\")\n",
    "stoxx_data"
   ]
  },
  {
   "cell_type": "markdown",
   "metadata": {},
   "source": [
    "Here we construct mean reversion factor, this is a negative factor."
   ]
  },
  {
   "cell_type": "code",
   "execution_count": 5,
   "metadata": {},
   "outputs": [
    {
     "name": "stdout",
     "output_type": "stream",
     "text": [
      "1       -5.439942\n",
      "2       -2.700195\n",
      "3       -2.319824\n",
      "4       10.510010\n",
      "5       -7.610108\n",
      "          ...    \n",
      "2256    11.250000\n",
      "2257   -51.319824\n",
      "2258     0.550048\n",
      "2259   -63.250000\n",
      "2260    49.169922\n",
      "Name: Close, Length: 2260, dtype: float64\n"
     ]
    },
    {
     "data": {
      "text/html": [
       "<div>\n",
       "<style scoped>\n",
       "    .dataframe tbody tr th:only-of-type {\n",
       "        vertical-align: middle;\n",
       "    }\n",
       "\n",
       "    .dataframe tbody tr th {\n",
       "        vertical-align: top;\n",
       "    }\n",
       "\n",
       "    .dataframe thead th {\n",
       "        text-align: right;\n",
       "    }\n",
       "</style>\n",
       "<table border=\"1\" class=\"dataframe\">\n",
       "  <thead>\n",
       "    <tr style=\"text-align: right;\">\n",
       "      <th></th>\n",
       "      <th>Date</th>\n",
       "      <th>Open</th>\n",
       "      <th>High</th>\n",
       "      <th>Low</th>\n",
       "      <th>Close</th>\n",
       "      <th>Adj Close</th>\n",
       "      <th>Volume</th>\n",
       "      <th>price_change</th>\n",
       "    </tr>\n",
       "  </thead>\n",
       "  <tbody>\n",
       "    <tr>\n",
       "      <td>2256</td>\n",
       "      <td>2018-12-19</td>\n",
       "      <td>3042.189941</td>\n",
       "      <td>3063.699951</td>\n",
       "      <td>3042.189941</td>\n",
       "      <td>3051.379883</td>\n",
       "      <td>3051.379883</td>\n",
       "      <td>46652700</td>\n",
       "      <td>11.250000</td>\n",
       "    </tr>\n",
       "    <tr>\n",
       "      <td>2257</td>\n",
       "      <td>2018-12-20</td>\n",
       "      <td>3031.320068</td>\n",
       "      <td>3031.320068</td>\n",
       "      <td>2993.399902</td>\n",
       "      <td>3000.060059</td>\n",
       "      <td>3000.060059</td>\n",
       "      <td>57123500</td>\n",
       "      <td>-51.319824</td>\n",
       "    </tr>\n",
       "    <tr>\n",
       "      <td>2258</td>\n",
       "      <td>2018-12-21</td>\n",
       "      <td>2996.919922</td>\n",
       "      <td>3003.060059</td>\n",
       "      <td>2957.560059</td>\n",
       "      <td>3000.610107</td>\n",
       "      <td>3000.610107</td>\n",
       "      <td>84815000</td>\n",
       "      <td>0.550048</td>\n",
       "    </tr>\n",
       "    <tr>\n",
       "      <td>2259</td>\n",
       "      <td>2018-12-27</td>\n",
       "      <td>2987.669922</td>\n",
       "      <td>2997.239990</td>\n",
       "      <td>2908.699951</td>\n",
       "      <td>2937.360107</td>\n",
       "      <td>2937.360107</td>\n",
       "      <td>45597600</td>\n",
       "      <td>-63.250000</td>\n",
       "    </tr>\n",
       "    <tr>\n",
       "      <td>2260</td>\n",
       "      <td>2018-12-28</td>\n",
       "      <td>2952.050049</td>\n",
       "      <td>2996.169922</td>\n",
       "      <td>2951.510010</td>\n",
       "      <td>2986.530029</td>\n",
       "      <td>2986.530029</td>\n",
       "      <td>32799300</td>\n",
       "      <td>49.169922</td>\n",
       "    </tr>\n",
       "  </tbody>\n",
       "</table>\n",
       "</div>"
      ],
      "text/plain": [
       "            Date         Open         High          Low        Close  \\\n",
       "2256  2018-12-19  3042.189941  3063.699951  3042.189941  3051.379883   \n",
       "2257  2018-12-20  3031.320068  3031.320068  2993.399902  3000.060059   \n",
       "2258  2018-12-21  2996.919922  3003.060059  2957.560059  3000.610107   \n",
       "2259  2018-12-27  2987.669922  2997.239990  2908.699951  2937.360107   \n",
       "2260  2018-12-28  2952.050049  2996.169922  2951.510010  2986.530029   \n",
       "\n",
       "        Adj Close    Volume  price_change  \n",
       "2256  3051.379883  46652700     11.250000  \n",
       "2257  3000.060059  57123500    -51.319824  \n",
       "2258  3000.610107  84815000      0.550048  \n",
       "2259  2937.360107  45597600    -63.250000  \n",
       "2260  2986.530029  32799300     49.169922  "
      ]
     },
     "execution_count": 5,
     "metadata": {},
     "output_type": "execute_result"
    }
   ],
   "source": [
    "price_change = (stoxx_data[\"Close\"]-stoxx_data[\"Close\"].shift(1))\n",
    "stoxx_data[\"price_change\"] = price_change\n",
    "stoxx_data.loc[0, \"price_change\"] = 0\n",
    "price_change = price_change[1: ]\n",
    "print(price_change)\n",
    "stoxx_data.tail()"
   ]
  },
  {
   "cell_type": "code",
   "execution_count": 6,
   "metadata": {},
   "outputs": [
    {
     "data": {
      "text/html": [
       "<div>\n",
       "<style scoped>\n",
       "    .dataframe tbody tr th:only-of-type {\n",
       "        vertical-align: middle;\n",
       "    }\n",
       "\n",
       "    .dataframe tbody tr th {\n",
       "        vertical-align: top;\n",
       "    }\n",
       "\n",
       "    .dataframe thead th {\n",
       "        text-align: right;\n",
       "    }\n",
       "</style>\n",
       "<table border=\"1\" class=\"dataframe\">\n",
       "  <thead>\n",
       "    <tr style=\"text-align: right;\">\n",
       "      <th></th>\n",
       "      <th>Date</th>\n",
       "      <th>Open</th>\n",
       "      <th>High</th>\n",
       "      <th>Low</th>\n",
       "      <th>Close</th>\n",
       "      <th>Adj Close</th>\n",
       "      <th>Volume</th>\n",
       "      <th>price_change</th>\n",
       "      <th>price_ch_normal</th>\n",
       "    </tr>\n",
       "  </thead>\n",
       "  <tbody>\n",
       "    <tr>\n",
       "      <td>2256</td>\n",
       "      <td>2018-12-19</td>\n",
       "      <td>3042.189941</td>\n",
       "      <td>3063.699951</td>\n",
       "      <td>3042.189941</td>\n",
       "      <td>3051.379883</td>\n",
       "      <td>3051.379883</td>\n",
       "      <td>46652700</td>\n",
       "      <td>11.250000</td>\n",
       "      <td>0.524554</td>\n",
       "    </tr>\n",
       "    <tr>\n",
       "      <td>2257</td>\n",
       "      <td>2018-12-20</td>\n",
       "      <td>3031.320068</td>\n",
       "      <td>3031.320068</td>\n",
       "      <td>2993.399902</td>\n",
       "      <td>3000.060059</td>\n",
       "      <td>3000.060059</td>\n",
       "      <td>57123500</td>\n",
       "      <td>-51.319824</td>\n",
       "      <td>0.404339</td>\n",
       "    </tr>\n",
       "    <tr>\n",
       "      <td>2258</td>\n",
       "      <td>2018-12-21</td>\n",
       "      <td>2996.919922</td>\n",
       "      <td>3003.060059</td>\n",
       "      <td>2957.560059</td>\n",
       "      <td>3000.610107</td>\n",
       "      <td>3000.610107</td>\n",
       "      <td>84815000</td>\n",
       "      <td>0.550048</td>\n",
       "      <td>0.503996</td>\n",
       "    </tr>\n",
       "    <tr>\n",
       "      <td>2259</td>\n",
       "      <td>2018-12-27</td>\n",
       "      <td>2987.669922</td>\n",
       "      <td>2997.239990</td>\n",
       "      <td>2908.699951</td>\n",
       "      <td>2937.360107</td>\n",
       "      <td>2937.360107</td>\n",
       "      <td>45597600</td>\n",
       "      <td>-63.250000</td>\n",
       "      <td>0.381417</td>\n",
       "    </tr>\n",
       "    <tr>\n",
       "      <td>2260</td>\n",
       "      <td>2018-12-28</td>\n",
       "      <td>2952.050049</td>\n",
       "      <td>2996.169922</td>\n",
       "      <td>2951.510010</td>\n",
       "      <td>2986.530029</td>\n",
       "      <td>2986.530029</td>\n",
       "      <td>32799300</td>\n",
       "      <td>49.169922</td>\n",
       "      <td>0.597410</td>\n",
       "    </tr>\n",
       "  </tbody>\n",
       "</table>\n",
       "</div>"
      ],
      "text/plain": [
       "            Date         Open         High          Low        Close  \\\n",
       "2256  2018-12-19  3042.189941  3063.699951  3042.189941  3051.379883   \n",
       "2257  2018-12-20  3031.320068  3031.320068  2993.399902  3000.060059   \n",
       "2258  2018-12-21  2996.919922  3003.060059  2957.560059  3000.610107   \n",
       "2259  2018-12-27  2987.669922  2997.239990  2908.699951  2937.360107   \n",
       "2260  2018-12-28  2952.050049  2996.169922  2951.510010  2986.530029   \n",
       "\n",
       "        Adj Close    Volume  price_change  price_ch_normal  \n",
       "2256  3051.379883  46652700     11.250000         0.524554  \n",
       "2257  3000.060059  57123500    -51.319824         0.404339  \n",
       "2258  3000.610107  84815000      0.550048         0.503996  \n",
       "2259  2937.360107  45597600    -63.250000         0.381417  \n",
       "2260  2986.530029  32799300     49.169922         0.597410  "
      ]
     },
     "execution_count": 6,
     "metadata": {},
     "output_type": "execute_result"
    }
   ],
   "source": [
    "price_change_factor = stoxx_data[\"price_change\"]\n",
    "max_price_change, min_price_change = np.max(price_change_factor), np.min(price_change_factor)\n",
    "price_change_normal = (price_change_factor - min_price_change)/(max_price_change - min_price_change)\n",
    "stoxx_data[\"price_ch_normal\"] = price_change_normal\n",
    "stoxx_data.tail()"
   ]
  },
  {
   "cell_type": "markdown",
   "metadata": {},
   "source": [
    "Here we construct RSI factor, this is a positive factor."
   ]
  },
  {
   "cell_type": "code",
   "execution_count": 7,
   "metadata": {},
   "outputs": [
    {
     "name": "stdout",
     "output_type": "stream",
     "text": [
      "add 10 days RSI successful!\n"
     ]
    }
   ],
   "source": [
    "def add_n_days_RSI(dataframe, n):\n",
    "    res = [0] * n\n",
    "    for i in range(n, dataframe.shape[0]):\n",
    "        price_change = dataframe.loc[i-n+1: i+1, \"price_change\"]\n",
    "        price_change_pos = price_change[price_change >= 0]\n",
    "        price_change_neg = np.abs(price_change[price_change < 0])\n",
    "        RSI = 100 * np.mean(price_change_pos) / (np.mean(price_change_pos) + np.mean(price_change_neg))\n",
    "        res.append(RSI)\n",
    "#     max_res, min_res = np.max(res), np.mean(res)\n",
    "    max_res, min_res = np.max(res), np.min(res)\n",
    "    res_normal = (res - min_res)/(max_res - min_res)\n",
    "    dataframe[str(n)+\"_days_RSI\"] = res_normal\n",
    "    print(\"add \" + str(n) + \" days RSI successful!\")\n",
    "add_n_days_RSI(stoxx_data, 10)"
   ]
  },
  {
   "cell_type": "markdown",
   "metadata": {},
   "source": [
    "Here we construct range factor, this is a positive factor."
   ]
  },
  {
   "cell_type": "code",
   "execution_count": 8,
   "metadata": {},
   "outputs": [
    {
     "name": "stdout",
     "output_type": "stream",
     "text": [
      "successfully add range to dataframe!!\n"
     ]
    }
   ],
   "source": [
    "def add_n_days_range(dataframe, n):\n",
    "    res = [0] * (n - 1)\n",
    "    for i in range(n - 1, dataframe.shape[0]):\n",
    "        close_data = dataframe.loc[i-n+1: i+1, \"Close\"]\n",
    "        high_data = dataframe.loc[i-n+1: i+1, \"High\"]\n",
    "        low_data = dataframe.loc[i-n+1: i+1, \"Low\"]\n",
    "        HH = np.max(high_data)\n",
    "        LC = np.min(close_data)\n",
    "        HC = np.max(close_data)\n",
    "        LL = np.min(low_data)\n",
    "        range_factor = np.max([HH-LC, HC-LL])\n",
    "        res.append(range_factor)\n",
    "#     max_res, min_res = np.max(res), np.mean(res)\n",
    "    max_res, min_res = np.max(res), np.min(res)\n",
    "    res_normal = (res - min_res)/(max_res - min_res)\n",
    "    dataframe[str(n)+\"_days_range\"] = res_normal\n",
    "    print(\"successfully add range to dataframe!!\")\n",
    "add_n_days_range(stoxx_data, 10)"
   ]
  },
  {
   "cell_type": "markdown",
   "metadata": {},
   "source": [
    "Here we construct positive volatility minus negative volatility factor, this is a positive factor."
   ]
  },
  {
   "cell_type": "code",
   "execution_count": 9,
   "metadata": {},
   "outputs": [
    {
     "name": "stdout",
     "output_type": "stream",
     "text": [
      "add 10 days vol successful!\n"
     ]
    }
   ],
   "source": [
    "def add_n_days_vol(dataframe, n):\n",
    "    res = [0] * n\n",
    "    for i in range(n, dataframe.shape[0]):\n",
    "        data_return = dataframe.loc[i-n+1: i+1, \"price_change\"]\n",
    "        return_pos = data_return[data_return >= 0]\n",
    "        return_neg = data_return[data_return < 0]\n",
    "        pos_vol = np.std(return_pos)\n",
    "        neg_vol = np.std(return_neg)\n",
    "        res.append(pos_vol - neg_vol)\n",
    "#     max_res, min_res = np.max(res), np.mean(res)\n",
    "    max_res, min_res = np.max(res), np.min(res)\n",
    "    res_normal = (res - min_res)/(max_res - min_res)\n",
    "    dataframe[str(n)+\"_days_vol\"] = res_normal\n",
    "    print(\"add \" + str(n) + \" days vol successful!\")\n",
    "add_n_days_vol(stoxx_data, 10)"
   ]
  },
  {
   "cell_type": "markdown",
   "metadata": {},
   "source": [
    "Here we construct close minus MA factor, this is a negative factor."
   ]
  },
  {
   "cell_type": "code",
   "execution_count": 10,
   "metadata": {},
   "outputs": [
    {
     "name": "stdout",
     "output_type": "stream",
     "text": [
      "successfully add ma to dataframe!!\n"
     ]
    }
   ],
   "source": [
    "def add_n_days_ma(dataframe, n):\n",
    "    res = [0] * (n - 1)\n",
    "    close = dataframe[\"Close\"]\n",
    "    for i in range(n - 1, dataframe.shape[0]):\n",
    "        close_data = dataframe.loc[i-n+1: i+1, \"Close\"]\n",
    "        res.append(np.mean(close_data))\n",
    "    res_new = close - res\n",
    "#     max_res, min_res = np.max(res_new), np.mean(res_new)\n",
    "    max_res, min_res = np.max(res_new), np.min(res_new)\n",
    "    res_normal = (-1)*(res_new - min_res)/(max_res - min_res)\n",
    "    dataframe[str(n)+\"_days_ma\"] = res_normal\n",
    "    print(\"successfully add ma to dataframe!!\")\n",
    "add_n_days_ma(stoxx_data, 10)"
   ]
  },
  {
   "cell_type": "code",
   "execution_count": 11,
   "metadata": {},
   "outputs": [
    {
     "data": {
      "text/html": [
       "<div>\n",
       "<style scoped>\n",
       "    .dataframe tbody tr th:only-of-type {\n",
       "        vertical-align: middle;\n",
       "    }\n",
       "\n",
       "    .dataframe tbody tr th {\n",
       "        vertical-align: top;\n",
       "    }\n",
       "\n",
       "    .dataframe thead th {\n",
       "        text-align: right;\n",
       "    }\n",
       "</style>\n",
       "<table border=\"1\" class=\"dataframe\">\n",
       "  <thead>\n",
       "    <tr style=\"text-align: right;\">\n",
       "      <th></th>\n",
       "      <th>Date</th>\n",
       "      <th>Open</th>\n",
       "      <th>High</th>\n",
       "      <th>Low</th>\n",
       "      <th>Close</th>\n",
       "      <th>Adj Close</th>\n",
       "      <th>Volume</th>\n",
       "      <th>price_change</th>\n",
       "      <th>price_ch_normal</th>\n",
       "      <th>10_days_RSI</th>\n",
       "      <th>10_days_range</th>\n",
       "      <th>10_days_vol</th>\n",
       "      <th>10_days_ma</th>\n",
       "    </tr>\n",
       "  </thead>\n",
       "  <tbody>\n",
       "    <tr>\n",
       "      <td>2256</td>\n",
       "      <td>2018-12-19</td>\n",
       "      <td>3042.189941</td>\n",
       "      <td>3063.699951</td>\n",
       "      <td>3042.189941</td>\n",
       "      <td>3051.379883</td>\n",
       "      <td>3051.379883</td>\n",
       "      <td>46652700</td>\n",
       "      <td>11.250000</td>\n",
       "      <td>0.524554</td>\n",
       "      <td>0.366580</td>\n",
       "      <td>0.199194</td>\n",
       "      <td>0.469336</td>\n",
       "      <td>-0.095793</td>\n",
       "    </tr>\n",
       "    <tr>\n",
       "      <td>2257</td>\n",
       "      <td>2018-12-20</td>\n",
       "      <td>3031.320068</td>\n",
       "      <td>3031.320068</td>\n",
       "      <td>2993.399902</td>\n",
       "      <td>3000.060059</td>\n",
       "      <td>3000.060059</td>\n",
       "      <td>57123500</td>\n",
       "      <td>-51.319824</td>\n",
       "      <td>0.404339</td>\n",
       "      <td>0.398354</td>\n",
       "      <td>0.220311</td>\n",
       "      <td>0.586743</td>\n",
       "      <td>-0.081685</td>\n",
       "    </tr>\n",
       "    <tr>\n",
       "      <td>2258</td>\n",
       "      <td>2018-12-21</td>\n",
       "      <td>2996.919922</td>\n",
       "      <td>3003.060059</td>\n",
       "      <td>2957.560059</td>\n",
       "      <td>3000.610107</td>\n",
       "      <td>3000.610107</td>\n",
       "      <td>84815000</td>\n",
       "      <td>0.550048</td>\n",
       "      <td>0.503996</td>\n",
       "      <td>0.380815</td>\n",
       "      <td>0.289934</td>\n",
       "      <td>0.571185</td>\n",
       "      <td>-0.085142</td>\n",
       "    </tr>\n",
       "    <tr>\n",
       "      <td>2259</td>\n",
       "      <td>2018-12-27</td>\n",
       "      <td>2987.669922</td>\n",
       "      <td>2997.239990</td>\n",
       "      <td>2908.699951</td>\n",
       "      <td>2937.360107</td>\n",
       "      <td>2937.360107</td>\n",
       "      <td>45597600</td>\n",
       "      <td>-63.250000</td>\n",
       "      <td>0.381417</td>\n",
       "      <td>0.434497</td>\n",
       "      <td>0.289934</td>\n",
       "      <td>0.567732</td>\n",
       "      <td>-0.067064</td>\n",
       "    </tr>\n",
       "    <tr>\n",
       "      <td>2260</td>\n",
       "      <td>2018-12-28</td>\n",
       "      <td>2952.050049</td>\n",
       "      <td>2996.169922</td>\n",
       "      <td>2951.510010</td>\n",
       "      <td>2986.530029</td>\n",
       "      <td>2986.530029</td>\n",
       "      <td>32799300</td>\n",
       "      <td>49.169922</td>\n",
       "      <td>0.597410</td>\n",
       "      <td>0.409311</td>\n",
       "      <td>0.289934</td>\n",
       "      <td>0.576177</td>\n",
       "      <td>-0.082197</td>\n",
       "    </tr>\n",
       "  </tbody>\n",
       "</table>\n",
       "</div>"
      ],
      "text/plain": [
       "            Date         Open         High          Low        Close  \\\n",
       "2256  2018-12-19  3042.189941  3063.699951  3042.189941  3051.379883   \n",
       "2257  2018-12-20  3031.320068  3031.320068  2993.399902  3000.060059   \n",
       "2258  2018-12-21  2996.919922  3003.060059  2957.560059  3000.610107   \n",
       "2259  2018-12-27  2987.669922  2997.239990  2908.699951  2937.360107   \n",
       "2260  2018-12-28  2952.050049  2996.169922  2951.510010  2986.530029   \n",
       "\n",
       "        Adj Close    Volume  price_change  price_ch_normal  10_days_RSI  \\\n",
       "2256  3051.379883  46652700     11.250000         0.524554     0.366580   \n",
       "2257  3000.060059  57123500    -51.319824         0.404339     0.398354   \n",
       "2258  3000.610107  84815000      0.550048         0.503996     0.380815   \n",
       "2259  2937.360107  45597600    -63.250000         0.381417     0.434497   \n",
       "2260  2986.530029  32799300     49.169922         0.597410     0.409311   \n",
       "\n",
       "      10_days_range  10_days_vol  10_days_ma  \n",
       "2256       0.199194     0.469336   -0.095793  \n",
       "2257       0.220311     0.586743   -0.081685  \n",
       "2258       0.289934     0.571185   -0.085142  \n",
       "2259       0.289934     0.567732   -0.067064  \n",
       "2260       0.289934     0.576177   -0.082197  "
      ]
     },
     "execution_count": 11,
     "metadata": {},
     "output_type": "execute_result"
    }
   ],
   "source": [
    "stoxx_data.tail()"
   ]
  },
  {
   "cell_type": "code",
   "execution_count": 12,
   "metadata": {},
   "outputs": [],
   "source": [
    "factor_combined = (stoxx_data[\"10_days_RSI\"] + stoxx_data[\"price_ch_normal\"] + \n",
    "                   stoxx_data[\"10_days_range\"] + stoxx_data[\"10_days_vol\"] +\n",
    "                   stoxx_data[\"10_days_ma\"]) \n",
    "                \n",
    "stoxx_data[\"factor_combined\"] = factor_combined"
   ]
  },
  {
   "cell_type": "code",
   "execution_count": 13,
   "metadata": {},
   "outputs": [],
   "source": [
    "factor_combined_linear = (23.8 * stoxx_data[\"10_days_RSI\"] + 57.1 * stoxx_data[\"10_days_vol\"] +\n",
    "                          27.2 * stoxx_data[\"10_days_ma\"])\n",
    "                \n",
    "stoxx_data[\"factor_combined_linear\"] = factor_combined_linear"
   ]
  },
  {
   "cell_type": "code",
   "execution_count": null,
   "metadata": {},
   "outputs": [],
   "source": []
  },
  {
   "cell_type": "code",
   "execution_count": 14,
   "metadata": {},
   "outputs": [
    {
     "data": {
      "text/plain": [
       "0       0.041131\n",
       "1       0.032305\n",
       "2       0.038376\n",
       "3       0.039801\n",
       "4       0.061309\n",
       "          ...   \n",
       "2256    1.463871\n",
       "2257    1.528061\n",
       "2258    1.660790\n",
       "2259    1.606516\n",
       "2260    1.790634\n",
       "Length: 2261, dtype: float64"
      ]
     },
     "execution_count": 14,
     "metadata": {},
     "output_type": "execute_result"
    }
   ],
   "source": [
    "factor_combined"
   ]
  },
  {
   "cell_type": "code",
   "execution_count": 15,
   "metadata": {},
   "outputs": [
    {
     "data": {
      "text/html": [
       "<div>\n",
       "<style scoped>\n",
       "    .dataframe tbody tr th:only-of-type {\n",
       "        vertical-align: middle;\n",
       "    }\n",
       "\n",
       "    .dataframe tbody tr th {\n",
       "        vertical-align: top;\n",
       "    }\n",
       "\n",
       "    .dataframe thead th {\n",
       "        text-align: right;\n",
       "    }\n",
       "</style>\n",
       "<table border=\"1\" class=\"dataframe\">\n",
       "  <thead>\n",
       "    <tr style=\"text-align: right;\">\n",
       "      <th></th>\n",
       "      <th>Date</th>\n",
       "      <th>Open</th>\n",
       "      <th>High</th>\n",
       "      <th>Low</th>\n",
       "      <th>Close</th>\n",
       "      <th>Adj Close</th>\n",
       "      <th>Volume</th>\n",
       "      <th>price_change</th>\n",
       "      <th>price_ch_normal</th>\n",
       "      <th>10_days_RSI</th>\n",
       "      <th>10_days_range</th>\n",
       "      <th>10_days_vol</th>\n",
       "      <th>10_days_ma</th>\n",
       "      <th>factor_combined</th>\n",
       "      <th>factor_combined_linear</th>\n",
       "      <th>portfolio value</th>\n",
       "    </tr>\n",
       "  </thead>\n",
       "  <tbody>\n",
       "    <tr>\n",
       "      <td>2256</td>\n",
       "      <td>2018-12-19</td>\n",
       "      <td>3042.189941</td>\n",
       "      <td>3063.699951</td>\n",
       "      <td>3042.189941</td>\n",
       "      <td>3051.379883</td>\n",
       "      <td>3051.379883</td>\n",
       "      <td>46652700</td>\n",
       "      <td>11.250000</td>\n",
       "      <td>0.524554</td>\n",
       "      <td>0.366580</td>\n",
       "      <td>0.199194</td>\n",
       "      <td>0.469336</td>\n",
       "      <td>-0.095793</td>\n",
       "      <td>1.463871</td>\n",
       "      <td>32.918117</td>\n",
       "      <td>1000000</td>\n",
       "    </tr>\n",
       "    <tr>\n",
       "      <td>2257</td>\n",
       "      <td>2018-12-20</td>\n",
       "      <td>3031.320068</td>\n",
       "      <td>3031.320068</td>\n",
       "      <td>2993.399902</td>\n",
       "      <td>3000.060059</td>\n",
       "      <td>3000.060059</td>\n",
       "      <td>57123500</td>\n",
       "      <td>-51.319824</td>\n",
       "      <td>0.404339</td>\n",
       "      <td>0.398354</td>\n",
       "      <td>0.220311</td>\n",
       "      <td>0.586743</td>\n",
       "      <td>-0.081685</td>\n",
       "      <td>1.528061</td>\n",
       "      <td>40.762001</td>\n",
       "      <td>1000000</td>\n",
       "    </tr>\n",
       "    <tr>\n",
       "      <td>2258</td>\n",
       "      <td>2018-12-21</td>\n",
       "      <td>2996.919922</td>\n",
       "      <td>3003.060059</td>\n",
       "      <td>2957.560059</td>\n",
       "      <td>3000.610107</td>\n",
       "      <td>3000.610107</td>\n",
       "      <td>84815000</td>\n",
       "      <td>0.550048</td>\n",
       "      <td>0.503996</td>\n",
       "      <td>0.380815</td>\n",
       "      <td>0.289934</td>\n",
       "      <td>0.571185</td>\n",
       "      <td>-0.085142</td>\n",
       "      <td>1.660790</td>\n",
       "      <td>39.362228</td>\n",
       "      <td>1000000</td>\n",
       "    </tr>\n",
       "    <tr>\n",
       "      <td>2259</td>\n",
       "      <td>2018-12-27</td>\n",
       "      <td>2987.669922</td>\n",
       "      <td>2997.239990</td>\n",
       "      <td>2908.699951</td>\n",
       "      <td>2937.360107</td>\n",
       "      <td>2937.360107</td>\n",
       "      <td>45597600</td>\n",
       "      <td>-63.250000</td>\n",
       "      <td>0.381417</td>\n",
       "      <td>0.434497</td>\n",
       "      <td>0.289934</td>\n",
       "      <td>0.567732</td>\n",
       "      <td>-0.067064</td>\n",
       "      <td>1.606516</td>\n",
       "      <td>40.934374</td>\n",
       "      <td>1000000</td>\n",
       "    </tr>\n",
       "    <tr>\n",
       "      <td>2260</td>\n",
       "      <td>2018-12-28</td>\n",
       "      <td>2952.050049</td>\n",
       "      <td>2996.169922</td>\n",
       "      <td>2951.510010</td>\n",
       "      <td>2986.530029</td>\n",
       "      <td>2986.530029</td>\n",
       "      <td>32799300</td>\n",
       "      <td>49.169922</td>\n",
       "      <td>0.597410</td>\n",
       "      <td>0.409311</td>\n",
       "      <td>0.289934</td>\n",
       "      <td>0.576177</td>\n",
       "      <td>-0.082197</td>\n",
       "      <td>1.790634</td>\n",
       "      <td>40.405508</td>\n",
       "      <td>1000000</td>\n",
       "    </tr>\n",
       "  </tbody>\n",
       "</table>\n",
       "</div>"
      ],
      "text/plain": [
       "            Date         Open         High          Low        Close  \\\n",
       "2256  2018-12-19  3042.189941  3063.699951  3042.189941  3051.379883   \n",
       "2257  2018-12-20  3031.320068  3031.320068  2993.399902  3000.060059   \n",
       "2258  2018-12-21  2996.919922  3003.060059  2957.560059  3000.610107   \n",
       "2259  2018-12-27  2987.669922  2997.239990  2908.699951  2937.360107   \n",
       "2260  2018-12-28  2952.050049  2996.169922  2951.510010  2986.530029   \n",
       "\n",
       "        Adj Close    Volume  price_change  price_ch_normal  10_days_RSI  \\\n",
       "2256  3051.379883  46652700     11.250000         0.524554     0.366580   \n",
       "2257  3000.060059  57123500    -51.319824         0.404339     0.398354   \n",
       "2258  3000.610107  84815000      0.550048         0.503996     0.380815   \n",
       "2259  2937.360107  45597600    -63.250000         0.381417     0.434497   \n",
       "2260  2986.530029  32799300     49.169922         0.597410     0.409311   \n",
       "\n",
       "      10_days_range  10_days_vol  10_days_ma  factor_combined  \\\n",
       "2256       0.199194     0.469336   -0.095793         1.463871   \n",
       "2257       0.220311     0.586743   -0.081685         1.528061   \n",
       "2258       0.289934     0.571185   -0.085142         1.660790   \n",
       "2259       0.289934     0.567732   -0.067064         1.606516   \n",
       "2260       0.289934     0.576177   -0.082197         1.790634   \n",
       "\n",
       "      factor_combined_linear  portfolio value  \n",
       "2256               32.918117          1000000  \n",
       "2257               40.762001          1000000  \n",
       "2258               39.362228          1000000  \n",
       "2259               40.934374          1000000  \n",
       "2260               40.405508          1000000  "
      ]
     },
     "execution_count": 15,
     "metadata": {},
     "output_type": "execute_result"
    }
   ],
   "source": [
    "stoxx_data[\"portfolio value\"] = [1000000] * len(stoxx_data.index)\n",
    "stoxx_data.tail()"
   ]
  },
  {
   "cell_type": "code",
   "execution_count": 16,
   "metadata": {},
   "outputs": [
    {
     "name": "stdout",
     "output_type": "stream",
     "text": [
      "successfully running the loops!\n",
      "successfully add profit list!\n"
     ]
    }
   ],
   "source": [
    "profit_list = [0] * 9\n",
    "for i in range(9, len(stoxx_data.index)-1):\n",
    "    close = stoxx_data.loc[i, \"Close\"]\n",
    "    price_change = stoxx_data.loc[i, \"price_change\"]\n",
    "    portfolio_value = stoxx_data.loc[i, \"portfolio value\"]\n",
    "    price_change_before = stoxx_data.loc[i-1, \"price_change\"]\n",
    "    \n",
    "    RSI = stoxx_data.loc[i, \"10_days_RSI\"]\n",
    "    factor_combined = stoxx_data.loc[i, \"factor_combined\"]\n",
    "    factor_combined_linear = stoxx_data.loc[i, \"factor_combined_linear\"]\n",
    "    \n",
    "    close_next_day = stoxx_data.loc[i+1, \"Close\"]\n",
    "\n",
    "#     if factor_combined_linear > 40:\n",
    "#     if True:\n",
    "    if factor_combined > 1.7:\n",
    "        #这里我们用80%的现金去买指数\n",
    "        buy_value = 0.8 * portfolio_value\n",
    "        buy_amount = int(buy_value/close)\n",
    "        remain_value = portfolio_value - buy_amount * close\n",
    "        new_portfolio_value = remain_value + buy_amount * close_next_day\n",
    "        stoxx_data.loc[i+1, \"portfolio value\"] = new_portfolio_value\n",
    "        profit_list.append(new_portfolio_value - portfolio_value)\n",
    "    else:\n",
    "        stoxx_data.loc[i+1, \"portfolio value\"] = portfolio_value\n",
    "        profit_list.append(0)\n",
    "\n",
    "print(\"successfully running the loops!\")\n",
    "\n",
    "profit_list = profit_list + [0]\n",
    "stoxx_data[\"profit\"] = profit_list\n",
    "print(\"successfully add profit list!\")"
   ]
  },
  {
   "cell_type": "code",
   "execution_count": 17,
   "metadata": {},
   "outputs": [
    {
     "data": {
      "text/html": [
       "<div>\n",
       "<style scoped>\n",
       "    .dataframe tbody tr th:only-of-type {\n",
       "        vertical-align: middle;\n",
       "    }\n",
       "\n",
       "    .dataframe tbody tr th {\n",
       "        vertical-align: top;\n",
       "    }\n",
       "\n",
       "    .dataframe thead th {\n",
       "        text-align: right;\n",
       "    }\n",
       "</style>\n",
       "<table border=\"1\" class=\"dataframe\">\n",
       "  <thead>\n",
       "    <tr style=\"text-align: right;\">\n",
       "      <th></th>\n",
       "      <th>Date</th>\n",
       "      <th>factor_combined</th>\n",
       "      <th>portfolio value</th>\n",
       "      <th>profit</th>\n",
       "    </tr>\n",
       "  </thead>\n",
       "  <tbody>\n",
       "    <tr>\n",
       "      <td>2256</td>\n",
       "      <td>2018-12-19</td>\n",
       "      <td>1.463871</td>\n",
       "      <td>6.628240e+06</td>\n",
       "      <td>0.0</td>\n",
       "    </tr>\n",
       "    <tr>\n",
       "      <td>2257</td>\n",
       "      <td>2018-12-20</td>\n",
       "      <td>1.528061</td>\n",
       "      <td>6.628240e+06</td>\n",
       "      <td>0.0</td>\n",
       "    </tr>\n",
       "    <tr>\n",
       "      <td>2258</td>\n",
       "      <td>2018-12-21</td>\n",
       "      <td>1.660790</td>\n",
       "      <td>6.628240e+06</td>\n",
       "      <td>0.0</td>\n",
       "    </tr>\n",
       "    <tr>\n",
       "      <td>2259</td>\n",
       "      <td>2018-12-27</td>\n",
       "      <td>1.606516</td>\n",
       "      <td>6.628240e+06</td>\n",
       "      <td>0.0</td>\n",
       "    </tr>\n",
       "    <tr>\n",
       "      <td>2260</td>\n",
       "      <td>2018-12-28</td>\n",
       "      <td>1.790634</td>\n",
       "      <td>6.628240e+06</td>\n",
       "      <td>0.0</td>\n",
       "    </tr>\n",
       "  </tbody>\n",
       "</table>\n",
       "</div>"
      ],
      "text/plain": [
       "            Date  factor_combined  portfolio value  profit\n",
       "2256  2018-12-19         1.463871     6.628240e+06     0.0\n",
       "2257  2018-12-20         1.528061     6.628240e+06     0.0\n",
       "2258  2018-12-21         1.660790     6.628240e+06     0.0\n",
       "2259  2018-12-27         1.606516     6.628240e+06     0.0\n",
       "2260  2018-12-28         1.790634     6.628240e+06     0.0"
      ]
     },
     "execution_count": 17,
     "metadata": {},
     "output_type": "execute_result"
    }
   ],
   "source": [
    "stoxx_data[[\"Date\", \"factor_combined\", \"portfolio value\", \"profit\"]].tail()"
   ]
  },
  {
   "cell_type": "code",
   "execution_count": 18,
   "metadata": {},
   "outputs": [
    {
     "data": {
      "text/plain": [
       "23.38616597937586"
      ]
     },
     "execution_count": 18,
     "metadata": {},
     "output_type": "execute_result"
    }
   ],
   "source": [
    "portfolio_value_series = stoxx_data[\"portfolio value\"]\n",
    "annual_return = 100 * ((portfolio_value_series[portfolio_value_series.index[-1]] / portfolio_value_series[portfolio_value_series.index[0]]) ** (1/9) - 1 )\n",
    "annual_return"
   ]
  },
  {
   "cell_type": "code",
   "execution_count": 19,
   "metadata": {},
   "outputs": [
    {
     "data": {
      "text/plain": [
       "1.9304831431462082"
      ]
     },
     "execution_count": 19,
     "metadata": {},
     "output_type": "execute_result"
    }
   ],
   "source": [
    "dates = {0: \"2010-01-04\", 1: \"2010-12-30\", 2: \"2011-12-30\", 3: \"2012-12-28\", 4: \"2013-12-30\",\n",
    "         5: \"2014-12-30\", 6: \"2015-12-30\", 7: \"2016-12-30\", 8: \"2017-12-29\", 9: \"2018-12-28\"}\n",
    "return_list = []\n",
    "for i in range(1, 10):\n",
    "    first_day_data = stoxx_data[stoxx_data[\"Date\"] == dates[i-1]]\n",
    "    last_day_data = stoxx_data[stoxx_data[\"Date\"] == dates[i]]\n",
    "    return_list.append((last_day_data[\"portfolio value\"].values[0]/first_day_data[\"portfolio value\"].values[0] - 1))\n",
    "return_volatility = np.std(return_list) * 100\n",
    "sharpe_ratio = (annual_return - 2)/return_volatility\n",
    "sharpe_ratio"
   ]
  },
  {
   "cell_type": "code",
   "execution_count": 20,
   "metadata": {},
   "outputs": [
    {
     "name": "stdout",
     "output_type": "stream",
     "text": [
      "Annualized return is:  23.38616597937586 %\n",
      "------------------------------------------\n",
      "Sharpe Ratio is:  1.9304831431462082\n"
     ]
    }
   ],
   "source": [
    "print(\"Annualized return is: \", annual_return, \"%\")\n",
    "print(\"------------------------------------------\")\n",
    "print(\"Sharpe Ratio is: \", sharpe_ratio)"
   ]
  },
  {
   "cell_type": "code",
   "execution_count": 21,
   "metadata": {},
   "outputs": [
    {
     "data": {
      "image/png": "[encoded data removed]",
      "text/plain": [
       "<Figure size 3000x1500 with 1 Axes>"
      ]
     },
     "metadata": {
      "needs_background": "light"
     },
     "output_type": "display_data"
    }
   ],
   "source": [
    "plt.figure(figsize=(30, 15), dpi=100)\n",
    "stoxx_data[\"portfolio value\"].plot()\n",
    "plt.tick_params(labelsize=30)\n",
    "plt.show()"
   ]
  },
  {
   "cell_type": "code",
   "execution_count": 22,
   "metadata": {},
   "outputs": [
    {
     "data": {
      "text/html": [
       "<div>\n",
       "<style scoped>\n",
       "    .dataframe tbody tr th:only-of-type {\n",
       "        vertical-align: middle;\n",
       "    }\n",
       "\n",
       "    .dataframe tbody tr th {\n",
       "        vertical-align: top;\n",
       "    }\n",
       "\n",
       "    .dataframe thead th {\n",
       "        text-align: right;\n",
       "    }\n",
       "</style>\n",
       "<table border=\"1\" class=\"dataframe\">\n",
       "  <thead>\n",
       "    <tr style=\"text-align: right;\">\n",
       "      <th></th>\n",
       "      <th>Date</th>\n",
       "      <th>Open</th>\n",
       "      <th>High</th>\n",
       "      <th>Low</th>\n",
       "      <th>Close</th>\n",
       "      <th>Adj Close</th>\n",
       "      <th>Volume</th>\n",
       "      <th>price_change</th>\n",
       "      <th>price_ch_normal</th>\n",
       "      <th>10_days_RSI</th>\n",
       "      <th>10_days_range</th>\n",
       "      <th>10_days_vol</th>\n",
       "      <th>10_days_ma</th>\n",
       "      <th>factor_combined</th>\n",
       "      <th>factor_combined_linear</th>\n",
       "      <th>portfolio value</th>\n",
       "      <th>profit</th>\n",
       "    </tr>\n",
       "  </thead>\n",
       "  <tbody>\n",
       "    <tr>\n",
       "      <td>2251</td>\n",
       "      <td>2018-12-12</td>\n",
       "      <td>3059.250000</td>\n",
       "      <td>3119.199951</td>\n",
       "      <td>3059.250000</td>\n",
       "      <td>3107.969971</td>\n",
       "      <td>3107.969971</td>\n",
       "      <td>47486300</td>\n",
       "      <td>52.649903</td>\n",
       "      <td>0.604096</td>\n",
       "      <td>0.401659</td>\n",
       "      <td>0.324874</td>\n",
       "      <td>0.435946</td>\n",
       "      <td>-0.094937</td>\n",
       "      <td>1.671638</td>\n",
       "      <td>31.869725</td>\n",
       "      <td>6.628240e+06</td>\n",
       "      <td>0.0</td>\n",
       "    </tr>\n",
       "    <tr>\n",
       "      <td>2252</td>\n",
       "      <td>2018-12-13</td>\n",
       "      <td>3110.570068</td>\n",
       "      <td>3128.100098</td>\n",
       "      <td>3100.110107</td>\n",
       "      <td>3112.169922</td>\n",
       "      <td>3112.169922</td>\n",
       "      <td>45330100</td>\n",
       "      <td>4.199951</td>\n",
       "      <td>0.511009</td>\n",
       "      <td>0.462326</td>\n",
       "      <td>0.324874</td>\n",
       "      <td>0.444080</td>\n",
       "      <td>-0.098408</td>\n",
       "      <td>1.643881</td>\n",
       "      <td>33.683638</td>\n",
       "      <td>6.628240e+06</td>\n",
       "      <td>0.0</td>\n",
       "    </tr>\n",
       "    <tr>\n",
       "      <td>2253</td>\n",
       "      <td>2018-12-14</td>\n",
       "      <td>3102.090088</td>\n",
       "      <td>3103.169922</td>\n",
       "      <td>3063.229980</td>\n",
       "      <td>3092.600098</td>\n",
       "      <td>3092.600098</td>\n",
       "      <td>34270600</td>\n",
       "      <td>-19.569824</td>\n",
       "      <td>0.465340</td>\n",
       "      <td>0.432900</td>\n",
       "      <td>0.324874</td>\n",
       "      <td>0.470887</td>\n",
       "      <td>-0.095534</td>\n",
       "      <td>1.598468</td>\n",
       "      <td>34.592168</td>\n",
       "      <td>6.628240e+06</td>\n",
       "      <td>0.0</td>\n",
       "    </tr>\n",
       "    <tr>\n",
       "      <td>2254</td>\n",
       "      <td>2018-12-17</td>\n",
       "      <td>3088.969971</td>\n",
       "      <td>3092.820068</td>\n",
       "      <td>3053.560059</td>\n",
       "      <td>3063.649902</td>\n",
       "      <td>3063.649902</td>\n",
       "      <td>36582200</td>\n",
       "      <td>-28.950196</td>\n",
       "      <td>0.447318</td>\n",
       "      <td>0.423279</td>\n",
       "      <td>0.275756</td>\n",
       "      <td>0.486260</td>\n",
       "      <td>-0.091632</td>\n",
       "      <td>1.540981</td>\n",
       "      <td>35.347124</td>\n",
       "      <td>6.628240e+06</td>\n",
       "      <td>0.0</td>\n",
       "    </tr>\n",
       "    <tr>\n",
       "      <td>2255</td>\n",
       "      <td>2018-12-18</td>\n",
       "      <td>3054.010010</td>\n",
       "      <td>3067.540039</td>\n",
       "      <td>3040.129883</td>\n",
       "      <td>3040.129883</td>\n",
       "      <td>3040.129883</td>\n",
       "      <td>43622700</td>\n",
       "      <td>-23.520019</td>\n",
       "      <td>0.457751</td>\n",
       "      <td>0.377897</td>\n",
       "      <td>0.234675</td>\n",
       "      <td>0.469970</td>\n",
       "      <td>-0.088348</td>\n",
       "      <td>1.451944</td>\n",
       "      <td>33.426142</td>\n",
       "      <td>6.628240e+06</td>\n",
       "      <td>0.0</td>\n",
       "    </tr>\n",
       "    <tr>\n",
       "      <td>2256</td>\n",
       "      <td>2018-12-19</td>\n",
       "      <td>3042.189941</td>\n",
       "      <td>3063.699951</td>\n",
       "      <td>3042.189941</td>\n",
       "      <td>3051.379883</td>\n",
       "      <td>3051.379883</td>\n",
       "      <td>46652700</td>\n",
       "      <td>11.250000</td>\n",
       "      <td>0.524554</td>\n",
       "      <td>0.366580</td>\n",
       "      <td>0.199194</td>\n",
       "      <td>0.469336</td>\n",
       "      <td>-0.095793</td>\n",
       "      <td>1.463871</td>\n",
       "      <td>32.918117</td>\n",
       "      <td>6.628240e+06</td>\n",
       "      <td>0.0</td>\n",
       "    </tr>\n",
       "    <tr>\n",
       "      <td>2257</td>\n",
       "      <td>2018-12-20</td>\n",
       "      <td>3031.320068</td>\n",
       "      <td>3031.320068</td>\n",
       "      <td>2993.399902</td>\n",
       "      <td>3000.060059</td>\n",
       "      <td>3000.060059</td>\n",
       "      <td>57123500</td>\n",
       "      <td>-51.319824</td>\n",
       "      <td>0.404339</td>\n",
       "      <td>0.398354</td>\n",
       "      <td>0.220311</td>\n",
       "      <td>0.586743</td>\n",
       "      <td>-0.081685</td>\n",
       "      <td>1.528061</td>\n",
       "      <td>40.762001</td>\n",
       "      <td>6.628240e+06</td>\n",
       "      <td>0.0</td>\n",
       "    </tr>\n",
       "    <tr>\n",
       "      <td>2258</td>\n",
       "      <td>2018-12-21</td>\n",
       "      <td>2996.919922</td>\n",
       "      <td>3003.060059</td>\n",
       "      <td>2957.560059</td>\n",
       "      <td>3000.610107</td>\n",
       "      <td>3000.610107</td>\n",
       "      <td>84815000</td>\n",
       "      <td>0.550048</td>\n",
       "      <td>0.503996</td>\n",
       "      <td>0.380815</td>\n",
       "      <td>0.289934</td>\n",
       "      <td>0.571185</td>\n",
       "      <td>-0.085142</td>\n",
       "      <td>1.660790</td>\n",
       "      <td>39.362228</td>\n",
       "      <td>6.628240e+06</td>\n",
       "      <td>0.0</td>\n",
       "    </tr>\n",
       "    <tr>\n",
       "      <td>2259</td>\n",
       "      <td>2018-12-27</td>\n",
       "      <td>2987.669922</td>\n",
       "      <td>2997.239990</td>\n",
       "      <td>2908.699951</td>\n",
       "      <td>2937.360107</td>\n",
       "      <td>2937.360107</td>\n",
       "      <td>45597600</td>\n",
       "      <td>-63.250000</td>\n",
       "      <td>0.381417</td>\n",
       "      <td>0.434497</td>\n",
       "      <td>0.289934</td>\n",
       "      <td>0.567732</td>\n",
       "      <td>-0.067064</td>\n",
       "      <td>1.606516</td>\n",
       "      <td>40.934374</td>\n",
       "      <td>6.628240e+06</td>\n",
       "      <td>0.0</td>\n",
       "    </tr>\n",
       "    <tr>\n",
       "      <td>2260</td>\n",
       "      <td>2018-12-28</td>\n",
       "      <td>2952.050049</td>\n",
       "      <td>2996.169922</td>\n",
       "      <td>2951.510010</td>\n",
       "      <td>2986.530029</td>\n",
       "      <td>2986.530029</td>\n",
       "      <td>32799300</td>\n",
       "      <td>49.169922</td>\n",
       "      <td>0.597410</td>\n",
       "      <td>0.409311</td>\n",
       "      <td>0.289934</td>\n",
       "      <td>0.576177</td>\n",
       "      <td>-0.082197</td>\n",
       "      <td>1.790634</td>\n",
       "      <td>40.405508</td>\n",
       "      <td>6.628240e+06</td>\n",
       "      <td>0.0</td>\n",
       "    </tr>\n",
       "  </tbody>\n",
       "</table>\n",
       "</div>"
      ],
      "text/plain": [
       "            Date         Open         High          Low        Close  \\\n",
       "2251  2018-12-12  3059.250000  3119.199951  3059.250000  3107.969971   \n",
       "2252  2018-12-13  3110.570068  3128.100098  3100.110107  3112.169922   \n",
       "2253  2018-12-14  3102.090088  3103.169922  3063.229980  3092.600098   \n",
       "2254  2018-12-17  3088.969971  3092.820068  3053.560059  3063.649902   \n",
       "2255  2018-12-18  3054.010010  3067.540039  3040.129883  3040.129883   \n",
       "2256  2018-12-19  3042.189941  3063.699951  3042.189941  3051.379883   \n",
       "2257  2018-12-20  3031.320068  3031.320068  2993.399902  3000.060059   \n",
       "2258  2018-12-21  2996.919922  3003.060059  2957.560059  3000.610107   \n",
       "2259  2018-12-27  2987.669922  2997.239990  2908.699951  2937.360107   \n",
       "2260  2018-12-28  2952.050049  2996.169922  2951.510010  2986.530029   \n",
       "\n",
       "        Adj Close    Volume  price_change  price_ch_normal  10_days_RSI  \\\n",
       "2251  3107.969971  47486300     52.649903         0.604096     0.401659   \n",
       "2252  3112.169922  45330100      4.199951         0.511009     0.462326   \n",
       "2253  3092.600098  34270600    -19.569824         0.465340     0.432900   \n",
       "2254  3063.649902  36582200    -28.950196         0.447318     0.423279   \n",
       "2255  3040.129883  43622700    -23.520019         0.457751     0.377897   \n",
       "2256  3051.379883  46652700     11.250000         0.524554     0.366580   \n",
       "2257  3000.060059  57123500    -51.319824         0.404339     0.398354   \n",
       "2258  3000.610107  84815000      0.550048         0.503996     0.380815   \n",
       "2259  2937.360107  45597600    -63.250000         0.381417     0.434497   \n",
       "2260  2986.530029  32799300     49.169922         0.597410     0.409311   \n",
       "\n",
       "      10_days_range  10_days_vol  10_days_ma  factor_combined  \\\n",
       "2251       0.324874     0.435946   -0.094937         1.671638   \n",
       "2252       0.324874     0.444080   -0.098408         1.643881   \n",
       "2253       0.324874     0.470887   -0.095534         1.598468   \n",
       "2254       0.275756     0.486260   -0.091632         1.540981   \n",
       "2255       0.234675     0.469970   -0.088348         1.451944   \n",
       "2256       0.199194     0.469336   -0.095793         1.463871   \n",
       "2257       0.220311     0.586743   -0.081685         1.528061   \n",
       "2258       0.289934     0.571185   -0.085142         1.660790   \n",
       "2259       0.289934     0.567732   -0.067064         1.606516   \n",
       "2260       0.289934     0.576177   -0.082197         1.790634   \n",
       "\n",
       "      factor_combined_linear  portfolio value  profit  \n",
       "2251               31.869725     6.628240e+06     0.0  \n",
       "2252               33.683638     6.628240e+06     0.0  \n",
       "2253               34.592168     6.628240e+06     0.0  \n",
       "2254               35.347124     6.628240e+06     0.0  \n",
       "2255               33.426142     6.628240e+06     0.0  \n",
       "2256               32.918117     6.628240e+06     0.0  \n",
       "2257               40.762001     6.628240e+06     0.0  \n",
       "2258               39.362228     6.628240e+06     0.0  \n",
       "2259               40.934374     6.628240e+06     0.0  \n",
       "2260               40.405508     6.628240e+06     0.0  "
      ]
     },
     "execution_count": 22,
     "metadata": {},
     "output_type": "execute_result"
    }
   ],
   "source": [
    "stoxx_data.tail(10)"
   ]
  },
  {
   "cell_type": "code",
   "execution_count": 23,
   "metadata": {},
   "outputs": [
    {
     "data": {
      "image/png": "[encoded data removed]",
      "text/plain": [
       "<Figure size 3000x1500 with 1 Axes>"
      ]
     },
     "metadata": {
      "needs_background": "light"
     },
     "output_type": "display_data"
    }
   ],
   "source": [
    "cum_profit = [stoxx_data.loc[0, \"profit\"]]\n",
    "for i in range(1, len(stoxx_data)):\n",
    "    cum_profit.append(cum_profit[i-1] + stoxx_data.loc[i, \"profit\"])\n",
    "\n",
    "plt.figure(figsize=(30, 15), dpi=100)\n",
    "plt.tick_params(labelsize=30)\n",
    "plt.plot(cum_profit)\n",
    "plt.show()"
   ]
  },
  {
   "cell_type": "code",
   "execution_count": 64,
   "metadata": {},
   "outputs": [
    {
     "name": "stdout",
     "output_type": "stream",
     "text": [
      "positive profit times:  1730\n",
      "negative profit times:  531\n"
     ]
    }
   ],
   "source": [
    "profit, price_change = stoxx_data[\"profit\"], stoxx_data[\"price_change\"]\n",
    "print(\"positive profit times: \", len(profit[profit >= 0]))\n",
    "print(\"negative profit times: \", len(profit[profit < 0]))"
   ]
  },
  {
   "cell_type": "code",
   "execution_count": 140,
   "metadata": {},
   "outputs": [
    {
     "name": "stdout",
     "output_type": "stream",
     "text": [
      "SpearmanrResult(correlation=0.13376038300207482, pvalue=1.7083931881419825e-10)\n",
      "-----------------------------------------------------\n",
      "count    2261.000000\n",
      "mean        1.714680\n",
      "std         0.245405\n",
      "min        -0.010716\n",
      "25%         1.566807\n",
      "50%         1.699923\n",
      "75%         1.856930\n",
      "max         3.290409\n",
      "Name: factor_combined, dtype: float64\n",
      "-----------------------------------------------------\n"
     ]
    },
    {
     "data": {
      "image/png": "[encoded data removed]",
      "text/plain": [
       "<Figure size 3000x1500 with 1 Axes>"
      ]
     },
     "metadata": {
      "needs_background": "light"
     },
     "output_type": "display_data"
    }
   ],
   "source": [
    "print(stats.spearmanr(stoxx_data[[\"factor_combined\", \"profit\"]]))\n",
    "print(\"-----------------------------------------------------\")\n",
    "print(stoxx_data[\"factor_combined\"].describe())\n",
    "print(\"-----------------------------------------------------\")\n",
    "plt.figure(figsize=(30, 15), dpi=100)\n",
    "plt.tick_params(labelsize=30)\n",
    "plt.hist(stoxx_data[\"factor_combined\"], bins=2600)\n",
    "plt.show()"
   ]
  },
  {
   "cell_type": "code",
   "execution_count": 141,
   "metadata": {},
   "outputs": [
    {
     "data": {
      "text/html": [
       "<div>\n",
       "<style scoped>\n",
       "    .dataframe tbody tr th:only-of-type {\n",
       "        vertical-align: middle;\n",
       "    }\n",
       "\n",
       "    .dataframe tbody tr th {\n",
       "        vertical-align: top;\n",
       "    }\n",
       "\n",
       "    .dataframe thead th {\n",
       "        text-align: right;\n",
       "    }\n",
       "</style>\n",
       "<table border=\"1\" class=\"dataframe\">\n",
       "  <thead>\n",
       "    <tr style=\"text-align: right;\">\n",
       "      <th></th>\n",
       "      <th>Date</th>\n",
       "      <th>Open</th>\n",
       "      <th>High</th>\n",
       "      <th>Low</th>\n",
       "      <th>Close</th>\n",
       "      <th>Adj Close</th>\n",
       "      <th>Volume</th>\n",
       "      <th>price_change</th>\n",
       "      <th>price_ch_normal</th>\n",
       "      <th>7_days_MOM</th>\n",
       "      <th>10_days_RSI</th>\n",
       "      <th>10_days_range</th>\n",
       "      <th>10_days_vol</th>\n",
       "      <th>10_days_ma</th>\n",
       "      <th>factor_combined</th>\n",
       "      <th>factor_combined_linear</th>\n",
       "      <th>portfolio value</th>\n",
       "      <th>profit</th>\n",
       "      <th>group</th>\n",
       "    </tr>\n",
       "  </thead>\n",
       "  <tbody>\n",
       "    <tr>\n",
       "      <td>2256</td>\n",
       "      <td>2018-12-19</td>\n",
       "      <td>3042.189941</td>\n",
       "      <td>3063.699951</td>\n",
       "      <td>3042.189941</td>\n",
       "      <td>3051.379883</td>\n",
       "      <td>3051.379883</td>\n",
       "      <td>46652700</td>\n",
       "      <td>11.250000</td>\n",
       "      <td>0.524554</td>\n",
       "      <td>0.613015</td>\n",
       "      <td>0.366580</td>\n",
       "      <td>0.199194</td>\n",
       "      <td>0.469336</td>\n",
       "      <td>-0.095793</td>\n",
       "      <td>1.463871</td>\n",
       "      <td>32.918117</td>\n",
       "      <td>1.060947e+06</td>\n",
       "      <td>-14266.911072</td>\n",
       "      <td>14</td>\n",
       "    </tr>\n",
       "    <tr>\n",
       "      <td>2257</td>\n",
       "      <td>2018-12-20</td>\n",
       "      <td>3031.320068</td>\n",
       "      <td>3031.320068</td>\n",
       "      <td>2993.399902</td>\n",
       "      <td>3000.060059</td>\n",
       "      <td>3000.060059</td>\n",
       "      <td>57123500</td>\n",
       "      <td>-51.319824</td>\n",
       "      <td>0.404339</td>\n",
       "      <td>0.513273</td>\n",
       "      <td>0.398354</td>\n",
       "      <td>0.220311</td>\n",
       "      <td>0.586743</td>\n",
       "      <td>-0.081685</td>\n",
       "      <td>1.528061</td>\n",
       "      <td>40.762001</td>\n",
       "      <td>1.046680e+06</td>\n",
       "      <td>153.463392</td>\n",
       "      <td>15</td>\n",
       "    </tr>\n",
       "    <tr>\n",
       "      <td>2258</td>\n",
       "      <td>2018-12-21</td>\n",
       "      <td>2996.919922</td>\n",
       "      <td>3003.060059</td>\n",
       "      <td>2957.560059</td>\n",
       "      <td>3000.610107</td>\n",
       "      <td>3000.610107</td>\n",
       "      <td>84815000</td>\n",
       "      <td>0.550048</td>\n",
       "      <td>0.503996</td>\n",
       "      <td>0.455308</td>\n",
       "      <td>0.380815</td>\n",
       "      <td>0.289934</td>\n",
       "      <td>0.571185</td>\n",
       "      <td>-0.085142</td>\n",
       "      <td>1.660790</td>\n",
       "      <td>39.362228</td>\n",
       "      <td>1.046834e+06</td>\n",
       "      <td>-17646.750000</td>\n",
       "      <td>16</td>\n",
       "    </tr>\n",
       "    <tr>\n",
       "      <td>2259</td>\n",
       "      <td>2018-12-27</td>\n",
       "      <td>2987.669922</td>\n",
       "      <td>2997.239990</td>\n",
       "      <td>2908.699951</td>\n",
       "      <td>2937.360107</td>\n",
       "      <td>2937.360107</td>\n",
       "      <td>45597600</td>\n",
       "      <td>-63.250000</td>\n",
       "      <td>0.381417</td>\n",
       "      <td>0.380266</td>\n",
       "      <td>0.434497</td>\n",
       "      <td>0.289934</td>\n",
       "      <td>0.567732</td>\n",
       "      <td>-0.067064</td>\n",
       "      <td>1.606516</td>\n",
       "      <td>40.934374</td>\n",
       "      <td>1.029187e+06</td>\n",
       "      <td>13767.578160</td>\n",
       "      <td>16</td>\n",
       "    </tr>\n",
       "    <tr>\n",
       "      <td>2260</td>\n",
       "      <td>2018-12-28</td>\n",
       "      <td>2952.050049</td>\n",
       "      <td>2996.169922</td>\n",
       "      <td>2951.510010</td>\n",
       "      <td>2986.530029</td>\n",
       "      <td>2986.530029</td>\n",
       "      <td>32799300</td>\n",
       "      <td>49.169922</td>\n",
       "      <td>0.597410</td>\n",
       "      <td>0.456743</td>\n",
       "      <td>0.409311</td>\n",
       "      <td>0.289934</td>\n",
       "      <td>0.576177</td>\n",
       "      <td>-0.082197</td>\n",
       "      <td>1.790634</td>\n",
       "      <td>40.405508</td>\n",
       "      <td>1.042955e+06</td>\n",
       "      <td>0.000000</td>\n",
       "      <td>17</td>\n",
       "    </tr>\n",
       "  </tbody>\n",
       "</table>\n",
       "</div>"
      ],
      "text/plain": [
       "            Date         Open         High          Low        Close  \\\n",
       "2256  2018-12-19  3042.189941  3063.699951  3042.189941  3051.379883   \n",
       "2257  2018-12-20  3031.320068  3031.320068  2993.399902  3000.060059   \n",
       "2258  2018-12-21  2996.919922  3003.060059  2957.560059  3000.610107   \n",
       "2259  2018-12-27  2987.669922  2997.239990  2908.699951  2937.360107   \n",
       "2260  2018-12-28  2952.050049  2996.169922  2951.510010  2986.530029   \n",
       "\n",
       "        Adj Close    Volume  price_change  price_ch_normal  7_days_MOM  \\\n",
       "2256  3051.379883  46652700     11.250000         0.524554    0.613015   \n",
       "2257  3000.060059  57123500    -51.319824         0.404339    0.513273   \n",
       "2258  3000.610107  84815000      0.550048         0.503996    0.455308   \n",
       "2259  2937.360107  45597600    -63.250000         0.381417    0.380266   \n",
       "2260  2986.530029  32799300     49.169922         0.597410    0.456743   \n",
       "\n",
       "      10_days_RSI  10_days_range  10_days_vol  10_days_ma  factor_combined  \\\n",
       "2256     0.366580       0.199194     0.469336   -0.095793         1.463871   \n",
       "2257     0.398354       0.220311     0.586743   -0.081685         1.528061   \n",
       "2258     0.380815       0.289934     0.571185   -0.085142         1.660790   \n",
       "2259     0.434497       0.289934     0.567732   -0.067064         1.606516   \n",
       "2260     0.409311       0.289934     0.576177   -0.082197         1.790634   \n",
       "\n",
       "      factor_combined_linear  portfolio value        profit  group  \n",
       "2256               32.918117     1.060947e+06 -14266.911072     14  \n",
       "2257               40.762001     1.046680e+06    153.463392     15  \n",
       "2258               39.362228     1.046834e+06 -17646.750000     16  \n",
       "2259               40.934374     1.029187e+06  13767.578160     16  \n",
       "2260               40.405508     1.042955e+06      0.000000     17  "
      ]
     },
     "execution_count": 141,
     "metadata": {},
     "output_type": "execute_result"
    }
   ],
   "source": [
    "group = []\n",
    "for i in range(len(stoxx_data)):\n",
    "    group.append(int(stoxx_data.loc[i, \"factor_combined\"] // 0.1))\n",
    "stoxx_data[\"group\"] = group\n",
    "stoxx_data.tail()"
   ]
  },
  {
   "cell_type": "code",
   "execution_count": 143,
   "metadata": {
    "scrolled": true
   },
   "outputs": [
    {
     "name": "stdout",
     "output_type": "stream",
     "text": [
      "-1\n",
      "count    1.0\n",
      "mean     0.0\n",
      "std      NaN\n",
      "min      0.0\n",
      "25%      0.0\n",
      "50%      0.0\n",
      "75%      0.0\n",
      "max      0.0\n",
      "Name: profit, dtype: float64\n"
     ]
    },
    {
     "data": {
      "image/png": "[encoded data removed]",
      "text/plain": [
       "<Figure size 432x288 with 1 Axes>"
      ]
     },
     "metadata": {
      "needs_background": "light"
     },
     "output_type": "display_data"
    },
    {
     "name": "stdout",
     "output_type": "stream",
     "text": [
      "----------------------------\n",
      "0\n",
      "count    8.0\n",
      "mean     0.0\n",
      "std      0.0\n",
      "min      0.0\n",
      "25%      0.0\n",
      "50%      0.0\n",
      "75%      0.0\n",
      "max      0.0\n",
      "Name: profit, dtype: float64\n"
     ]
    },
    {
     "data": {
      "image/png": "[encoded data removed]",
      "text/plain": [
       "<Figure size 432x288 with 1 Axes>"
      ]
     },
     "metadata": {
      "needs_background": "light"
     },
     "output_type": "display_data"
    },
    {
     "name": "stdout",
     "output_type": "stream",
     "text": [
      "----------------------------\n",
      "9\n",
      "count        1.000000\n",
      "mean    -22179.341454\n",
      "std               NaN\n",
      "min     -22179.341454\n",
      "25%     -22179.341454\n",
      "50%     -22179.341454\n",
      "75%     -22179.341454\n",
      "max     -22179.341454\n",
      "Name: profit, dtype: float64\n"
     ]
    },
    {
     "data": {
      "image/png": "[encoded data removed]",
      "text/plain": [
       "<Figure size 432x288 with 1 Axes>"
      ]
     },
     "metadata": {
      "needs_background": "light"
     },
     "output_type": "display_data"
    },
    {
     "name": "stdout",
     "output_type": "stream",
     "text": [
      "----------------------------\n",
      "10\n",
      "count       2.000000\n",
      "mean     2967.546972\n",
      "std      2581.116319\n",
      "min      1142.422120\n",
      "25%      2054.984546\n",
      "50%      2967.546972\n",
      "75%      3880.109398\n",
      "max      4792.671824\n",
      "Name: profit, dtype: float64\n"
     ]
    },
    {
     "data": {
      "image/png": "[encoded data removed]",
      "text/plain": [
       "<Figure size 432x288 with 1 Axes>"
      ]
     },
     "metadata": {
      "needs_background": "light"
     },
     "output_type": "display_data"
    },
    {
     "name": "stdout",
     "output_type": "stream",
     "text": [
      "----------------------------\n",
      "11\n",
      "count       3.000000\n",
      "mean     1353.577553\n",
      "std      5922.156104\n",
      "min     -4498.626287\n",
      "25%     -1641.279169\n",
      "50%      1216.067949\n",
      "75%      4279.679474\n",
      "max      7343.290998\n",
      "Name: profit, dtype: float64\n"
     ]
    },
    {
     "data": {
      "image/png": "[encoded data removed]",
      "text/plain": [
       "<Figure size 432x288 with 1 Axes>"
      ]
     },
     "metadata": {
      "needs_background": "light"
     },
     "output_type": "display_data"
    },
    {
     "name": "stdout",
     "output_type": "stream",
     "text": [
      "----------------------------\n",
      "12\n",
      "count       29.000000\n",
      "mean     -1066.125879\n",
      "std      10883.109005\n",
      "min     -26000.517270\n",
      "25%      -5838.027440\n",
      "50%        428.201138\n",
      "75%       5026.554832\n",
      "max      22561.184112\n",
      "Name: profit, dtype: float64\n"
     ]
    },
    {
     "data": {
      "image/png": "[encoded data removed]",
      "text/plain": [
       "<Figure size 432x288 with 1 Axes>"
      ]
     },
     "metadata": {
      "needs_background": "light"
     },
     "output_type": "display_data"
    },
    {
     "name": "stdout",
     "output_type": "stream",
     "text": [
      "----------------------------\n",
      "13\n",
      "count       84.000000\n",
      "mean     -3641.153248\n",
      "std      12525.642880\n",
      "min     -72510.295263\n",
      "25%      -9456.377521\n",
      "50%         89.118116\n",
      "75%       3136.651565\n",
      "max      20729.822820\n",
      "Name: profit, dtype: float64\n"
     ]
    },
    {
     "data": {
      "image/png": "[encoded data removed]",
      "text/plain": [
       "<Figure size 432x288 with 1 Axes>"
      ]
     },
     "metadata": {
      "needs_background": "light"
     },
     "output_type": "display_data"
    },
    {
     "name": "stdout",
     "output_type": "stream",
     "text": [
      "----------------------------\n",
      "14\n",
      "count      228.000000\n",
      "mean     -3032.610884\n",
      "std       9706.207629\n",
      "min     -33711.032656\n",
      "25%      -8524.129600\n",
      "50%       -749.704200\n",
      "75%       4084.802563\n",
      "max      14169.431320\n",
      "Name: profit, dtype: float64\n"
     ]
    },
    {
     "data": {
      "image/png": "[encoded data removed]",
      "text/plain": [
       "<Figure size 432x288 with 1 Axes>"
      ]
     },
     "metadata": {
      "needs_background": "light"
     },
     "output_type": "display_data"
    },
    {
     "name": "stdout",
     "output_type": "stream",
     "text": [
      "----------------------------\n",
      "15\n",
      "count      325.000000\n",
      "mean     -1660.127043\n",
      "std       9956.919812\n",
      "min     -31227.693852\n",
      "25%      -7924.778492\n",
      "50%        -17.356762\n",
      "75%       4877.004163\n",
      "max      25894.271424\n",
      "Name: profit, dtype: float64\n"
     ]
    },
    {
     "data": {
      "image/png": "[encoded data removed]",
      "text/plain": [
       "<Figure size 432x288 with 1 Axes>"
      ]
     },
     "metadata": {
      "needs_background": "light"
     },
     "output_type": "display_data"
    },
    {
     "name": "stdout",
     "output_type": "stream",
     "text": [
      "----------------------------\n",
      "16\n",
      "count      450.000000\n",
      "mean      -671.385665\n",
      "std       9553.087825\n",
      "min     -40557.077190\n",
      "25%      -5838.560217\n",
      "50%        -82.033235\n",
      "75%       5140.113953\n",
      "max      25210.742740\n",
      "Name: profit, dtype: float64\n"
     ]
    },
    {
     "data": {
      "image/png": "[encoded data removed]",
      "text/plain": [
       "<Figure size 432x288 with 1 Axes>"
      ]
     },
     "metadata": {
      "needs_background": "light"
     },
     "output_type": "display_data"
    },
    {
     "name": "stdout",
     "output_type": "stream",
     "text": [
      "----------------------------\n",
      "17\n",
      "count      370.000000\n",
      "mean       722.647284\n",
      "std       8921.385529\n",
      "min     -47292.671824\n",
      "25%      -4432.908950\n",
      "50%        535.846410\n",
      "75%       5980.882198\n",
      "max      26993.759134\n",
      "Name: profit, dtype: float64\n"
     ]
    },
    {
     "data": {
      "image/png": "[encoded data removed]",
      "text/plain": [
       "<Figure size 432x288 with 1 Axes>"
      ]
     },
     "metadata": {
      "needs_background": "light"
     },
     "output_type": "display_data"
    },
    {
     "name": "stdout",
     "output_type": "stream",
     "text": [
      "----------------------------\n",
      "18\n",
      "count      323.000000\n",
      "mean      2166.156735\n",
      "std       9653.524678\n",
      "min     -35890.137426\n",
      "25%      -2745.596547\n",
      "50%        658.285152\n",
      "75%       6898.224946\n",
      "max      39233.012922\n",
      "Name: profit, dtype: float64\n"
     ]
    },
    {
     "data": {
      "image/png": "[encoded data removed]",
      "text/plain": [
       "<Figure size 432x288 with 1 Axes>"
      ]
     },
     "metadata": {
      "needs_background": "light"
     },
     "output_type": "display_data"
    },
    {
     "name": "stdout",
     "output_type": "stream",
     "text": [
      "----------------------------\n",
      "19\n",
      "count      191.000000\n",
      "mean      2230.388106\n",
      "std       9090.639839\n",
      "min     -25165.188048\n",
      "25%      -2795.942677\n",
      "50%       1344.152292\n",
      "75%       6807.764082\n",
      "max      32539.899714\n",
      "Name: profit, dtype: float64\n"
     ]
    },
    {
     "data": {
      "image/png": "[encoded data removed]",
      "text/plain": [
       "<Figure size 432x288 with 1 Axes>"
      ]
     },
     "metadata": {
      "needs_background": "light"
     },
     "output_type": "display_data"
    },
    {
     "name": "stdout",
     "output_type": "stream",
     "text": [
      "----------------------------\n",
      "20\n",
      "count      128.000000\n",
      "mean      2190.543339\n",
      "std      10395.712159\n",
      "min     -35008.982496\n",
      "25%      -3054.541863\n",
      "50%       1334.093175\n",
      "75%       7712.848308\n",
      "max      37592.365092\n",
      "Name: profit, dtype: float64\n"
     ]
    },
    {
     "data": {
      "image/png": "[encoded data removed]",
      "text/plain": [
       "<Figure size 432x288 with 1 Axes>"
      ]
     },
     "metadata": {
      "needs_background": "light"
     },
     "output_type": "display_data"
    },
    {
     "name": "stdout",
     "output_type": "stream",
     "text": [
      "----------------------------\n",
      "21\n",
      "count       67.000000\n",
      "mean      2487.268431\n",
      "std      12875.580227\n",
      "min     -25148.397150\n",
      "25%      -3500.914024\n",
      "50%        387.725800\n",
      "75%       6038.304366\n",
      "max      40713.780681\n",
      "Name: profit, dtype: float64\n"
     ]
    },
    {
     "data": {
      "image/png": "[encoded data removed]",
      "text/plain": [
       "<Figure size 432x288 with 1 Axes>"
      ]
     },
     "metadata": {
      "needs_background": "light"
     },
     "output_type": "display_data"
    },
    {
     "name": "stdout",
     "output_type": "stream",
     "text": [
      "----------------------------\n",
      "22\n",
      "count       26.000000\n",
      "mean      1829.272081\n",
      "std      11337.308044\n",
      "min     -22004.773616\n",
      "25%      -3291.675772\n",
      "50%        566.495065\n",
      "75%       7443.577389\n",
      "max      30043.663377\n",
      "Name: profit, dtype: float64\n"
     ]
    },
    {
     "data": {
      "image/png": "[encoded data removed]",
      "text/plain": [
       "<Figure size 432x288 with 1 Axes>"
      ]
     },
     "metadata": {
      "needs_background": "light"
     },
     "output_type": "display_data"
    },
    {
     "name": "stdout",
     "output_type": "stream",
     "text": [
      "----------------------------\n",
      "23\n",
      "count       14.000000\n",
      "mean       824.686271\n",
      "std      10939.338688\n",
      "min     -23990.380960\n",
      "25%      -3552.617583\n",
      "50%         72.358469\n",
      "75%       4764.016406\n",
      "max      26645.236830\n",
      "Name: profit, dtype: float64\n"
     ]
    },
    {
     "data": {
      "image/png": "[encoded data removed]",
      "text/plain": [
       "<Figure size 432x288 with 1 Axes>"
      ]
     },
     "metadata": {
      "needs_background": "light"
     },
     "output_type": "display_data"
    },
    {
     "name": "stdout",
     "output_type": "stream",
     "text": [
      "----------------------------\n",
      "24\n",
      "count        6.000000\n",
      "mean        86.483971\n",
      "std      13191.062074\n",
      "min     -21808.204737\n",
      "25%      -3321.237226\n",
      "50%        350.174762\n",
      "75%       6608.025368\n",
      "max      17477.824694\n",
      "Name: profit, dtype: float64\n"
     ]
    },
    {
     "data": {
      "image/png": "[encoded data removed]",
      "text/plain": [
       "<Figure size 432x288 with 1 Axes>"
      ]
     },
     "metadata": {
      "needs_background": "light"
     },
     "output_type": "display_data"
    },
    {
     "name": "stdout",
     "output_type": "stream",
     "text": [
      "----------------------------\n",
      "25\n",
      "count        4.000000\n",
      "mean      8284.868711\n",
      "std      46759.194503\n",
      "min     -35987.677812\n",
      "25%     -18677.505595\n",
      "50%      -1785.173193\n",
      "75%      25177.201113\n",
      "max      72697.499041\n",
      "Name: profit, dtype: float64\n"
     ]
    },
    {
     "data": {
      "image/png": "[encoded data removed]",
      "text/plain": [
       "<Figure size 432x288 with 1 Axes>"
      ]
     },
     "metadata": {
      "needs_background": "light"
     },
     "output_type": "display_data"
    },
    {
     "name": "stdout",
     "output_type": "stream",
     "text": [
      "----------------------------\n",
      "32\n",
      "count       1.000000\n",
      "mean    -7841.135988\n",
      "std              NaN\n",
      "min     -7841.135988\n",
      "25%     -7841.135988\n",
      "50%     -7841.135988\n",
      "75%     -7841.135988\n",
      "max     -7841.135988\n",
      "Name: profit, dtype: float64\n"
     ]
    },
    {
     "data": {
      "image/png": "[encoded data removed]",
      "text/plain": [
       "<Figure size 432x288 with 1 Axes>"
      ]
     },
     "metadata": {
      "needs_background": "light"
     },
     "output_type": "display_data"
    },
    {
     "name": "stdout",
     "output_type": "stream",
     "text": [
      "----------------------------\n"
     ]
    }
   ],
   "source": [
    "for name, group in stoxx_data[\"profit\"].groupby(stoxx_data[\"group\"]):\n",
    "    print(name)\n",
    "    print(group.describe())\n",
    "    plt.hist(group, bins = len(group))\n",
    "    plt.show()\n",
    "    print(\"----------------------------\")"
   ]
  },
  {
   "cell_type": "code",
   "execution_count": 67,
   "metadata": {},
   "outputs": [
    {
     "data": {
      "text/html": [
       "<div>\n",
       "<style scoped>\n",
       "    .dataframe tbody tr th:only-of-type {\n",
       "        vertical-align: middle;\n",
       "    }\n",
       "\n",
       "    .dataframe tbody tr th {\n",
       "        vertical-align: top;\n",
       "    }\n",
       "\n",
       "    .dataframe thead th {\n",
       "        text-align: right;\n",
       "    }\n",
       "</style>\n",
       "<table border=\"1\" class=\"dataframe\">\n",
       "  <thead>\n",
       "    <tr style=\"text-align: right;\">\n",
       "      <th></th>\n",
       "      <th>Date</th>\n",
       "      <th>Open</th>\n",
       "      <th>High</th>\n",
       "      <th>Low</th>\n",
       "      <th>Close</th>\n",
       "      <th>Adj Close</th>\n",
       "      <th>Volume</th>\n",
       "      <th>price_change</th>\n",
       "      <th>price_ch_normal</th>\n",
       "      <th>10_days_RSI</th>\n",
       "      <th>10_days_range</th>\n",
       "      <th>10_days_vol</th>\n",
       "      <th>10_days_ma</th>\n",
       "      <th>factor_combined</th>\n",
       "      <th>factor_combined_linear</th>\n",
       "      <th>portfolio value</th>\n",
       "      <th>profit</th>\n",
       "      <th>group</th>\n",
       "    </tr>\n",
       "  </thead>\n",
       "  <tbody>\n",
       "    <tr>\n",
       "      <td>462</td>\n",
       "      <td>2011-10-27</td>\n",
       "      <td>2361.679932</td>\n",
       "      <td>2482.919922</td>\n",
       "      <td>2361.679932</td>\n",
       "      <td>2476.919922</td>\n",
       "      <td>2476.919922</td>\n",
       "      <td>0</td>\n",
       "      <td>141.859863</td>\n",
       "      <td>0.775495</td>\n",
       "      <td>0.727272</td>\n",
       "      <td>0.334079</td>\n",
       "      <td>0.722192</td>\n",
       "      <td>-0.134399</td>\n",
       "      <td>2.424639</td>\n",
       "      <td>54.890586</td>\n",
       "      <td>1.544907e+06</td>\n",
       "      <td>-7250.787870</td>\n",
       "      <td>24</td>\n",
       "    </tr>\n",
       "    <tr>\n",
       "      <td>1845</td>\n",
       "      <td>2017-05-04</td>\n",
       "      <td>3591.790039</td>\n",
       "      <td>3627.879883</td>\n",
       "      <td>3590.239990</td>\n",
       "      <td>3627.879883</td>\n",
       "      <td>3627.879883</td>\n",
       "      <td>52783900</td>\n",
       "      <td>41.629883</td>\n",
       "      <td>0.582923</td>\n",
       "      <td>0.852577</td>\n",
       "      <td>0.356793</td>\n",
       "      <td>0.782140</td>\n",
       "      <td>-0.117332</td>\n",
       "      <td>2.457101</td>\n",
       "      <td>61.760095</td>\n",
       "      <td>5.858890e+06</td>\n",
       "      <td>39905.011396</td>\n",
       "      <td>24</td>\n",
       "    </tr>\n",
       "    <tr>\n",
       "      <td>146</td>\n",
       "      <td>2010-08-02</td>\n",
       "      <td>2756.000000</td>\n",
       "      <td>2826.030029</td>\n",
       "      <td>2756.000000</td>\n",
       "      <td>2822.169922</td>\n",
       "      <td>2822.169922</td>\n",
       "      <td>0</td>\n",
       "      <td>80.030029</td>\n",
       "      <td>0.656702</td>\n",
       "      <td>0.878643</td>\n",
       "      <td>0.335832</td>\n",
       "      <td>0.710041</td>\n",
       "      <td>-0.123198</td>\n",
       "      <td>2.458019</td>\n",
       "      <td>58.104063</td>\n",
       "      <td>1.203668e+06</td>\n",
       "      <td>-1091.183291</td>\n",
       "      <td>24</td>\n",
       "    </tr>\n",
       "    <tr>\n",
       "      <td>1419</td>\n",
       "      <td>2015-08-27</td>\n",
       "      <td>3220.110107</td>\n",
       "      <td>3301.139893</td>\n",
       "      <td>3220.110107</td>\n",
       "      <td>3280.780029</td>\n",
       "      <td>3280.780029</td>\n",
       "      <td>65391700</td>\n",
       "      <td>110.050049</td>\n",
       "      <td>0.714379</td>\n",
       "      <td>0.512879</td>\n",
       "      <td>0.747727</td>\n",
       "      <td>0.600985</td>\n",
       "      <td>-0.085569</td>\n",
       "      <td>2.490402</td>\n",
       "      <td>44.195294</td>\n",
       "      <td>3.727041e+06</td>\n",
       "      <td>5275.533572</td>\n",
       "      <td>24</td>\n",
       "    </tr>\n",
       "    <tr>\n",
       "      <td>93</td>\n",
       "      <td>2010-05-18</td>\n",
       "      <td>2655.870117</td>\n",
       "      <td>2713.469971</td>\n",
       "      <td>2655.870117</td>\n",
       "      <td>2698.209961</td>\n",
       "      <td>2698.209961</td>\n",
       "      <td>0</td>\n",
       "      <td>62.869873</td>\n",
       "      <td>0.623732</td>\n",
       "      <td>0.560485</td>\n",
       "      <td>0.454658</td>\n",
       "      <td>0.963401</td>\n",
       "      <td>-0.107211</td>\n",
       "      <td>2.495065</td>\n",
       "      <td>65.433596</td>\n",
       "      <td>1.122545e+06</td>\n",
       "      <td>-26138.353692</td>\n",
       "      <td>24</td>\n",
       "    </tr>\n",
       "    <tr>\n",
       "      <td>1417</td>\n",
       "      <td>2015-08-25</td>\n",
       "      <td>3105.520020</td>\n",
       "      <td>3237.520020</td>\n",
       "      <td>3105.479980</td>\n",
       "      <td>3218.010010</td>\n",
       "      <td>3218.010010</td>\n",
       "      <td>103513400</td>\n",
       "      <td>144.620117</td>\n",
       "      <td>0.780799</td>\n",
       "      <td>0.467065</td>\n",
       "      <td>0.773732</td>\n",
       "      <td>0.593584</td>\n",
       "      <td>-0.055035</td>\n",
       "      <td>2.560145</td>\n",
       "      <td>43.512847</td>\n",
       "      <td>3.669575e+06</td>\n",
       "      <td>-43119.387360</td>\n",
       "      <td>25</td>\n",
       "    </tr>\n",
       "    <tr>\n",
       "      <td>89</td>\n",
       "      <td>2010-05-11</td>\n",
       "      <td>2728.310059</td>\n",
       "      <td>2733.139893</td>\n",
       "      <td>2671.659912</td>\n",
       "      <td>2730.479980</td>\n",
       "      <td>2730.479980</td>\n",
       "      <td>0</td>\n",
       "      <td>-28.409913</td>\n",
       "      <td>0.448356</td>\n",
       "      <td>0.724838</td>\n",
       "      <td>0.507310</td>\n",
       "      <td>0.979946</td>\n",
       "      <td>-0.098839</td>\n",
       "      <td>2.561611</td>\n",
       "      <td>70.517655</td>\n",
       "      <td>1.133034e+06</td>\n",
       "      <td>11197.756149</td>\n",
       "      <td>25</td>\n",
       "    </tr>\n",
       "    <tr>\n",
       "      <td>90</td>\n",
       "      <td>2010-05-12</td>\n",
       "      <td>2723.239990</td>\n",
       "      <td>2787.639893</td>\n",
       "      <td>2695.909912</td>\n",
       "      <td>2764.310059</td>\n",
       "      <td>2764.310059</td>\n",
       "      <td>0</td>\n",
       "      <td>33.830079</td>\n",
       "      <td>0.567937</td>\n",
       "      <td>0.682507</td>\n",
       "      <td>0.507310</td>\n",
       "      <td>0.926022</td>\n",
       "      <td>-0.113153</td>\n",
       "      <td>2.570624</td>\n",
       "      <td>66.041771</td>\n",
       "      <td>1.144232e+06</td>\n",
       "      <td>-43159.135347</td>\n",
       "      <td>25</td>\n",
       "    </tr>\n",
       "    <tr>\n",
       "      <td>87</td>\n",
       "      <td>2010-05-07</td>\n",
       "      <td>2563.629883</td>\n",
       "      <td>2611.979980</td>\n",
       "      <td>2472.100098</td>\n",
       "      <td>2500.179932</td>\n",
       "      <td>2500.179932</td>\n",
       "      <td>0</td>\n",
       "      <td>-111.229980</td>\n",
       "      <td>0.289233</td>\n",
       "      <td>0.679051</td>\n",
       "      <td>0.676765</td>\n",
       "      <td>0.967493</td>\n",
       "      <td>-0.022094</td>\n",
       "      <td>2.590447</td>\n",
       "      <td>70.804289</td>\n",
       "      <td>1.055252e+06</td>\n",
       "      <td>87185.256857</td>\n",
       "      <td>25</td>\n",
       "    </tr>\n",
       "    <tr>\n",
       "      <td>88</td>\n",
       "      <td>2010-05-10</td>\n",
       "      <td>2534.810059</td>\n",
       "      <td>2758.889893</td>\n",
       "      <td>2531.429932</td>\n",
       "      <td>2758.889893</td>\n",
       "      <td>2758.889893</td>\n",
       "      <td>0</td>\n",
       "      <td>258.709961</td>\n",
       "      <td>1.000000</td>\n",
       "      <td>0.764407</td>\n",
       "      <td>0.631309</td>\n",
       "      <td>1.000000</td>\n",
       "      <td>-0.105308</td>\n",
       "      <td>3.290409</td>\n",
       "      <td>72.428523</td>\n",
       "      <td>1.142438e+06</td>\n",
       "      <td>-9403.681203</td>\n",
       "      <td>32</td>\n",
       "    </tr>\n",
       "  </tbody>\n",
       "</table>\n",
       "</div>"
      ],
      "text/plain": [
       "            Date         Open         High          Low        Close  \\\n",
       "462   2011-10-27  2361.679932  2482.919922  2361.679932  2476.919922   \n",
       "1845  2017-05-04  3591.790039  3627.879883  3590.239990  3627.879883   \n",
       "146   2010-08-02  2756.000000  2826.030029  2756.000000  2822.169922   \n",
       "1419  2015-08-27  3220.110107  3301.139893  3220.110107  3280.780029   \n",
       "93    2010-05-18  2655.870117  2713.469971  2655.870117  2698.209961   \n",
       "1417  2015-08-25  3105.520020  3237.520020  3105.479980  3218.010010   \n",
       "89    2010-05-11  2728.310059  2733.139893  2671.659912  2730.479980   \n",
       "90    2010-05-12  2723.239990  2787.639893  2695.909912  2764.310059   \n",
       "87    2010-05-07  2563.629883  2611.979980  2472.100098  2500.179932   \n",
       "88    2010-05-10  2534.810059  2758.889893  2531.429932  2758.889893   \n",
       "\n",
       "        Adj Close     Volume  price_change  price_ch_normal  10_days_RSI  \\\n",
       "462   2476.919922          0    141.859863         0.775495     0.727272   \n",
       "1845  3627.879883   52783900     41.629883         0.582923     0.852577   \n",
       "146   2822.169922          0     80.030029         0.656702     0.878643   \n",
       "1419  3280.780029   65391700    110.050049         0.714379     0.512879   \n",
       "93    2698.209961          0     62.869873         0.623732     0.560485   \n",
       "1417  3218.010010  103513400    144.620117         0.780799     0.467065   \n",
       "89    2730.479980          0    -28.409913         0.448356     0.724838   \n",
       "90    2764.310059          0     33.830079         0.567937     0.682507   \n",
       "87    2500.179932          0   -111.229980         0.289233     0.679051   \n",
       "88    2758.889893          0    258.709961         1.000000     0.764407   \n",
       "\n",
       "      10_days_range  10_days_vol  10_days_ma  factor_combined  \\\n",
       "462        0.334079     0.722192   -0.134399         2.424639   \n",
       "1845       0.356793     0.782140   -0.117332         2.457101   \n",
       "146        0.335832     0.710041   -0.123198         2.458019   \n",
       "1419       0.747727     0.600985   -0.085569         2.490402   \n",
       "93         0.454658     0.963401   -0.107211         2.495065   \n",
       "1417       0.773732     0.593584   -0.055035         2.560145   \n",
       "89         0.507310     0.979946   -0.098839         2.561611   \n",
       "90         0.507310     0.926022   -0.113153         2.570624   \n",
       "87         0.676765     0.967493   -0.022094         2.590447   \n",
       "88         0.631309     1.000000   -0.105308         3.290409   \n",
       "\n",
       "      factor_combined_linear  portfolio value        profit  group  \n",
       "462                54.890586     1.544907e+06  -7250.787870     24  \n",
       "1845               61.760095     5.858890e+06  39905.011396     24  \n",
       "146                58.104063     1.203668e+06  -1091.183291     24  \n",
       "1419               44.195294     3.727041e+06   5275.533572     24  \n",
       "93                 65.433596     1.122545e+06 -26138.353692     24  \n",
       "1417               43.512847     3.669575e+06 -43119.387360     25  \n",
       "89                 70.517655     1.133034e+06  11197.756149     25  \n",
       "90                 66.041771     1.144232e+06 -43159.135347     25  \n",
       "87                 70.804289     1.055252e+06  87185.256857     25  \n",
       "88                 72.428523     1.142438e+06  -9403.681203     32  "
      ]
     },
     "execution_count": 67,
     "metadata": {},
     "output_type": "execute_result"
    }
   ],
   "source": [
    "stoxx_data.sort_values(\"factor_combined\").tail(10)"
   ]
  },
  {
   "cell_type": "code",
   "execution_count": 147,
   "metadata": {},
   "outputs": [
    {
     "data": {
      "image/png": "[encoded data removed]",
      "text/plain": [
       "<Figure size 3000x1500 with 1 Axes>"
      ]
     },
     "metadata": {
      "needs_background": "light"
     },
     "output_type": "display_data"
    }
   ],
   "source": [
    "plt.figure(figsize=(30, 15), dpi=100)\n",
    "plt.tick_params(labelsize=30)\n",
    "plt.plot(cum_profit)\n",
    "plt.show()"
   ]
  }
 ],
 "metadata": {
  "kernelspec": {
   "display_name": "Python 3",
   "language": "python",
   "name": "python3"
  },
  "language_info": {
   "codemirror_mode": {
    "name": "ipython",
    "version": 3
   },
   "file_extension": ".py",
   "mimetype": "text/x-python",
   "name": "python",
   "nbconvert_exporter": "python",
   "pygments_lexer": "ipython3",
   "version": "3.7.7"
  }
 },
 "nbformat": 4,
 "nbformat_minor": 2
}
