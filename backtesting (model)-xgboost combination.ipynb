{
 "cells": [
  {
   "cell_type": "code",
   "execution_count": 1,
   "metadata": {},
   "outputs": [
    {
     "data": {
      "text/plain": [
       "'/Users/lexinyi/Documents/southern ridges competition/(final submit) southern ridges quant competition/Southern ridges competition submit/Model Code'"
      ]
     },
     "execution_count": 1,
     "metadata": {},
     "output_type": "execute_result"
    }
   ],
   "source": [
    "import os\n",
    "os.getcwd()"
   ]
  },
  {
   "cell_type": "code",
   "execution_count": 2,
   "metadata": {},
   "outputs": [],
   "source": [
    "import pandas as pd\n",
    "import numpy as np\n",
    "from scipy import stats\n",
    "import matplotlib.pyplot as plt\n",
    "import seaborn as sns"
   ]
  },
  {
   "cell_type": "code",
   "execution_count": 4,
   "metadata": {},
   "outputs": [
    {
     "data": {
      "text/html": [
       "<div>\n",
       "<style scoped>\n",
       "    .dataframe tbody tr th:only-of-type {\n",
       "        vertical-align: middle;\n",
       "    }\n",
       "\n",
       "    .dataframe tbody tr th {\n",
       "        vertical-align: top;\n",
       "    }\n",
       "\n",
       "    .dataframe thead th {\n",
       "        text-align: right;\n",
       "    }\n",
       "</style>\n",
       "<table border=\"1\" class=\"dataframe\">\n",
       "  <thead>\n",
       "    <tr style=\"text-align: right;\">\n",
       "      <th></th>\n",
       "      <th>Date</th>\n",
       "      <th>Open</th>\n",
       "      <th>High</th>\n",
       "      <th>Low</th>\n",
       "      <th>Close</th>\n",
       "      <th>Adj Close</th>\n",
       "      <th>Volume</th>\n",
       "    </tr>\n",
       "  </thead>\n",
       "  <tbody>\n",
       "    <tr>\n",
       "      <td>0</td>\n",
       "      <td>2010-01-04</td>\n",
       "      <td>2974.860107</td>\n",
       "      <td>3017.800049</td>\n",
       "      <td>2974.860107</td>\n",
       "      <td>3017.800049</td>\n",
       "      <td>3017.800049</td>\n",
       "      <td>0</td>\n",
       "    </tr>\n",
       "    <tr>\n",
       "      <td>1</td>\n",
       "      <td>2010-01-05</td>\n",
       "      <td>3016.639893</td>\n",
       "      <td>3025.600098</td>\n",
       "      <td>3006.469971</td>\n",
       "      <td>3012.360107</td>\n",
       "      <td>3012.360107</td>\n",
       "      <td>0</td>\n",
       "    </tr>\n",
       "    <tr>\n",
       "      <td>2</td>\n",
       "      <td>2010-01-06</td>\n",
       "      <td>3010.889893</td>\n",
       "      <td>3016.830078</td>\n",
       "      <td>2997.050049</td>\n",
       "      <td>3009.659912</td>\n",
       "      <td>3009.659912</td>\n",
       "      <td>0</td>\n",
       "    </tr>\n",
       "    <tr>\n",
       "      <td>3</td>\n",
       "      <td>2010-01-07</td>\n",
       "      <td>3000.139893</td>\n",
       "      <td>3013.899902</td>\n",
       "      <td>2979.800049</td>\n",
       "      <td>3007.340088</td>\n",
       "      <td>3007.340088</td>\n",
       "      <td>0</td>\n",
       "    </tr>\n",
       "    <tr>\n",
       "      <td>4</td>\n",
       "      <td>2010-01-08</td>\n",
       "      <td>3012.969971</td>\n",
       "      <td>3024.580078</td>\n",
       "      <td>2993.729980</td>\n",
       "      <td>3017.850098</td>\n",
       "      <td>3017.850098</td>\n",
       "      <td>0</td>\n",
       "    </tr>\n",
       "    <tr>\n",
       "      <td>...</td>\n",
       "      <td>...</td>\n",
       "      <td>...</td>\n",
       "      <td>...</td>\n",
       "      <td>...</td>\n",
       "      <td>...</td>\n",
       "      <td>...</td>\n",
       "      <td>...</td>\n",
       "    </tr>\n",
       "    <tr>\n",
       "      <td>2256</td>\n",
       "      <td>2018-12-19</td>\n",
       "      <td>3042.189941</td>\n",
       "      <td>3063.699951</td>\n",
       "      <td>3042.189941</td>\n",
       "      <td>3051.379883</td>\n",
       "      <td>3051.379883</td>\n",
       "      <td>46652700</td>\n",
       "    </tr>\n",
       "    <tr>\n",
       "      <td>2257</td>\n",
       "      <td>2018-12-20</td>\n",
       "      <td>3031.320068</td>\n",
       "      <td>3031.320068</td>\n",
       "      <td>2993.399902</td>\n",
       "      <td>3000.060059</td>\n",
       "      <td>3000.060059</td>\n",
       "      <td>57123500</td>\n",
       "    </tr>\n",
       "    <tr>\n",
       "      <td>2258</td>\n",
       "      <td>2018-12-21</td>\n",
       "      <td>2996.919922</td>\n",
       "      <td>3003.060059</td>\n",
       "      <td>2957.560059</td>\n",
       "      <td>3000.610107</td>\n",
       "      <td>3000.610107</td>\n",
       "      <td>84815000</td>\n",
       "    </tr>\n",
       "    <tr>\n",
       "      <td>2259</td>\n",
       "      <td>2018-12-27</td>\n",
       "      <td>2987.669922</td>\n",
       "      <td>2997.239990</td>\n",
       "      <td>2908.699951</td>\n",
       "      <td>2937.360107</td>\n",
       "      <td>2937.360107</td>\n",
       "      <td>45597600</td>\n",
       "    </tr>\n",
       "    <tr>\n",
       "      <td>2260</td>\n",
       "      <td>2018-12-28</td>\n",
       "      <td>2952.050049</td>\n",
       "      <td>2996.169922</td>\n",
       "      <td>2951.510010</td>\n",
       "      <td>2986.530029</td>\n",
       "      <td>2986.530029</td>\n",
       "      <td>32799300</td>\n",
       "    </tr>\n",
       "  </tbody>\n",
       "</table>\n",
       "<p>2261 rows × 7 columns</p>\n",
       "</div>"
      ],
      "text/plain": [
       "            Date         Open         High          Low        Close  \\\n",
       "0     2010-01-04  2974.860107  3017.800049  2974.860107  3017.800049   \n",
       "1     2010-01-05  3016.639893  3025.600098  3006.469971  3012.360107   \n",
       "2     2010-01-06  3010.889893  3016.830078  2997.050049  3009.659912   \n",
       "3     2010-01-07  3000.139893  3013.899902  2979.800049  3007.340088   \n",
       "4     2010-01-08  3012.969971  3024.580078  2993.729980  3017.850098   \n",
       "...          ...          ...          ...          ...          ...   \n",
       "2256  2018-12-19  3042.189941  3063.699951  3042.189941  3051.379883   \n",
       "2257  2018-12-20  3031.320068  3031.320068  2993.399902  3000.060059   \n",
       "2258  2018-12-21  2996.919922  3003.060059  2957.560059  3000.610107   \n",
       "2259  2018-12-27  2987.669922  2997.239990  2908.699951  2937.360107   \n",
       "2260  2018-12-28  2952.050049  2996.169922  2951.510010  2986.530029   \n",
       "\n",
       "        Adj Close    Volume  \n",
       "0     3017.800049         0  \n",
       "1     3012.360107         0  \n",
       "2     3009.659912         0  \n",
       "3     3007.340088         0  \n",
       "4     3017.850098         0  \n",
       "...           ...       ...  \n",
       "2256  3051.379883  46652700  \n",
       "2257  3000.060059  57123500  \n",
       "2258  3000.610107  84815000  \n",
       "2259  2937.360107  45597600  \n",
       "2260  2986.530029  32799300  \n",
       "\n",
       "[2261 rows x 7 columns]"
      ]
     },
     "execution_count": 4,
     "metadata": {},
     "output_type": "execute_result"
    }
   ],
   "source": [
    "stoxx_data = pd.read_csv(\"../Model Data/stoxx_till_2018.csv\")\n",
    "stoxx_data"
   ]
  },
  {
   "cell_type": "markdown",
   "metadata": {},
   "source": [
    "这里我们构建反转指标，这是一个反向指标"
   ]
  },
  {
   "cell_type": "code",
   "execution_count": 5,
   "metadata": {},
   "outputs": [
    {
     "name": "stdout",
     "output_type": "stream",
     "text": [
      "1       -5.439942\n",
      "2       -2.700195\n",
      "3       -2.319824\n",
      "4       10.510010\n",
      "5       -7.610108\n",
      "          ...    \n",
      "2256    11.250000\n",
      "2257   -51.319824\n",
      "2258     0.550048\n",
      "2259   -63.250000\n",
      "2260    49.169922\n",
      "Name: Close, Length: 2260, dtype: float64\n"
     ]
    },
    {
     "data": {
      "text/html": [
       "<div>\n",
       "<style scoped>\n",
       "    .dataframe tbody tr th:only-of-type {\n",
       "        vertical-align: middle;\n",
       "    }\n",
       "\n",
       "    .dataframe tbody tr th {\n",
       "        vertical-align: top;\n",
       "    }\n",
       "\n",
       "    .dataframe thead th {\n",
       "        text-align: right;\n",
       "    }\n",
       "</style>\n",
       "<table border=\"1\" class=\"dataframe\">\n",
       "  <thead>\n",
       "    <tr style=\"text-align: right;\">\n",
       "      <th></th>\n",
       "      <th>Date</th>\n",
       "      <th>Open</th>\n",
       "      <th>High</th>\n",
       "      <th>Low</th>\n",
       "      <th>Close</th>\n",
       "      <th>Adj Close</th>\n",
       "      <th>Volume</th>\n",
       "      <th>price_change</th>\n",
       "    </tr>\n",
       "  </thead>\n",
       "  <tbody>\n",
       "    <tr>\n",
       "      <td>2256</td>\n",
       "      <td>2018-12-19</td>\n",
       "      <td>3042.189941</td>\n",
       "      <td>3063.699951</td>\n",
       "      <td>3042.189941</td>\n",
       "      <td>3051.379883</td>\n",
       "      <td>3051.379883</td>\n",
       "      <td>46652700</td>\n",
       "      <td>11.250000</td>\n",
       "    </tr>\n",
       "    <tr>\n",
       "      <td>2257</td>\n",
       "      <td>2018-12-20</td>\n",
       "      <td>3031.320068</td>\n",
       "      <td>3031.320068</td>\n",
       "      <td>2993.399902</td>\n",
       "      <td>3000.060059</td>\n",
       "      <td>3000.060059</td>\n",
       "      <td>57123500</td>\n",
       "      <td>-51.319824</td>\n",
       "    </tr>\n",
       "    <tr>\n",
       "      <td>2258</td>\n",
       "      <td>2018-12-21</td>\n",
       "      <td>2996.919922</td>\n",
       "      <td>3003.060059</td>\n",
       "      <td>2957.560059</td>\n",
       "      <td>3000.610107</td>\n",
       "      <td>3000.610107</td>\n",
       "      <td>84815000</td>\n",
       "      <td>0.550048</td>\n",
       "    </tr>\n",
       "    <tr>\n",
       "      <td>2259</td>\n",
       "      <td>2018-12-27</td>\n",
       "      <td>2987.669922</td>\n",
       "      <td>2997.239990</td>\n",
       "      <td>2908.699951</td>\n",
       "      <td>2937.360107</td>\n",
       "      <td>2937.360107</td>\n",
       "      <td>45597600</td>\n",
       "      <td>-63.250000</td>\n",
       "    </tr>\n",
       "    <tr>\n",
       "      <td>2260</td>\n",
       "      <td>2018-12-28</td>\n",
       "      <td>2952.050049</td>\n",
       "      <td>2996.169922</td>\n",
       "      <td>2951.510010</td>\n",
       "      <td>2986.530029</td>\n",
       "      <td>2986.530029</td>\n",
       "      <td>32799300</td>\n",
       "      <td>49.169922</td>\n",
       "    </tr>\n",
       "  </tbody>\n",
       "</table>\n",
       "</div>"
      ],
      "text/plain": [
       "            Date         Open         High          Low        Close  \\\n",
       "2256  2018-12-19  3042.189941  3063.699951  3042.189941  3051.379883   \n",
       "2257  2018-12-20  3031.320068  3031.320068  2993.399902  3000.060059   \n",
       "2258  2018-12-21  2996.919922  3003.060059  2957.560059  3000.610107   \n",
       "2259  2018-12-27  2987.669922  2997.239990  2908.699951  2937.360107   \n",
       "2260  2018-12-28  2952.050049  2996.169922  2951.510010  2986.530029   \n",
       "\n",
       "        Adj Close    Volume  price_change  \n",
       "2256  3051.379883  46652700     11.250000  \n",
       "2257  3000.060059  57123500    -51.319824  \n",
       "2258  3000.610107  84815000      0.550048  \n",
       "2259  2937.360107  45597600    -63.250000  \n",
       "2260  2986.530029  32799300     49.169922  "
      ]
     },
     "execution_count": 5,
     "metadata": {},
     "output_type": "execute_result"
    }
   ],
   "source": [
    "price_change = (stoxx_data[\"Close\"]-stoxx_data[\"Close\"].shift(1))\n",
    "stoxx_data[\"price_change\"] = price_change\n",
    "stoxx_data.loc[0, \"price_change\"] = 0\n",
    "price_change = price_change[1: ]\n",
    "print(price_change)\n",
    "stoxx_data.tail()"
   ]
  },
  {
   "cell_type": "code",
   "execution_count": 6,
   "metadata": {},
   "outputs": [
    {
     "data": {
      "text/html": [
       "<div>\n",
       "<style scoped>\n",
       "    .dataframe tbody tr th:only-of-type {\n",
       "        vertical-align: middle;\n",
       "    }\n",
       "\n",
       "    .dataframe tbody tr th {\n",
       "        vertical-align: top;\n",
       "    }\n",
       "\n",
       "    .dataframe thead th {\n",
       "        text-align: right;\n",
       "    }\n",
       "</style>\n",
       "<table border=\"1\" class=\"dataframe\">\n",
       "  <thead>\n",
       "    <tr style=\"text-align: right;\">\n",
       "      <th></th>\n",
       "      <th>Date</th>\n",
       "      <th>Open</th>\n",
       "      <th>High</th>\n",
       "      <th>Low</th>\n",
       "      <th>Close</th>\n",
       "      <th>Adj Close</th>\n",
       "      <th>Volume</th>\n",
       "      <th>price_change</th>\n",
       "      <th>price_ch_normal</th>\n",
       "    </tr>\n",
       "  </thead>\n",
       "  <tbody>\n",
       "    <tr>\n",
       "      <td>2256</td>\n",
       "      <td>2018-12-19</td>\n",
       "      <td>3042.189941</td>\n",
       "      <td>3063.699951</td>\n",
       "      <td>3042.189941</td>\n",
       "      <td>3051.379883</td>\n",
       "      <td>3051.379883</td>\n",
       "      <td>46652700</td>\n",
       "      <td>11.250000</td>\n",
       "      <td>0.524554</td>\n",
       "    </tr>\n",
       "    <tr>\n",
       "      <td>2257</td>\n",
       "      <td>2018-12-20</td>\n",
       "      <td>3031.320068</td>\n",
       "      <td>3031.320068</td>\n",
       "      <td>2993.399902</td>\n",
       "      <td>3000.060059</td>\n",
       "      <td>3000.060059</td>\n",
       "      <td>57123500</td>\n",
       "      <td>-51.319824</td>\n",
       "      <td>0.404339</td>\n",
       "    </tr>\n",
       "    <tr>\n",
       "      <td>2258</td>\n",
       "      <td>2018-12-21</td>\n",
       "      <td>2996.919922</td>\n",
       "      <td>3003.060059</td>\n",
       "      <td>2957.560059</td>\n",
       "      <td>3000.610107</td>\n",
       "      <td>3000.610107</td>\n",
       "      <td>84815000</td>\n",
       "      <td>0.550048</td>\n",
       "      <td>0.503996</td>\n",
       "    </tr>\n",
       "    <tr>\n",
       "      <td>2259</td>\n",
       "      <td>2018-12-27</td>\n",
       "      <td>2987.669922</td>\n",
       "      <td>2997.239990</td>\n",
       "      <td>2908.699951</td>\n",
       "      <td>2937.360107</td>\n",
       "      <td>2937.360107</td>\n",
       "      <td>45597600</td>\n",
       "      <td>-63.250000</td>\n",
       "      <td>0.381417</td>\n",
       "    </tr>\n",
       "    <tr>\n",
       "      <td>2260</td>\n",
       "      <td>2018-12-28</td>\n",
       "      <td>2952.050049</td>\n",
       "      <td>2996.169922</td>\n",
       "      <td>2951.510010</td>\n",
       "      <td>2986.530029</td>\n",
       "      <td>2986.530029</td>\n",
       "      <td>32799300</td>\n",
       "      <td>49.169922</td>\n",
       "      <td>0.597410</td>\n",
       "    </tr>\n",
       "  </tbody>\n",
       "</table>\n",
       "</div>"
      ],
      "text/plain": [
       "            Date         Open         High          Low        Close  \\\n",
       "2256  2018-12-19  3042.189941  3063.699951  3042.189941  3051.379883   \n",
       "2257  2018-12-20  3031.320068  3031.320068  2993.399902  3000.060059   \n",
       "2258  2018-12-21  2996.919922  3003.060059  2957.560059  3000.610107   \n",
       "2259  2018-12-27  2987.669922  2997.239990  2908.699951  2937.360107   \n",
       "2260  2018-12-28  2952.050049  2996.169922  2951.510010  2986.530029   \n",
       "\n",
       "        Adj Close    Volume  price_change  price_ch_normal  \n",
       "2256  3051.379883  46652700     11.250000         0.524554  \n",
       "2257  3000.060059  57123500    -51.319824         0.404339  \n",
       "2258  3000.610107  84815000      0.550048         0.503996  \n",
       "2259  2937.360107  45597600    -63.250000         0.381417  \n",
       "2260  2986.530029  32799300     49.169922         0.597410  "
      ]
     },
     "execution_count": 6,
     "metadata": {},
     "output_type": "execute_result"
    }
   ],
   "source": [
    "price_change_factor = stoxx_data[\"price_change\"]\n",
    "max_price_change, min_price_change = np.max(price_change_factor), np.min(price_change_factor)\n",
    "price_change_normal = (price_change_factor - min_price_change)/(max_price_change - min_price_change)\n",
    "stoxx_data[\"price_ch_normal\"] = price_change_normal\n",
    "\n",
    "stoxx_data.tail()"
   ]
  },
  {
   "cell_type": "markdown",
   "metadata": {},
   "source": [
    "这里我们构建RSI指标，这是一个正向指标"
   ]
  },
  {
   "cell_type": "code",
   "execution_count": 7,
   "metadata": {},
   "outputs": [
    {
     "name": "stdout",
     "output_type": "stream",
     "text": [
      "add 10 days RSI successful!\n"
     ]
    }
   ],
   "source": [
    "def add_n_days_RSI(dataframe, n):\n",
    "    res = [0] * n\n",
    "    for i in range(n, dataframe.shape[0]):\n",
    "        price_change = dataframe.loc[i-n+1: i+1, \"price_change\"]\n",
    "        price_change_pos = price_change[price_change >= 0]\n",
    "        price_change_neg = np.abs(price_change[price_change < 0])\n",
    "        RSI = 100 * np.mean(price_change_pos) / (np.mean(price_change_pos) + np.mean(price_change_neg))\n",
    "        res.append(RSI)\n",
    "    max_res, min_res = np.max(res), np.min(res)\n",
    "    res_normal = (res - min_res)/(max_res - min_res)\n",
    "    dataframe[str(n)+\"_days_RSI\"] = res_normal\n",
    "    print(\"add \" + str(n) + \" days RSI successful!\")\n",
    "add_n_days_RSI(stoxx_data, 10)"
   ]
  },
  {
   "cell_type": "markdown",
   "metadata": {},
   "source": [
    "这里我们构建range指标，这是一个正向指标"
   ]
  },
  {
   "cell_type": "code",
   "execution_count": 8,
   "metadata": {},
   "outputs": [
    {
     "name": "stdout",
     "output_type": "stream",
     "text": [
      "successfully add range to dataframe!!\n"
     ]
    }
   ],
   "source": [
    "def add_n_days_range(dataframe, n):\n",
    "    res = [0] * (n - 1)\n",
    "    for i in range(n - 1, dataframe.shape[0]):\n",
    "        close_data = dataframe.loc[i-n+1: i+1, \"Close\"]\n",
    "        high_data = dataframe.loc[i-n+1: i+1, \"High\"]\n",
    "        low_data = dataframe.loc[i-n+1: i+1, \"Low\"]\n",
    "        HH = np.max(high_data)\n",
    "        LC = np.min(close_data)\n",
    "        HC = np.max(close_data)\n",
    "        LL = np.min(low_data)\n",
    "        range_factor = np.max([HH-LC, HC-LL])\n",
    "        res.append(range_factor)\n",
    "    max_res, min_res = np.max(res), np.min(res)\n",
    "    res_normal = (res - min_res)/(max_res - min_res)\n",
    "    dataframe[str(n)+\"_days_range\"] = res_normal\n",
    "    print(\"successfully add range to dataframe!!\")\n",
    "add_n_days_range(stoxx_data, 10)"
   ]
  },
  {
   "cell_type": "markdown",
   "metadata": {},
   "source": [
    "这里我们构建正向波动率减负向波动率指标，这是一个正向指标"
   ]
  },
  {
   "cell_type": "code",
   "execution_count": 12,
   "metadata": {},
   "outputs": [
    {
     "name": "stdout",
     "output_type": "stream",
     "text": [
      "add 10 days vol successful!\n"
     ]
    }
   ],
   "source": [
    "def add_n_days_vol(dataframe, n):\n",
    "    res = [0] * n\n",
    "    for i in range(n, dataframe.shape[0]):\n",
    "        data_return = dataframe.loc[i-n+1: i+1, \"price_change\"]\n",
    "        return_pos = data_return[data_return >= 0]\n",
    "        return_neg = data_return[data_return < 0]\n",
    "        pos_vol = np.std(return_pos)\n",
    "        neg_vol = np.std(return_neg)\n",
    "        res.append(pos_vol - neg_vol)\n",
    "    max_res, min_res = np.max(res), np.min(res)\n",
    "    res_normal = (res - min_res)/(max_res - min_res)\n",
    "    dataframe[str(n)+\"_days_vol\"] = res_normal\n",
    "    print(\"add \" + str(n) + \" days vol successful!\")\n",
    "add_n_days_vol(stoxx_data, 10)"
   ]
  },
  {
   "cell_type": "markdown",
   "metadata": {},
   "source": [
    "这里我们构建偏离度指标，这是一个负向指标"
   ]
  },
  {
   "cell_type": "code",
   "execution_count": 9,
   "metadata": {},
   "outputs": [
    {
     "name": "stdout",
     "output_type": "stream",
     "text": [
      "successfully add ma to dataframe!!\n"
     ]
    }
   ],
   "source": [
    "def add_n_days_ma(dataframe, n):\n",
    "    res = [0] * (n - 1)\n",
    "    close = dataframe[\"Close\"]\n",
    "    for i in range(n - 1, dataframe.shape[0]):\n",
    "        close_data = dataframe.loc[i-n+1: i+1, \"Close\"]\n",
    "        res.append(np.mean(close_data))\n",
    "    res_new = close - res\n",
    "    max_res, min_res = np.max(res_new), np.min(res_new)\n",
    "    res_normal = (-1)*(res_new - min_res)/(max_res - min_res)\n",
    "    dataframe[str(n)+\"_days_ma\"] = res_normal\n",
    "    print(\"successfully add ma to dataframe!!\")\n",
    "add_n_days_ma(stoxx_data, 10)"
   ]
  },
  {
   "cell_type": "code",
   "execution_count": 10,
   "metadata": {},
   "outputs": [
    {
     "name": "stdout",
     "output_type": "stream",
     "text": [
      "add MFI_10successful!\n",
      "add WMA_7successful!\n",
      "add CMO_14successful!\n",
      "add MOM_7successful!\n",
      "add CCI_14successful!\n",
      "add ROC_30successful!\n"
     ]
    }
   ],
   "source": [
    "from talib import abstract\n",
    "inputs = {\n",
    "    'open': stoxx_data['Open'].values,\n",
    "    'high': stoxx_data['High'].values,\n",
    "    'low': stoxx_data['Low'].values,\n",
    "    'close': stoxx_data['Close'].values,\n",
    "    'volume': stoxx_data['Volume'].astype(float).values\n",
    "}\n",
    "talib_list=[('MFI',10),('WMA',7),('CMO',14),('MOM',7),('CCI',14),('ROC',30)]\n",
    "def add_talib_factor(dataframe):\n",
    "    for ta in talib_list:\n",
    "        fun = abstract.Function(ta[0] )\n",
    "        factor = fun(inputs,ta[1])\n",
    "        factor[np.isnan(factor)] = 0\n",
    "#         stoxx_data.fillna(0,inplace=True)\n",
    "        max_res, min_res = np.max(factor), np.min(factor)\n",
    "        res_normal = (factor - min_res)/(max_res - min_res)\n",
    "        dataframe[ta[0]+'_'+str(ta[1])] = res_normal\n",
    "        print(\"add \" +ta[0]+'_'+str(ta[1])+ \"successful!\")\n",
    "add_talib_factor(stoxx_data)"
   ]
  },
  {
   "cell_type": "code",
   "execution_count": 13,
   "metadata": {},
   "outputs": [],
   "source": [
    "factor_combined = (stoxx_data[\"10_days_RSI\"] + stoxx_data[\"price_ch_normal\"] + \n",
    "                   stoxx_data[\"10_days_range\"] + stoxx_data[\"10_days_vol\"] +\n",
    "                   stoxx_data[\"10_days_ma\"]\n",
    "#                    +stoxx_data[\"MFI_10\"]\n",
    "#                    -stoxx_data[\"WMA_7\"]\n",
    "#                    -stoxx_data[\"ROC_30\"]\n",
    "#                    -stoxx_data[\"CCI_14\"]\n",
    "                   -stoxx_data[\"MOM_7\"]\n",
    "#                    -stoxx_data[\"CMO_14\"]\n",
    "                  )\n",
    "                \n",
    "stoxx_data[\"factor_combined\"] = factor_combined"
   ]
  },
  {
   "cell_type": "code",
   "execution_count": 27,
   "metadata": {},
   "outputs": [],
   "source": [
    "import xgboost as xgb\n",
    "from sklearn.linear_model import LogisticRegression\n",
    "from sklearn.model_selection import train_test_split"
   ]
  },
  {
   "cell_type": "code",
   "execution_count": 68,
   "metadata": {},
   "outputs": [
    {
     "name": "stdout",
     "output_type": "stream",
     "text": [
      "0      -0.001803\n",
      "1      -0.000896\n",
      "2      -0.000771\n",
      "3       0.003495\n",
      "4      -0.002522\n",
      "          ...   \n",
      "2256   -0.016819\n",
      "2257    0.000183\n",
      "2258   -0.021079\n",
      "2259    0.016739\n",
      "2260    0.000000\n",
      "Name: Close, Length: 2261, dtype: float64\n",
      "<class 'pandas.core.series.Series'>\n"
     ]
    }
   ],
   "source": [
    "df = pd.read_csv('../Model Data/stoxx_till_2018.csv')\n",
    "def get_label(df):\n",
    "    forward_price_change = df[\"Close\"].shift(-1) - df[\"Close\"]\n",
    "    forward_price_change[df.index[-1]] = 0\n",
    "    forward_price_return = forward_price_change / df[\"Close\"]\n",
    "    print(forward_price_return)\n",
    "#     return forward_price_return.fillna('bfill',inplace=True)\n",
    "    print(type(forward_price_return))\n",
    "    return forward_price_return\n",
    "label = get_label(df)\n",
    "# print(label)\n",
    "\n",
    "label[label<-0.005]=-1\n",
    "label[label>0.005]= 1\n",
    "label[abs(label)!=1]= 0\n",
    "\n",
    "\n",
    "# label.describe()\n",
    "# print(len(label[label>0.005]),len(label[label<-0.005]))\n",
    "# print(len(label)-696-650)\n",
    "# stoxx_data[\"10_days_RSI\",\"price_ch_normal\",\"10_days_range\",\"10_days_vol\",\"10_days_ma\",\"MFI_10\",'WMA_7','ROC_30','CCI_14','MOM_10','CMO_14']\n",
    "x_train,x_test,y_train,y_test = train_test_split(stoxx_data[[\"10_days_RSI\",\"price_ch_normal\",\"10_days_range\",\"10_days_vol\",\"10_days_ma\",\"MFI_10\",'WMA_7','ROC_30','CCI_14','MOM_7','CMO_14']],\n",
    "                                                 label,\n",
    "                                                 test_size = 0.3)"
   ]
  },
  {
   "cell_type": "code",
   "execution_count": 52,
   "metadata": {},
   "outputs": [
    {
     "name": "stdout",
     "output_type": "stream",
     "text": [
      "[0]\tvalidation_0-mlogloss:1.08505\n",
      "Will train until validation_0-mlogloss hasn't improved in 50 rounds.\n",
      "[1]\tvalidation_0-mlogloss:1.07417\n",
      "[2]\tvalidation_0-mlogloss:1.06586\n",
      "[3]\tvalidation_0-mlogloss:1.05798\n",
      "[4]\tvalidation_0-mlogloss:1.05158\n",
      "[5]\tvalidation_0-mlogloss:1.04977\n",
      "[6]\tvalidation_0-mlogloss:1.04308\n",
      "[7]\tvalidation_0-mlogloss:1.03814\n",
      "[8]\tvalidation_0-mlogloss:1.03466\n",
      "[9]\tvalidation_0-mlogloss:1.03007\n",
      "[10]\tvalidation_0-mlogloss:1.02762\n",
      "[11]\tvalidation_0-mlogloss:1.02680\n",
      "[12]\tvalidation_0-mlogloss:1.02408\n",
      "[13]\tvalidation_0-mlogloss:1.02084\n",
      "[14]\tvalidation_0-mlogloss:1.01763\n",
      "[15]\tvalidation_0-mlogloss:1.01699\n",
      "[16]\tvalidation_0-mlogloss:1.01430\n",
      "[17]\tvalidation_0-mlogloss:1.01101\n",
      "[18]\tvalidation_0-mlogloss:1.01008\n",
      "[19]\tvalidation_0-mlogloss:1.00863\n",
      "[20]\tvalidation_0-mlogloss:1.00709\n",
      "[21]\tvalidation_0-mlogloss:1.00542\n",
      "[22]\tvalidation_0-mlogloss:1.00415\n",
      "[23]\tvalidation_0-mlogloss:1.00501\n",
      "[24]\tvalidation_0-mlogloss:1.00530\n",
      "[25]\tvalidation_0-mlogloss:1.00333\n",
      "[26]\tvalidation_0-mlogloss:1.00335\n",
      "[27]\tvalidation_0-mlogloss:1.00380\n",
      "[28]\tvalidation_0-mlogloss:1.00255\n",
      "[29]\tvalidation_0-mlogloss:1.00252\n",
      "[30]\tvalidation_0-mlogloss:1.00371\n",
      "[31]\tvalidation_0-mlogloss:1.00196\n",
      "[32]\tvalidation_0-mlogloss:1.00259\n",
      "[33]\tvalidation_0-mlogloss:1.00300\n",
      "[34]\tvalidation_0-mlogloss:1.00367\n",
      "[35]\tvalidation_0-mlogloss:1.00286\n",
      "[36]\tvalidation_0-mlogloss:1.00392\n",
      "[37]\tvalidation_0-mlogloss:1.00342\n",
      "[38]\tvalidation_0-mlogloss:1.00185\n",
      "[39]\tvalidation_0-mlogloss:1.00130\n",
      "[40]\tvalidation_0-mlogloss:1.00194\n",
      "[41]\tvalidation_0-mlogloss:1.00294\n",
      "[42]\tvalidation_0-mlogloss:1.00307\n",
      "[43]\tvalidation_0-mlogloss:1.00262\n",
      "[44]\tvalidation_0-mlogloss:1.00206\n",
      "[45]\tvalidation_0-mlogloss:1.00025\n",
      "[46]\tvalidation_0-mlogloss:1.00256\n",
      "[47]\tvalidation_0-mlogloss:1.00084\n",
      "[48]\tvalidation_0-mlogloss:1.00140\n",
      "[49]\tvalidation_0-mlogloss:1.00253\n",
      "[50]\tvalidation_0-mlogloss:1.00247\n",
      "[51]\tvalidation_0-mlogloss:1.00270\n",
      "[52]\tvalidation_0-mlogloss:1.00404\n",
      "[53]\tvalidation_0-mlogloss:1.00460\n",
      "[54]\tvalidation_0-mlogloss:1.00425\n",
      "[55]\tvalidation_0-mlogloss:1.00380\n",
      "[56]\tvalidation_0-mlogloss:1.00406\n",
      "[57]\tvalidation_0-mlogloss:1.00307\n",
      "[58]\tvalidation_0-mlogloss:1.00321\n",
      "[59]\tvalidation_0-mlogloss:1.00402\n",
      "[60]\tvalidation_0-mlogloss:1.00613\n",
      "[61]\tvalidation_0-mlogloss:1.00686\n",
      "[62]\tvalidation_0-mlogloss:1.00759\n",
      "[63]\tvalidation_0-mlogloss:1.00827\n",
      "[64]\tvalidation_0-mlogloss:1.00796\n",
      "[65]\tvalidation_0-mlogloss:1.00887\n",
      "[66]\tvalidation_0-mlogloss:1.01010\n",
      "[67]\tvalidation_0-mlogloss:1.00989\n",
      "[68]\tvalidation_0-mlogloss:1.01041\n",
      "[69]\tvalidation_0-mlogloss:1.01198\n",
      "[70]\tvalidation_0-mlogloss:1.01331\n",
      "[71]\tvalidation_0-mlogloss:1.01341\n",
      "[72]\tvalidation_0-mlogloss:1.01503\n",
      "[73]\tvalidation_0-mlogloss:1.01577\n",
      "[74]\tvalidation_0-mlogloss:1.01610\n",
      "[75]\tvalidation_0-mlogloss:1.01637\n",
      "[76]\tvalidation_0-mlogloss:1.01794\n",
      "[77]\tvalidation_0-mlogloss:1.01644\n",
      "[78]\tvalidation_0-mlogloss:1.01587\n",
      "[79]\tvalidation_0-mlogloss:1.01556\n",
      "[80]\tvalidation_0-mlogloss:1.01524\n",
      "[81]\tvalidation_0-mlogloss:1.01594\n",
      "[82]\tvalidation_0-mlogloss:1.01694\n",
      "[83]\tvalidation_0-mlogloss:1.01671\n",
      "[84]\tvalidation_0-mlogloss:1.01761\n",
      "[85]\tvalidation_0-mlogloss:1.01731\n",
      "[86]\tvalidation_0-mlogloss:1.01757\n",
      "[87]\tvalidation_0-mlogloss:1.01832\n",
      "[88]\tvalidation_0-mlogloss:1.02001\n",
      "[89]\tvalidation_0-mlogloss:1.02095\n",
      "[90]\tvalidation_0-mlogloss:1.02164\n",
      "[91]\tvalidation_0-mlogloss:1.02262\n",
      "[92]\tvalidation_0-mlogloss:1.02415\n",
      "[93]\tvalidation_0-mlogloss:1.02515\n",
      "[94]\tvalidation_0-mlogloss:1.02587\n",
      "[95]\tvalidation_0-mlogloss:1.02625\n",
      "Stopping. Best iteration:\n",
      "[45]\tvalidation_0-mlogloss:1.00025\n",
      "\n"
     ]
    },
    {
     "data": {
      "image/png": "[encoded data removed]",
      "text/plain": [
       "<Figure size 1080x1080 with 1 Axes>"
      ]
     },
     "metadata": {
      "needs_background": "light"
     },
     "output_type": "display_data"
    },
    {
     "name": "stdout",
     "output_type": "stream",
     "text": [
      "accuarcy: 50.22%\n"
     ]
    }
   ],
   "source": [
    "from sklearn.metrics import accuracy_score, confusion_matrix\n",
    "from xgboost import plot_importance\n",
    "model = xgb.XGBClassifier(learning_rate=0.1,\n",
    "                      n_estimators=1000,         # 树的个数--1000棵树建立xgboost\n",
    "                      max_depth=6,               # 树的深度\n",
    "                      min_child_weight = 1,      # 叶子节点最小权重\n",
    "                      gamma=0.,                  # 惩罚项中叶子结点个数前的参数\n",
    "                      subsample=0.8,             # 随机选择80%样本建立决策树\n",
    "                      colsample_btree=0.8,       # 随机选择80%特征建立决策树\n",
    "                      objective='multi:softmax', # 指定损失函数\n",
    "                      scale_pos_weight=1,        # 解决样本个数不平衡的问题\n",
    "                      random_state=27            # 随机数\n",
    "                      )\n",
    "model.fit(x_train,\n",
    "          y_train,\n",
    "          eval_set = [(x_test,y_test)],\n",
    "          eval_metric = \"mlogloss\",\n",
    "          early_stopping_rounds = 50,\n",
    "          verbose = True)\n",
    "\n",
    "### plot feature importance\n",
    "fig,ax = plt.subplots(figsize=(15,15))\n",
    "plot_importance(model,\n",
    "                height=0.5,\n",
    "                ax=ax,\n",
    "                max_num_features=64)\n",
    "plt.show()\n",
    "y_pred = model.predict(x_test)\n",
    "\n",
    "### model evaluate\n",
    "accuracy = accuracy_score(y_test,y_pred)\n",
    "print(\"accuarcy: %.2f%%\" % (accuracy*100.0))"
   ]
  },
  {
   "cell_type": "code",
   "execution_count": 53,
   "metadata": {},
   "outputs": [
    {
     "name": "stdout",
     "output_type": "stream",
     "text": [
      "混淆矩阵 [[ 63  87  36]\n",
      " [ 29 202  56]\n",
      " [ 30  97  79]]\n",
      "正确率： 0.5066273932253313\n"
     ]
    },
    {
     "name": "stderr",
     "output_type": "stream",
     "text": [
      "/Applications/anaconda3/lib/python3.7/site-packages/sklearn/linear_model/logistic.py:432: FutureWarning: Default solver will be changed to 'lbfgs' in 0.22. Specify a solver to silence this warning.\n",
      "  FutureWarning)\n",
      "/Applications/anaconda3/lib/python3.7/site-packages/sklearn/linear_model/logistic.py:469: FutureWarning: Default multi_class will be changed to 'auto' in 0.22. Specify the multi_class option to silence this warning.\n",
      "  \"this warning.\", FutureWarning)\n"
     ]
    }
   ],
   "source": [
    "from sklearn.linear_model import LogisticRegression as LR\n",
    "lr = LR(C=1000,random_state=123)\n",
    "lr.fit(x_train,y_train)\n",
    "y_pred = lr.predict(x_test)\n",
    "print(u\"混淆矩阵\",confusion_matrix(y_true=y_test,y_pred=y_pred,labels=[-1,0,1]))\n",
    "print(\"正确率：\",accuracy_score(y_test,y_pred))\n"
   ]
  },
  {
   "cell_type": "code",
   "execution_count": 54,
   "metadata": {},
   "outputs": [
    {
     "name": "stdout",
     "output_type": "stream",
     "text": [
      "              precision    recall  f1-score   support\n",
      "\n",
      "        -1.0       0.52      0.34      0.41       186\n",
      "         0.0       0.52      0.70      0.60       287\n",
      "         1.0       0.46      0.38      0.42       206\n",
      "\n",
      "    accuracy                           0.51       679\n",
      "   macro avg       0.50      0.48      0.48       679\n",
      "weighted avg       0.50      0.51      0.49       679\n",
      "\n",
      "[[ 63  87  36]\n",
      " [ 29 202  56]\n",
      " [ 30  97  79]]\n"
     ]
    }
   ],
   "source": [
    "from sklearn.metrics import classification_report,confusion_matrix\n",
    "print(classification_report(y_test, y_pred))\n",
    "print(confusion_matrix(y_test, y_pred,labels=[-1,0,1]))"
   ]
  },
  {
   "cell_type": "code",
   "execution_count": 55,
   "metadata": {},
   "outputs": [
    {
     "data": {
      "text/plain": [
       "count    2261.000000\n",
       "mean        1.139913\n",
       "std         0.232929\n",
       "min        -0.585470\n",
       "25%         1.008972\n",
       "50%         1.129410\n",
       "75%         1.259761\n",
       "max         2.792678\n",
       "dtype: float64"
      ]
     },
     "execution_count": 55,
     "metadata": {},
     "output_type": "execute_result"
    }
   ],
   "source": [
    "factor_combined.describe()"
   ]
  },
  {
   "cell_type": "code",
   "execution_count": 56,
   "metadata": {},
   "outputs": [
    {
     "data": {
      "text/html": [
       "<div>\n",
       "<style scoped>\n",
       "    .dataframe tbody tr th:only-of-type {\n",
       "        vertical-align: middle;\n",
       "    }\n",
       "\n",
       "    .dataframe tbody tr th {\n",
       "        vertical-align: top;\n",
       "    }\n",
       "\n",
       "    .dataframe thead th {\n",
       "        text-align: right;\n",
       "    }\n",
       "</style>\n",
       "<table border=\"1\" class=\"dataframe\">\n",
       "  <thead>\n",
       "    <tr style=\"text-align: right;\">\n",
       "      <th></th>\n",
       "      <th>Date</th>\n",
       "      <th>Open</th>\n",
       "      <th>High</th>\n",
       "      <th>Low</th>\n",
       "      <th>Close</th>\n",
       "      <th>Adj Close</th>\n",
       "      <th>Volume</th>\n",
       "      <th>price_change</th>\n",
       "      <th>price_ch_normal</th>\n",
       "      <th>10_days_RSI</th>\n",
       "      <th>...</th>\n",
       "      <th>10_days_ma</th>\n",
       "      <th>MFI_10</th>\n",
       "      <th>WMA_7</th>\n",
       "      <th>CMO_14</th>\n",
       "      <th>MOM_7</th>\n",
       "      <th>CCI_14</th>\n",
       "      <th>ROC_30</th>\n",
       "      <th>10_days_vol</th>\n",
       "      <th>factor_combined</th>\n",
       "      <th>portfolio value</th>\n",
       "    </tr>\n",
       "  </thead>\n",
       "  <tbody>\n",
       "    <tr>\n",
       "      <td>2256</td>\n",
       "      <td>2018-12-19</td>\n",
       "      <td>3042.189941</td>\n",
       "      <td>3063.699951</td>\n",
       "      <td>3042.189941</td>\n",
       "      <td>3051.379883</td>\n",
       "      <td>3051.379883</td>\n",
       "      <td>46652700</td>\n",
       "      <td>11.250000</td>\n",
       "      <td>0.524554</td>\n",
       "      <td>0.366580</td>\n",
       "      <td>...</td>\n",
       "      <td>-0.095793</td>\n",
       "      <td>0.418643</td>\n",
       "      <td>0.807739</td>\n",
       "      <td>0.355830</td>\n",
       "      <td>0.613015</td>\n",
       "      <td>0.341065</td>\n",
       "      <td>0.438017</td>\n",
       "      <td>0.469336</td>\n",
       "      <td>0.850856</td>\n",
       "      <td>1000000</td>\n",
       "    </tr>\n",
       "    <tr>\n",
       "      <td>2257</td>\n",
       "      <td>2018-12-20</td>\n",
       "      <td>3031.320068</td>\n",
       "      <td>3031.320068</td>\n",
       "      <td>2993.399902</td>\n",
       "      <td>3000.060059</td>\n",
       "      <td>3000.060059</td>\n",
       "      <td>57123500</td>\n",
       "      <td>-51.319824</td>\n",
       "      <td>0.404339</td>\n",
       "      <td>0.398354</td>\n",
       "      <td>...</td>\n",
       "      <td>-0.081685</td>\n",
       "      <td>0.419148</td>\n",
       "      <td>0.802823</td>\n",
       "      <td>0.267730</td>\n",
       "      <td>0.513273</td>\n",
       "      <td>0.258616</td>\n",
       "      <td>0.407668</td>\n",
       "      <td>0.586743</td>\n",
       "      <td>1.014788</td>\n",
       "      <td>1000000</td>\n",
       "    </tr>\n",
       "    <tr>\n",
       "      <td>2258</td>\n",
       "      <td>2018-12-21</td>\n",
       "      <td>2996.919922</td>\n",
       "      <td>3003.060059</td>\n",
       "      <td>2957.560059</td>\n",
       "      <td>3000.610107</td>\n",
       "      <td>3000.610107</td>\n",
       "      <td>84815000</td>\n",
       "      <td>0.550048</td>\n",
       "      <td>0.503996</td>\n",
       "      <td>0.380815</td>\n",
       "      <td>...</td>\n",
       "      <td>-0.085142</td>\n",
       "      <td>0.381765</td>\n",
       "      <td>0.798463</td>\n",
       "      <td>0.269420</td>\n",
       "      <td>0.455308</td>\n",
       "      <td>0.211851</td>\n",
       "      <td>0.413338</td>\n",
       "      <td>0.571185</td>\n",
       "      <td>1.205481</td>\n",
       "      <td>1000000</td>\n",
       "    </tr>\n",
       "    <tr>\n",
       "      <td>2259</td>\n",
       "      <td>2018-12-27</td>\n",
       "      <td>2987.669922</td>\n",
       "      <td>2997.239990</td>\n",
       "      <td>2908.699951</td>\n",
       "      <td>2937.360107</td>\n",
       "      <td>2937.360107</td>\n",
       "      <td>45597600</td>\n",
       "      <td>-63.250000</td>\n",
       "      <td>0.381417</td>\n",
       "      <td>0.434497</td>\n",
       "      <td>...</td>\n",
       "      <td>-0.067064</td>\n",
       "      <td>0.380733</td>\n",
       "      <td>0.790948</td>\n",
       "      <td>0.176942</td>\n",
       "      <td>0.380266</td>\n",
       "      <td>0.145172</td>\n",
       "      <td>0.391763</td>\n",
       "      <td>0.567732</td>\n",
       "      <td>1.226251</td>\n",
       "      <td>1000000</td>\n",
       "    </tr>\n",
       "    <tr>\n",
       "      <td>2260</td>\n",
       "      <td>2018-12-28</td>\n",
       "      <td>2952.050049</td>\n",
       "      <td>2996.169922</td>\n",
       "      <td>2951.510010</td>\n",
       "      <td>2986.530029</td>\n",
       "      <td>2986.530029</td>\n",
       "      <td>32799300</td>\n",
       "      <td>49.169922</td>\n",
       "      <td>0.597410</td>\n",
       "      <td>0.409311</td>\n",
       "      <td>...</td>\n",
       "      <td>-0.082197</td>\n",
       "      <td>0.367090</td>\n",
       "      <td>0.788315</td>\n",
       "      <td>0.318110</td>\n",
       "      <td>0.456743</td>\n",
       "      <td>0.267853</td>\n",
       "      <td>0.406480</td>\n",
       "      <td>0.576177</td>\n",
       "      <td>1.333891</td>\n",
       "      <td>1000000</td>\n",
       "    </tr>\n",
       "  </tbody>\n",
       "</table>\n",
       "<p>5 rows × 21 columns</p>\n",
       "</div>"
      ],
      "text/plain": [
       "            Date         Open         High          Low        Close  \\\n",
       "2256  2018-12-19  3042.189941  3063.699951  3042.189941  3051.379883   \n",
       "2257  2018-12-20  3031.320068  3031.320068  2993.399902  3000.060059   \n",
       "2258  2018-12-21  2996.919922  3003.060059  2957.560059  3000.610107   \n",
       "2259  2018-12-27  2987.669922  2997.239990  2908.699951  2937.360107   \n",
       "2260  2018-12-28  2952.050049  2996.169922  2951.510010  2986.530029   \n",
       "\n",
       "        Adj Close    Volume  price_change  price_ch_normal  10_days_RSI  ...  \\\n",
       "2256  3051.379883  46652700     11.250000         0.524554     0.366580  ...   \n",
       "2257  3000.060059  57123500    -51.319824         0.404339     0.398354  ...   \n",
       "2258  3000.610107  84815000      0.550048         0.503996     0.380815  ...   \n",
       "2259  2937.360107  45597600    -63.250000         0.381417     0.434497  ...   \n",
       "2260  2986.530029  32799300     49.169922         0.597410     0.409311  ...   \n",
       "\n",
       "      10_days_ma    MFI_10     WMA_7    CMO_14     MOM_7    CCI_14    ROC_30  \\\n",
       "2256   -0.095793  0.418643  0.807739  0.355830  0.613015  0.341065  0.438017   \n",
       "2257   -0.081685  0.419148  0.802823  0.267730  0.513273  0.258616  0.407668   \n",
       "2258   -0.085142  0.381765  0.798463  0.269420  0.455308  0.211851  0.413338   \n",
       "2259   -0.067064  0.380733  0.790948  0.176942  0.380266  0.145172  0.391763   \n",
       "2260   -0.082197  0.367090  0.788315  0.318110  0.456743  0.267853  0.406480   \n",
       "\n",
       "      10_days_vol  factor_combined  portfolio value  \n",
       "2256     0.469336         0.850856          1000000  \n",
       "2257     0.586743         1.014788          1000000  \n",
       "2258     0.571185         1.205481          1000000  \n",
       "2259     0.567732         1.226251          1000000  \n",
       "2260     0.576177         1.333891          1000000  \n",
       "\n",
       "[5 rows x 21 columns]"
      ]
     },
     "execution_count": 56,
     "metadata": {},
     "output_type": "execute_result"
    }
   ],
   "source": [
    "stoxx_data[\"portfolio value\"] = [1000000] * len(stoxx_data.index)\n",
    "\n",
    "# stoxx_data.fillna(0,inplace=True)\n",
    "stoxx_data.tail()"
   ]
  },
  {
   "cell_type": "code",
   "execution_count": 57,
   "metadata": {},
   "outputs": [
    {
     "name": "stdout",
     "output_type": "stream",
     "text": [
      "2261 1582\n"
     ]
    }
   ],
   "source": [
    "print(len(label),len(y_train))"
   ]
  },
  {
   "cell_type": "code",
   "execution_count": 58,
   "metadata": {},
   "outputs": [
    {
     "data": {
      "text/plain": [
       "Index(['Date', 'Open', 'High', 'Low', 'Close', 'Adj Close', 'Volume',\n",
       "       'price_change', 'price_ch_normal', '10_days_RSI', '10_days_range',\n",
       "       '10_days_ma', 'MFI_10', 'WMA_7', 'CMO_14', 'MOM_7', 'CCI_14', 'ROC_30',\n",
       "       '10_days_vol', 'factor_combined', 'portfolio value'],\n",
       "      dtype='object')"
      ]
     },
     "execution_count": 58,
     "metadata": {},
     "output_type": "execute_result"
    }
   ],
   "source": [
    "stoxx_data.columns"
   ]
  },
  {
   "cell_type": "code",
   "execution_count": 59,
   "metadata": {},
   "outputs": [
    {
     "name": "stdout",
     "output_type": "stream",
     "text": [
      "successfully running the loops!\n",
      "successfully add profit list!\n"
     ]
    }
   ],
   "source": [
    "profit_list = [0] * 1582\n",
    "for i in range(1582, len(stoxx_data.index)-1):\n",
    "    close = stoxx_data.loc[i, \"Close\"]\n",
    "    price_change = stoxx_data.loc[i, \"price_change\"]\n",
    "    portfolio_value = stoxx_data.loc[i, \"portfolio value\"]\n",
    "    price_change_before = stoxx_data.loc[i-1, \"price_change\"]\n",
    "    \n",
    "    RSI = stoxx_data.loc[i, \"10_days_RSI\"]\n",
    "#     factor_combined = stoxx_data.loc[i, \"factor_combined\"]\n",
    "    y_ = y_pred[i-1582]\n",
    "    close_next_day = stoxx_data.loc[i+1, \"Close\"]\n",
    "\n",
    "#     if factor_combined > 0.2:\n",
    "#     if factor_combined > 1.3: \n",
    "#     if True:\n",
    "    if y_ ==1:  \n",
    "        buy_value = 0.9 * portfolio_value\n",
    "        buy_amount = int(buy_value/close)\n",
    "        remain_value = portfolio_value - buy_amount * close\n",
    "        new_portfolio_value = remain_value + buy_amount * close_next_day\n",
    "        stoxx_data.loc[i+1, \"portfolio value\"] = new_portfolio_value\n",
    "        profit_list.append(new_portfolio_value - portfolio_value)\n",
    "    elif y_==-1:\n",
    "        short_value = 0.8 * portfolio_value\n",
    "        short_amount = int(short_value/close)\n",
    "        new_portfolio_value = portfolio_value + short_amount * (close - close_next_day)\n",
    "        stoxx_data.loc[i+1, \"portfolio value\"] = new_portfolio_value\n",
    "        profit_list.append(new_portfolio_value - portfolio_value)  \n",
    "    else:\n",
    "        stoxx_data.loc[i+1, \"portfolio value\"] = portfolio_value\n",
    "        profit_list.append(0)\n",
    "\n",
    "print(\"successfully running the loops!\")\n",
    "\n",
    "profit_list = profit_list + [0]\n",
    "stoxx_data[\"profit\"] = profit_list\n",
    "print(\"successfully add profit list!\")"
   ]
  },
  {
   "cell_type": "code",
   "execution_count": 60,
   "metadata": {},
   "outputs": [
    {
     "data": {
      "text/html": [
       "<div>\n",
       "<style scoped>\n",
       "    .dataframe tbody tr th:only-of-type {\n",
       "        vertical-align: middle;\n",
       "    }\n",
       "\n",
       "    .dataframe tbody tr th {\n",
       "        vertical-align: top;\n",
       "    }\n",
       "\n",
       "    .dataframe thead th {\n",
       "        text-align: right;\n",
       "    }\n",
       "</style>\n",
       "<table border=\"1\" class=\"dataframe\">\n",
       "  <thead>\n",
       "    <tr style=\"text-align: right;\">\n",
       "      <th></th>\n",
       "      <th>Date</th>\n",
       "      <th>Open</th>\n",
       "      <th>High</th>\n",
       "      <th>Low</th>\n",
       "      <th>Close</th>\n",
       "      <th>Adj Close</th>\n",
       "      <th>Volume</th>\n",
       "      <th>price_change</th>\n",
       "      <th>price_ch_normal</th>\n",
       "      <th>10_days_RSI</th>\n",
       "      <th>...</th>\n",
       "      <th>MFI_10</th>\n",
       "      <th>WMA_7</th>\n",
       "      <th>CMO_14</th>\n",
       "      <th>MOM_7</th>\n",
       "      <th>CCI_14</th>\n",
       "      <th>ROC_30</th>\n",
       "      <th>10_days_vol</th>\n",
       "      <th>factor_combined</th>\n",
       "      <th>portfolio value</th>\n",
       "      <th>profit</th>\n",
       "    </tr>\n",
       "  </thead>\n",
       "  <tbody>\n",
       "    <tr>\n",
       "      <td>2256</td>\n",
       "      <td>2018-12-19</td>\n",
       "      <td>3042.189941</td>\n",
       "      <td>3063.699951</td>\n",
       "      <td>3042.189941</td>\n",
       "      <td>3051.379883</td>\n",
       "      <td>3051.379883</td>\n",
       "      <td>46652700</td>\n",
       "      <td>11.250000</td>\n",
       "      <td>0.524554</td>\n",
       "      <td>0.366580</td>\n",
       "      <td>...</td>\n",
       "      <td>0.418643</td>\n",
       "      <td>0.807739</td>\n",
       "      <td>0.355830</td>\n",
       "      <td>0.613015</td>\n",
       "      <td>0.341065</td>\n",
       "      <td>0.438017</td>\n",
       "      <td>0.469336</td>\n",
       "      <td>0.850856</td>\n",
       "      <td>795501.799301</td>\n",
       "      <td>-12008.838816</td>\n",
       "    </tr>\n",
       "    <tr>\n",
       "      <td>2257</td>\n",
       "      <td>2018-12-20</td>\n",
       "      <td>3031.320068</td>\n",
       "      <td>3031.320068</td>\n",
       "      <td>2993.399902</td>\n",
       "      <td>3000.060059</td>\n",
       "      <td>3000.060059</td>\n",
       "      <td>57123500</td>\n",
       "      <td>-51.319824</td>\n",
       "      <td>0.404339</td>\n",
       "      <td>0.398354</td>\n",
       "      <td>...</td>\n",
       "      <td>0.419148</td>\n",
       "      <td>0.802823</td>\n",
       "      <td>0.267730</td>\n",
       "      <td>0.513273</td>\n",
       "      <td>0.258616</td>\n",
       "      <td>0.407668</td>\n",
       "      <td>0.586743</td>\n",
       "      <td>1.014788</td>\n",
       "      <td>783492.960485</td>\n",
       "      <td>0.000000</td>\n",
       "    </tr>\n",
       "    <tr>\n",
       "      <td>2258</td>\n",
       "      <td>2018-12-21</td>\n",
       "      <td>2996.919922</td>\n",
       "      <td>3003.060059</td>\n",
       "      <td>2957.560059</td>\n",
       "      <td>3000.610107</td>\n",
       "      <td>3000.610107</td>\n",
       "      <td>84815000</td>\n",
       "      <td>0.550048</td>\n",
       "      <td>0.503996</td>\n",
       "      <td>0.380815</td>\n",
       "      <td>...</td>\n",
       "      <td>0.381765</td>\n",
       "      <td>0.798463</td>\n",
       "      <td>0.269420</td>\n",
       "      <td>0.455308</td>\n",
       "      <td>0.211851</td>\n",
       "      <td>0.413338</td>\n",
       "      <td>0.571185</td>\n",
       "      <td>1.205481</td>\n",
       "      <td>783492.960485</td>\n",
       "      <td>13156.000000</td>\n",
       "    </tr>\n",
       "    <tr>\n",
       "      <td>2259</td>\n",
       "      <td>2018-12-27</td>\n",
       "      <td>2987.669922</td>\n",
       "      <td>2997.239990</td>\n",
       "      <td>2908.699951</td>\n",
       "      <td>2937.360107</td>\n",
       "      <td>2937.360107</td>\n",
       "      <td>45597600</td>\n",
       "      <td>-63.250000</td>\n",
       "      <td>0.381417</td>\n",
       "      <td>0.434497</td>\n",
       "      <td>...</td>\n",
       "      <td>0.380733</td>\n",
       "      <td>0.790948</td>\n",
       "      <td>0.176942</td>\n",
       "      <td>0.380266</td>\n",
       "      <td>0.145172</td>\n",
       "      <td>0.391763</td>\n",
       "      <td>0.567732</td>\n",
       "      <td>1.226251</td>\n",
       "      <td>796648.960485</td>\n",
       "      <td>0.000000</td>\n",
       "    </tr>\n",
       "    <tr>\n",
       "      <td>2260</td>\n",
       "      <td>2018-12-28</td>\n",
       "      <td>2952.050049</td>\n",
       "      <td>2996.169922</td>\n",
       "      <td>2951.510010</td>\n",
       "      <td>2986.530029</td>\n",
       "      <td>2986.530029</td>\n",
       "      <td>32799300</td>\n",
       "      <td>49.169922</td>\n",
       "      <td>0.597410</td>\n",
       "      <td>0.409311</td>\n",
       "      <td>...</td>\n",
       "      <td>0.367090</td>\n",
       "      <td>0.788315</td>\n",
       "      <td>0.318110</td>\n",
       "      <td>0.456743</td>\n",
       "      <td>0.267853</td>\n",
       "      <td>0.406480</td>\n",
       "      <td>0.576177</td>\n",
       "      <td>1.333891</td>\n",
       "      <td>796648.960485</td>\n",
       "      <td>0.000000</td>\n",
       "    </tr>\n",
       "  </tbody>\n",
       "</table>\n",
       "<p>5 rows × 22 columns</p>\n",
       "</div>"
      ],
      "text/plain": [
       "            Date         Open         High          Low        Close  \\\n",
       "2256  2018-12-19  3042.189941  3063.699951  3042.189941  3051.379883   \n",
       "2257  2018-12-20  3031.320068  3031.320068  2993.399902  3000.060059   \n",
       "2258  2018-12-21  2996.919922  3003.060059  2957.560059  3000.610107   \n",
       "2259  2018-12-27  2987.669922  2997.239990  2908.699951  2937.360107   \n",
       "2260  2018-12-28  2952.050049  2996.169922  2951.510010  2986.530029   \n",
       "\n",
       "        Adj Close    Volume  price_change  price_ch_normal  10_days_RSI  ...  \\\n",
       "2256  3051.379883  46652700     11.250000         0.524554     0.366580  ...   \n",
       "2257  3000.060059  57123500    -51.319824         0.404339     0.398354  ...   \n",
       "2258  3000.610107  84815000      0.550048         0.503996     0.380815  ...   \n",
       "2259  2937.360107  45597600    -63.250000         0.381417     0.434497  ...   \n",
       "2260  2986.530029  32799300     49.169922         0.597410     0.409311  ...   \n",
       "\n",
       "        MFI_10     WMA_7    CMO_14     MOM_7    CCI_14    ROC_30  10_days_vol  \\\n",
       "2256  0.418643  0.807739  0.355830  0.613015  0.341065  0.438017     0.469336   \n",
       "2257  0.419148  0.802823  0.267730  0.513273  0.258616  0.407668     0.586743   \n",
       "2258  0.381765  0.798463  0.269420  0.455308  0.211851  0.413338     0.571185   \n",
       "2259  0.380733  0.790948  0.176942  0.380266  0.145172  0.391763     0.567732   \n",
       "2260  0.367090  0.788315  0.318110  0.456743  0.267853  0.406480     0.576177   \n",
       "\n",
       "      factor_combined  portfolio value        profit  \n",
       "2256         0.850856    795501.799301 -12008.838816  \n",
       "2257         1.014788    783492.960485      0.000000  \n",
       "2258         1.205481    783492.960485  13156.000000  \n",
       "2259         1.226251    796648.960485      0.000000  \n",
       "2260         1.333891    796648.960485      0.000000  \n",
       "\n",
       "[5 rows x 22 columns]"
      ]
     },
     "execution_count": 60,
     "metadata": {},
     "output_type": "execute_result"
    }
   ],
   "source": [
    "stoxx_data.tail()"
   ]
  },
  {
   "cell_type": "code",
   "execution_count": 63,
   "metadata": {},
   "outputs": [
    {
     "data": {
      "image/png": "[encoded data removed]",
      "text/plain": [
       "<Figure size 2160x1080 with 1 Axes>"
      ]
     },
     "metadata": {
      "needs_background": "light"
     },
     "output_type": "display_data"
    }
   ],
   "source": [
    "plt.figure(figsize=(30, 15))\n",
    "stoxx_data[\"portfolio value\"].plot()\n",
    "plt.tick_params(labelsize=30)\n",
    "plt.show()"
   ]
  },
  {
   "cell_type": "code",
   "execution_count": 539,
   "metadata": {},
   "outputs": [
    {
     "data": {
      "text/html": [
       "<div>\n",
       "<style scoped>\n",
       "    .dataframe tbody tr th:only-of-type {\n",
       "        vertical-align: middle;\n",
       "    }\n",
       "\n",
       "    .dataframe tbody tr th {\n",
       "        vertical-align: top;\n",
       "    }\n",
       "\n",
       "    .dataframe thead th {\n",
       "        text-align: right;\n",
       "    }\n",
       "</style>\n",
       "<table border=\"1\" class=\"dataframe\">\n",
       "  <thead>\n",
       "    <tr style=\"text-align: right;\">\n",
       "      <th></th>\n",
       "      <th>Date</th>\n",
       "      <th>Open</th>\n",
       "      <th>High</th>\n",
       "      <th>Low</th>\n",
       "      <th>Close</th>\n",
       "      <th>Adj Close</th>\n",
       "      <th>Volume</th>\n",
       "      <th>price_change</th>\n",
       "      <th>price_ch_normal</th>\n",
       "      <th>10_days_RSI</th>\n",
       "      <th>...</th>\n",
       "      <th>WMA_7</th>\n",
       "      <th>CMO_14</th>\n",
       "      <th>MOM_7</th>\n",
       "      <th>CCI_14</th>\n",
       "      <th>ROC_30</th>\n",
       "      <th>factor_combined</th>\n",
       "      <th>portfolio value</th>\n",
       "      <th>profit</th>\n",
       "      <th>group</th>\n",
       "      <th>MOM_10</th>\n",
       "    </tr>\n",
       "  </thead>\n",
       "  <tbody>\n",
       "    <tr>\n",
       "      <th>2500</th>\n",
       "      <td>2019-12-12</td>\n",
       "      <td>3689.669922</td>\n",
       "      <td>3723.600098</td>\n",
       "      <td>3675.629883</td>\n",
       "      <td>3706.350098</td>\n",
       "      <td>3706.350098</td>\n",
       "      <td>40502800</td>\n",
       "      <td>18.900147</td>\n",
       "      <td>0.539253</td>\n",
       "      <td>0.626518</td>\n",
       "      <td>...</td>\n",
       "      <td>0.969981</td>\n",
       "      <td>0.668558</td>\n",
       "      <td>0.680848</td>\n",
       "      <td>0.572537</td>\n",
       "      <td>0.638480</td>\n",
       "      <td>1.100737</td>\n",
       "      <td>1.254125e+06</td>\n",
       "      <td>7514.870880</td>\n",
       "      <td>0</td>\n",
       "      <td>0.631642</td>\n",
       "    </tr>\n",
       "    <tr>\n",
       "      <th>2501</th>\n",
       "      <td>2019-12-13</td>\n",
       "      <td>3720.649902</td>\n",
       "      <td>3765.699951</td>\n",
       "      <td>3720.649902</td>\n",
       "      <td>3731.070068</td>\n",
       "      <td>3731.070068</td>\n",
       "      <td>49284900</td>\n",
       "      <td>24.719970</td>\n",
       "      <td>0.550434</td>\n",
       "      <td>0.596622</td>\n",
       "      <td>...</td>\n",
       "      <td>0.973548</td>\n",
       "      <td>0.736182</td>\n",
       "      <td>0.653802</td>\n",
       "      <td>0.710093</td>\n",
       "      <td>0.641515</td>\n",
       "      <td>1.074459</td>\n",
       "      <td>1.261639e+06</td>\n",
       "      <td>12667.656288</td>\n",
       "      <td>1</td>\n",
       "      <td>0.658460</td>\n",
       "    </tr>\n",
       "    <tr>\n",
       "      <th>2502</th>\n",
       "      <td>2019-12-16</td>\n",
       "      <td>3738.909912</td>\n",
       "      <td>3778.469971</td>\n",
       "      <td>3738.909912</td>\n",
       "      <td>3772.739990</td>\n",
       "      <td>3772.739990</td>\n",
       "      <td>30015600</td>\n",
       "      <td>41.669922</td>\n",
       "      <td>0.583000</td>\n",
       "      <td>0.720916</td>\n",
       "      <td>...</td>\n",
       "      <td>0.979189</td>\n",
       "      <td>0.831242</td>\n",
       "      <td>0.713391</td>\n",
       "      <td>0.741816</td>\n",
       "      <td>0.640878</td>\n",
       "      <td>1.218003</td>\n",
       "      <td>1.274307e+06</td>\n",
       "      <td>-8320.368183</td>\n",
       "      <td>3</td>\n",
       "      <td>0.782596</td>\n",
       "    </tr>\n",
       "    <tr>\n",
       "      <th>2503</th>\n",
       "      <td>2019-12-17</td>\n",
       "      <td>3769.139893</td>\n",
       "      <td>3769.139893</td>\n",
       "      <td>3742.620117</td>\n",
       "      <td>3745.280029</td>\n",
       "      <td>3745.280029</td>\n",
       "      <td>37228600</td>\n",
       "      <td>-27.459961</td>\n",
       "      <td>0.450181</td>\n",
       "      <td>0.750603</td>\n",
       "      <td>...</td>\n",
       "      <td>0.981850</td>\n",
       "      <td>0.723539</td>\n",
       "      <td>0.633653</td>\n",
       "      <td>0.670125</td>\n",
       "      <td>0.616728</td>\n",
       "      <td>1.110103</td>\n",
       "      <td>1.265987e+06</td>\n",
       "      <td>-1909.128816</td>\n",
       "      <td>2</td>\n",
       "      <td>0.770255</td>\n",
       "    </tr>\n",
       "    <tr>\n",
       "      <th>2504</th>\n",
       "      <td>2019-12-18</td>\n",
       "      <td>3744.000000</td>\n",
       "      <td>3755.810059</td>\n",
       "      <td>3739.000000</td>\n",
       "      <td>3739.000000</td>\n",
       "      <td>3739.000000</td>\n",
       "      <td>33479600</td>\n",
       "      <td>-6.280029</td>\n",
       "      <td>0.490874</td>\n",
       "      <td>0.683868</td>\n",
       "      <td>...</td>\n",
       "      <td>0.983601</td>\n",
       "      <td>0.700038</td>\n",
       "      <td>0.649096</td>\n",
       "      <td>0.619866</td>\n",
       "      <td>0.605200</td>\n",
       "      <td>1.141784</td>\n",
       "      <td>1.264078e+06</td>\n",
       "      <td>51.656288</td>\n",
       "      <td>2</td>\n",
       "      <td>0.712358</td>\n",
       "    </tr>\n",
       "    <tr>\n",
       "      <th>2505</th>\n",
       "      <td>2019-12-19</td>\n",
       "      <td>3741.530029</td>\n",
       "      <td>3747.340088</td>\n",
       "      <td>3722.570068</td>\n",
       "      <td>3739.169922</td>\n",
       "      <td>3739.169922</td>\n",
       "      <td>35609900</td>\n",
       "      <td>0.169922</td>\n",
       "      <td>0.503266</td>\n",
       "      <td>0.695777</td>\n",
       "      <td>...</td>\n",
       "      <td>0.984734</td>\n",
       "      <td>0.700490</td>\n",
       "      <td>0.649730</td>\n",
       "      <td>0.580194</td>\n",
       "      <td>0.594165</td>\n",
       "      <td>1.152186</td>\n",
       "      <td>1.264129e+06</td>\n",
       "      <td>11366.601648</td>\n",
       "      <td>2</td>\n",
       "      <td>0.724982</td>\n",
       "    </tr>\n",
       "    <tr>\n",
       "      <th>2506</th>\n",
       "      <td>2019-12-20</td>\n",
       "      <td>3740.709961</td>\n",
       "      <td>3776.560059</td>\n",
       "      <td>3738.219971</td>\n",
       "      <td>3776.560059</td>\n",
       "      <td>3776.560059</td>\n",
       "      <td>84848100</td>\n",
       "      <td>37.390137</td>\n",
       "      <td>0.574777</td>\n",
       "      <td>0.627467</td>\n",
       "      <td>...</td>\n",
       "      <td>0.987695</td>\n",
       "      <td>0.793205</td>\n",
       "      <td>0.673895</td>\n",
       "      <td>0.624477</td>\n",
       "      <td>0.621465</td>\n",
       "      <td>1.156056</td>\n",
       "      <td>1.275496e+06</td>\n",
       "      <td>30.255459</td>\n",
       "      <td>2</td>\n",
       "      <td>0.717843</td>\n",
       "    </tr>\n",
       "    <tr>\n",
       "      <th>2507</th>\n",
       "      <td>2019-12-23</td>\n",
       "      <td>3775.070068</td>\n",
       "      <td>3778.979980</td>\n",
       "      <td>3767.800049</td>\n",
       "      <td>3776.659912</td>\n",
       "      <td>3776.659912</td>\n",
       "      <td>23064700</td>\n",
       "      <td>0.099853</td>\n",
       "      <td>0.503131</td>\n",
       "      <td>0.648353</td>\n",
       "      <td>...</td>\n",
       "      <td>0.989824</td>\n",
       "      <td>0.793435</td>\n",
       "      <td>0.652978</td>\n",
       "      <td>0.626398</td>\n",
       "      <td>0.623301</td>\n",
       "      <td>1.087732</td>\n",
       "      <td>1.275526e+06</td>\n",
       "      <td>1699.862724</td>\n",
       "      <td>1</td>\n",
       "      <td>0.739051</td>\n",
       "    </tr>\n",
       "    <tr>\n",
       "      <th>2508</th>\n",
       "      <td>2019-12-27</td>\n",
       "      <td>3776.820068</td>\n",
       "      <td>3794.929932</td>\n",
       "      <td>3775.260010</td>\n",
       "      <td>3782.270020</td>\n",
       "      <td>3782.270020</td>\n",
       "      <td>24437900</td>\n",
       "      <td>5.610108</td>\n",
       "      <td>0.513718</td>\n",
       "      <td>0.470307</td>\n",
       "      <td>...</td>\n",
       "      <td>0.991662</td>\n",
       "      <td>0.807068</td>\n",
       "      <td>0.631717</td>\n",
       "      <td>0.630199</td>\n",
       "      <td>0.617122</td>\n",
       "      <td>0.864199</td>\n",
       "      <td>1.277226e+06</td>\n",
       "      <td>-10241.414847</td>\n",
       "      <td>-1</td>\n",
       "      <td>0.745342</td>\n",
       "    </tr>\n",
       "    <tr>\n",
       "      <th>2509</th>\n",
       "      <td>2019-12-30</td>\n",
       "      <td>3780.439941</td>\n",
       "      <td>3780.439941</td>\n",
       "      <td>3748.469971</td>\n",
       "      <td>3748.469971</td>\n",
       "      <td>3748.469971</td>\n",
       "      <td>18684000</td>\n",
       "      <td>-33.800049</td>\n",
       "      <td>0.437999</td>\n",
       "      <td>0.475148</td>\n",
       "      <td>...</td>\n",
       "      <td>0.990793</td>\n",
       "      <td>0.661496</td>\n",
       "      <td>0.547752</td>\n",
       "      <td>0.552400</td>\n",
       "      <td>0.604318</td>\n",
       "      <td>0.840779</td>\n",
       "      <td>1.266985e+06</td>\n",
       "      <td>0.000000</td>\n",
       "      <td>-1</td>\n",
       "      <td>0.693558</td>\n",
       "    </tr>\n",
       "  </tbody>\n",
       "</table>\n",
       "<p>10 rows × 24 columns</p>\n",
       "</div>"
      ],
      "text/plain": [
       "            Date         Open         High          Low        Close  \\\n",
       "2500  2019-12-12  3689.669922  3723.600098  3675.629883  3706.350098   \n",
       "2501  2019-12-13  3720.649902  3765.699951  3720.649902  3731.070068   \n",
       "2502  2019-12-16  3738.909912  3778.469971  3738.909912  3772.739990   \n",
       "2503  2019-12-17  3769.139893  3769.139893  3742.620117  3745.280029   \n",
       "2504  2019-12-18  3744.000000  3755.810059  3739.000000  3739.000000   \n",
       "2505  2019-12-19  3741.530029  3747.340088  3722.570068  3739.169922   \n",
       "2506  2019-12-20  3740.709961  3776.560059  3738.219971  3776.560059   \n",
       "2507  2019-12-23  3775.070068  3778.979980  3767.800049  3776.659912   \n",
       "2508  2019-12-27  3776.820068  3794.929932  3775.260010  3782.270020   \n",
       "2509  2019-12-30  3780.439941  3780.439941  3748.469971  3748.469971   \n",
       "\n",
       "        Adj Close    Volume  price_change  price_ch_normal  10_days_RSI  \\\n",
       "2500  3706.350098  40502800     18.900147         0.539253     0.626518   \n",
       "2501  3731.070068  49284900     24.719970         0.550434     0.596622   \n",
       "2502  3772.739990  30015600     41.669922         0.583000     0.720916   \n",
       "2503  3745.280029  37228600    -27.459961         0.450181     0.750603   \n",
       "2504  3739.000000  33479600     -6.280029         0.490874     0.683868   \n",
       "2505  3739.169922  35609900      0.169922         0.503266     0.695777   \n",
       "2506  3776.560059  84848100     37.390137         0.574777     0.627467   \n",
       "2507  3776.659912  23064700      0.099853         0.503131     0.648353   \n",
       "2508  3782.270020  24437900      5.610108         0.513718     0.470307   \n",
       "2509  3748.469971  18684000    -33.800049         0.437999     0.475148   \n",
       "\n",
       "        ...        WMA_7    CMO_14     MOM_7    CCI_14    ROC_30  \\\n",
       "2500    ...     0.969981  0.668558  0.680848  0.572537  0.638480   \n",
       "2501    ...     0.973548  0.736182  0.653802  0.710093  0.641515   \n",
       "2502    ...     0.979189  0.831242  0.713391  0.741816  0.640878   \n",
       "2503    ...     0.981850  0.723539  0.633653  0.670125  0.616728   \n",
       "2504    ...     0.983601  0.700038  0.649096  0.619866  0.605200   \n",
       "2505    ...     0.984734  0.700490  0.649730  0.580194  0.594165   \n",
       "2506    ...     0.987695  0.793205  0.673895  0.624477  0.621465   \n",
       "2507    ...     0.989824  0.793435  0.652978  0.626398  0.623301   \n",
       "2508    ...     0.991662  0.807068  0.631717  0.630199  0.617122   \n",
       "2509    ...     0.990793  0.661496  0.547752  0.552400  0.604318   \n",
       "\n",
       "      factor_combined  portfolio value        profit  group    MOM_10  \n",
       "2500         1.100737     1.254125e+06   7514.870880      0  0.631642  \n",
       "2501         1.074459     1.261639e+06  12667.656288      1  0.658460  \n",
       "2502         1.218003     1.274307e+06  -8320.368183      3  0.782596  \n",
       "2503         1.110103     1.265987e+06  -1909.128816      2  0.770255  \n",
       "2504         1.141784     1.264078e+06     51.656288      2  0.712358  \n",
       "2505         1.152186     1.264129e+06  11366.601648      2  0.724982  \n",
       "2506         1.156056     1.275496e+06     30.255459      2  0.717843  \n",
       "2507         1.087732     1.275526e+06   1699.862724      1  0.739051  \n",
       "2508         0.864199     1.277226e+06 -10241.414847     -1  0.745342  \n",
       "2509         0.840779     1.266985e+06      0.000000     -1  0.693558  \n",
       "\n",
       "[10 rows x 24 columns]"
      ]
     },
     "execution_count": 539,
     "metadata": {},
     "output_type": "execute_result"
    }
   ],
   "source": [
    "stoxx_data.tail(10)"
   ]
  },
  {
   "cell_type": "code",
   "execution_count": 65,
   "metadata": {},
   "outputs": [
    {
     "data": {
      "image/png": "[encoded data removed]",
      "text/plain": [
       "<Figure size 2160x1080 with 1 Axes>"
      ]
     },
     "metadata": {
      "needs_background": "light"
     },
     "output_type": "display_data"
    }
   ],
   "source": [
    "cum_profit = [stoxx_data.loc[0, \"profit\"]]\n",
    "for i in range(1, len(stoxx_data)):\n",
    "    cum_profit.append(cum_profit[i-1] + stoxx_data.loc[i, \"profit\"])\n",
    "plt.figure(figsize=(30, 15))\n",
    "plt.tick_params(labelsize=30)\n",
    "plt.plot(cum_profit)\n",
    "plt.show()"
   ]
  },
  {
   "cell_type": "code",
   "execution_count": 541,
   "metadata": {},
   "outputs": [
    {
     "name": "stdout",
     "output_type": "stream",
     "text": [
      "positive profit times:  1304\n",
      "negative profit times:  1206\n"
     ]
    }
   ],
   "source": [
    "profit, price_change = stoxx_data[\"profit\"], stoxx_data[\"price_change\"]\n",
    "print(\"positive profit times: \", len(profit[profit >= 0]))\n",
    "print(\"negative profit times: \", len(profit[profit < 0]))"
   ]
  },
  {
   "cell_type": "code",
   "execution_count": 542,
   "metadata": {},
   "outputs": [
    {
     "name": "stdout",
     "output_type": "stream",
     "text": [
      "SpearmanrResult(correlation=0.16258481120804394, pvalue=2.4848986464593506e-16)\n",
      "-----------------------------------------------------\n",
      "count    2510.000000\n",
      "mean        1.081112\n",
      "std         0.224444\n",
      "min        -0.640401\n",
      "25%         0.959452\n",
      "50%         1.076629\n",
      "75%         1.194051\n",
      "max         2.857674\n",
      "Name: factor_combined, dtype: float64\n",
      "-----------------------------------------------------\n"
     ]
    },
    {
     "data": {
      "image/png": "[encoded data removed]",
      "text/plain": [
       "<Figure size 432x288 with 1 Axes>"
      ]
     },
     "metadata": {
      "needs_background": "light"
     },
     "output_type": "display_data"
    }
   ],
   "source": [
    "print(stats.spearmanr(stoxx_data[[\"factor_combined\", \"profit\"]]))\n",
    "print(\"-----------------------------------------------------\")\n",
    "print(stoxx_data[\"factor_combined\"].describe())\n",
    "print(\"-----------------------------------------------------\")\n",
    "plt.hist(stoxx_data[\"factor_combined\"], bins=2600)\n",
    "plt.show()"
   ]
  },
  {
   "cell_type": "code",
   "execution_count": 543,
   "metadata": {},
   "outputs": [
    {
     "data": {
      "text/html": [
       "<div>\n",
       "<style scoped>\n",
       "    .dataframe tbody tr th:only-of-type {\n",
       "        vertical-align: middle;\n",
       "    }\n",
       "\n",
       "    .dataframe tbody tr th {\n",
       "        vertical-align: top;\n",
       "    }\n",
       "\n",
       "    .dataframe thead th {\n",
       "        text-align: right;\n",
       "    }\n",
       "</style>\n",
       "<table border=\"1\" class=\"dataframe\">\n",
       "  <thead>\n",
       "    <tr style=\"text-align: right;\">\n",
       "      <th></th>\n",
       "      <th>Date</th>\n",
       "      <th>Open</th>\n",
       "      <th>High</th>\n",
       "      <th>Low</th>\n",
       "      <th>Close</th>\n",
       "      <th>Adj Close</th>\n",
       "      <th>Volume</th>\n",
       "      <th>price_change</th>\n",
       "      <th>price_ch_normal</th>\n",
       "      <th>10_days_RSI</th>\n",
       "      <th>...</th>\n",
       "      <th>WMA_7</th>\n",
       "      <th>CMO_14</th>\n",
       "      <th>MOM_7</th>\n",
       "      <th>CCI_14</th>\n",
       "      <th>ROC_30</th>\n",
       "      <th>factor_combined</th>\n",
       "      <th>portfolio value</th>\n",
       "      <th>profit</th>\n",
       "      <th>group</th>\n",
       "      <th>MOM_10</th>\n",
       "    </tr>\n",
       "  </thead>\n",
       "  <tbody>\n",
       "    <tr>\n",
       "      <th>2505</th>\n",
       "      <td>2019-12-19</td>\n",
       "      <td>3741.530029</td>\n",
       "      <td>3747.340088</td>\n",
       "      <td>3722.570068</td>\n",
       "      <td>3739.169922</td>\n",
       "      <td>3739.169922</td>\n",
       "      <td>35609900</td>\n",
       "      <td>0.169922</td>\n",
       "      <td>0.503266</td>\n",
       "      <td>0.695777</td>\n",
       "      <td>...</td>\n",
       "      <td>0.984734</td>\n",
       "      <td>0.700490</td>\n",
       "      <td>0.649730</td>\n",
       "      <td>0.580194</td>\n",
       "      <td>0.594165</td>\n",
       "      <td>1.152186</td>\n",
       "      <td>1.264129e+06</td>\n",
       "      <td>11366.601648</td>\n",
       "      <td>11</td>\n",
       "      <td>0.724982</td>\n",
       "    </tr>\n",
       "    <tr>\n",
       "      <th>2506</th>\n",
       "      <td>2019-12-20</td>\n",
       "      <td>3740.709961</td>\n",
       "      <td>3776.560059</td>\n",
       "      <td>3738.219971</td>\n",
       "      <td>3776.560059</td>\n",
       "      <td>3776.560059</td>\n",
       "      <td>84848100</td>\n",
       "      <td>37.390137</td>\n",
       "      <td>0.574777</td>\n",
       "      <td>0.627467</td>\n",
       "      <td>...</td>\n",
       "      <td>0.987695</td>\n",
       "      <td>0.793205</td>\n",
       "      <td>0.673895</td>\n",
       "      <td>0.624477</td>\n",
       "      <td>0.621465</td>\n",
       "      <td>1.156056</td>\n",
       "      <td>1.275496e+06</td>\n",
       "      <td>30.255459</td>\n",
       "      <td>11</td>\n",
       "      <td>0.717843</td>\n",
       "    </tr>\n",
       "    <tr>\n",
       "      <th>2507</th>\n",
       "      <td>2019-12-23</td>\n",
       "      <td>3775.070068</td>\n",
       "      <td>3778.979980</td>\n",
       "      <td>3767.800049</td>\n",
       "      <td>3776.659912</td>\n",
       "      <td>3776.659912</td>\n",
       "      <td>23064700</td>\n",
       "      <td>0.099853</td>\n",
       "      <td>0.503131</td>\n",
       "      <td>0.648353</td>\n",
       "      <td>...</td>\n",
       "      <td>0.989824</td>\n",
       "      <td>0.793435</td>\n",
       "      <td>0.652978</td>\n",
       "      <td>0.626398</td>\n",
       "      <td>0.623301</td>\n",
       "      <td>1.087732</td>\n",
       "      <td>1.275526e+06</td>\n",
       "      <td>1699.862724</td>\n",
       "      <td>10</td>\n",
       "      <td>0.739051</td>\n",
       "    </tr>\n",
       "    <tr>\n",
       "      <th>2508</th>\n",
       "      <td>2019-12-27</td>\n",
       "      <td>3776.820068</td>\n",
       "      <td>3794.929932</td>\n",
       "      <td>3775.260010</td>\n",
       "      <td>3782.270020</td>\n",
       "      <td>3782.270020</td>\n",
       "      <td>24437900</td>\n",
       "      <td>5.610108</td>\n",
       "      <td>0.513718</td>\n",
       "      <td>0.470307</td>\n",
       "      <td>...</td>\n",
       "      <td>0.991662</td>\n",
       "      <td>0.807068</td>\n",
       "      <td>0.631717</td>\n",
       "      <td>0.630199</td>\n",
       "      <td>0.617122</td>\n",
       "      <td>0.864199</td>\n",
       "      <td>1.277226e+06</td>\n",
       "      <td>-10241.414847</td>\n",
       "      <td>8</td>\n",
       "      <td>0.745342</td>\n",
       "    </tr>\n",
       "    <tr>\n",
       "      <th>2509</th>\n",
       "      <td>2019-12-30</td>\n",
       "      <td>3780.439941</td>\n",
       "      <td>3780.439941</td>\n",
       "      <td>3748.469971</td>\n",
       "      <td>3748.469971</td>\n",
       "      <td>3748.469971</td>\n",
       "      <td>18684000</td>\n",
       "      <td>-33.800049</td>\n",
       "      <td>0.437999</td>\n",
       "      <td>0.475148</td>\n",
       "      <td>...</td>\n",
       "      <td>0.990793</td>\n",
       "      <td>0.661496</td>\n",
       "      <td>0.547752</td>\n",
       "      <td>0.552400</td>\n",
       "      <td>0.604318</td>\n",
       "      <td>0.840779</td>\n",
       "      <td>1.266985e+06</td>\n",
       "      <td>0.000000</td>\n",
       "      <td>8</td>\n",
       "      <td>0.693558</td>\n",
       "    </tr>\n",
       "  </tbody>\n",
       "</table>\n",
       "<p>5 rows × 24 columns</p>\n",
       "</div>"
      ],
      "text/plain": [
       "            Date         Open         High          Low        Close  \\\n",
       "2505  2019-12-19  3741.530029  3747.340088  3722.570068  3739.169922   \n",
       "2506  2019-12-20  3740.709961  3776.560059  3738.219971  3776.560059   \n",
       "2507  2019-12-23  3775.070068  3778.979980  3767.800049  3776.659912   \n",
       "2508  2019-12-27  3776.820068  3794.929932  3775.260010  3782.270020   \n",
       "2509  2019-12-30  3780.439941  3780.439941  3748.469971  3748.469971   \n",
       "\n",
       "        Adj Close    Volume  price_change  price_ch_normal  10_days_RSI  \\\n",
       "2505  3739.169922  35609900      0.169922         0.503266     0.695777   \n",
       "2506  3776.560059  84848100     37.390137         0.574777     0.627467   \n",
       "2507  3776.659912  23064700      0.099853         0.503131     0.648353   \n",
       "2508  3782.270020  24437900      5.610108         0.513718     0.470307   \n",
       "2509  3748.469971  18684000    -33.800049         0.437999     0.475148   \n",
       "\n",
       "        ...        WMA_7    CMO_14     MOM_7    CCI_14    ROC_30  \\\n",
       "2505    ...     0.984734  0.700490  0.649730  0.580194  0.594165   \n",
       "2506    ...     0.987695  0.793205  0.673895  0.624477  0.621465   \n",
       "2507    ...     0.989824  0.793435  0.652978  0.626398  0.623301   \n",
       "2508    ...     0.991662  0.807068  0.631717  0.630199  0.617122   \n",
       "2509    ...     0.990793  0.661496  0.547752  0.552400  0.604318   \n",
       "\n",
       "      factor_combined  portfolio value        profit  group    MOM_10  \n",
       "2505         1.152186     1.264129e+06  11366.601648     11  0.724982  \n",
       "2506         1.156056     1.275496e+06     30.255459     11  0.717843  \n",
       "2507         1.087732     1.275526e+06   1699.862724     10  0.739051  \n",
       "2508         0.864199     1.277226e+06 -10241.414847      8  0.745342  \n",
       "2509         0.840779     1.266985e+06      0.000000      8  0.693558  \n",
       "\n",
       "[5 rows x 24 columns]"
      ]
     },
     "execution_count": 543,
     "metadata": {},
     "output_type": "execute_result"
    }
   ],
   "source": [
    "group = []\n",
    "for i in range(len(stoxx_data)):\n",
    "    group.append(int(stoxx_data.loc[i, \"factor_combined\"] // 0.1))\n",
    "stoxx_data[\"group\"] = group\n",
    "stoxx_data.tail()"
   ]
  },
  {
   "cell_type": "code",
   "execution_count": 544,
   "metadata": {},
   "outputs": [
    {
     "name": "stdout",
     "output_type": "stream",
     "text": [
      "-7\n",
      "count    2.0\n",
      "mean     0.0\n",
      "std      0.0\n",
      "min      0.0\n",
      "25%      0.0\n",
      "50%      0.0\n",
      "75%      0.0\n",
      "max      0.0\n",
      "Name: profit, dtype: float64\n"
     ]
    },
    {
     "data": {
      "image/png": "[encoded data removed]",
      "text/plain": [
       "<Figure size 432x288 with 1 Axes>"
      ]
     },
     "metadata": {
      "needs_background": "light"
     },
     "output_type": "display_data"
    },
    {
     "name": "stdout",
     "output_type": "stream",
     "text": [
      "----------------------------\n",
      "-6\n",
      "count    7.0\n",
      "mean     0.0\n",
      "std      0.0\n",
      "min      0.0\n",
      "25%      0.0\n",
      "50%      0.0\n",
      "75%      0.0\n",
      "max      0.0\n",
      "Name: profit, dtype: float64\n"
     ]
    },
    {
     "data": {
      "image/png": "[encoded data removed]",
      "text/plain": [
       "<Figure size 432x288 with 1 Axes>"
      ]
     },
     "metadata": {
      "needs_background": "light"
     },
     "output_type": "display_data"
    },
    {
     "name": "stdout",
     "output_type": "stream",
     "text": [
      "----------------------------\n",
      "3\n",
      "count       1.000000\n",
      "mean     5391.755802\n",
      "std              NaN\n",
      "min      5391.755802\n",
      "25%      5391.755802\n",
      "50%      5391.755802\n",
      "75%      5391.755802\n",
      "max      5391.755802\n",
      "Name: profit, dtype: float64\n"
     ]
    },
    {
     "data": {
      "image/png": "[encoded data removed]",
      "text/plain": [
       "<Figure size 432x288 with 1 Axes>"
      ]
     },
     "metadata": {
      "needs_background": "light"
     },
     "output_type": "display_data"
    },
    {
     "name": "stdout",
     "output_type": "stream",
     "text": [
      "----------------------------\n",
      "4\n",
      "count        2.000000\n",
      "mean    -11634.970648\n",
      "std      18248.835338\n",
      "min     -24538.845864\n",
      "25%     -18086.908256\n",
      "50%     -11634.970648\n",
      "75%      -5183.033039\n",
      "max       1268.904569\n",
      "Name: profit, dtype: float64\n"
     ]
    },
    {
     "data": {
      "image/png": "[encoded data removed]",
      "text/plain": [
       "<Figure size 432x288 with 1 Axes>"
      ]
     },
     "metadata": {
      "needs_background": "light"
     },
     "output_type": "display_data"
    },
    {
     "name": "stdout",
     "output_type": "stream",
     "text": [
      "----------------------------\n",
      "5\n",
      "count        5.000000\n",
      "mean    -16383.387511\n",
      "std      14888.423354\n",
      "min     -32111.621946\n",
      "25%     -29238.676930\n",
      "50%     -18051.294110\n",
      "75%      -3871.896900\n",
      "max       1356.552333\n",
      "Name: profit, dtype: float64\n"
     ]
    },
    {
     "data": {
      "image/png": "[encoded data removed]",
      "text/plain": [
       "<Figure size 432x288 with 1 Axes>"
      ]
     },
     "metadata": {
      "needs_background": "light"
     },
     "output_type": "display_data"
    },
    {
     "name": "stdout",
     "output_type": "stream",
     "text": [
      "----------------------------\n",
      "6\n",
      "count       33.000000\n",
      "mean     -8608.904863\n",
      "std      18344.181360\n",
      "min     -80886.935871\n",
      "25%     -15480.566928\n",
      "50%      -5845.913920\n",
      "75%       3924.572720\n",
      "max      12866.030503\n",
      "Name: profit, dtype: float64\n"
     ]
    },
    {
     "data": {
      "image/png": "[encoded data removed]",
      "text/plain": [
       "<Figure size 432x288 with 1 Axes>"
      ]
     },
     "metadata": {
      "needs_background": "light"
     },
     "output_type": "display_data"
    },
    {
     "name": "stdout",
     "output_type": "stream",
     "text": [
      "----------------------------\n",
      "7\n",
      "count       92.000000\n",
      "mean     -3878.110668\n",
      "std      11946.795969\n",
      "min     -38222.546320\n",
      "25%     -10759.196006\n",
      "50%        -32.042378\n",
      "75%       3294.976514\n",
      "max      25360.747104\n",
      "Name: profit, dtype: float64\n"
     ]
    },
    {
     "data": {
      "image/png": "[encoded data removed]",
      "text/plain": [
       "<Figure size 432x288 with 1 Axes>"
      ]
     },
     "metadata": {
      "needs_background": "light"
     },
     "output_type": "display_data"
    },
    {
     "name": "stdout",
     "output_type": "stream",
     "text": [
      "----------------------------\n",
      "8\n",
      "count      248.000000\n",
      "mean     -3474.306027\n",
      "std       9859.149150\n",
      "min     -37705.310820\n",
      "25%     -10262.849669\n",
      "50%      -1341.106709\n",
      "75%       3609.942051\n",
      "max      15913.500000\n",
      "Name: profit, dtype: float64\n"
     ]
    },
    {
     "data": {
      "image/png": "[encoded data removed]",
      "text/plain": [
       "<Figure size 432x288 with 1 Axes>"
      ]
     },
     "metadata": {
      "needs_background": "light"
     },
     "output_type": "display_data"
    },
    {
     "name": "stdout",
     "output_type": "stream",
     "text": [
      "----------------------------\n",
      "9\n",
      "count      432.000000\n",
      "mean     -1016.112516\n",
      "std       9941.595221\n",
      "min     -46198.475145\n",
      "25%      -6663.658739\n",
      "50%        419.178553\n",
      "75%       5518.240026\n",
      "max      23243.748066\n",
      "Name: profit, dtype: float64\n"
     ]
    },
    {
     "data": {
      "image/png": "[encoded data removed]",
      "text/plain": [
       "<Figure size 432x288 with 1 Axes>"
      ]
     },
     "metadata": {
      "needs_background": "light"
     },
     "output_type": "display_data"
    },
    {
     "name": "stdout",
     "output_type": "stream",
     "text": [
      "----------------------------\n",
      "10\n",
      "count      584.000000\n",
      "mean        94.394271\n",
      "std       9313.405106\n",
      "min     -39403.857174\n",
      "25%      -4943.466307\n",
      "50%        347.850646\n",
      "75%       5828.788247\n",
      "max      28247.073070\n",
      "Name: profit, dtype: float64\n"
     ]
    },
    {
     "data": {
      "image/png": "[encoded data removed]",
      "text/plain": [
       "<Figure size 432x288 with 1 Axes>"
      ]
     },
     "metadata": {
      "needs_background": "light"
     },
     "output_type": "display_data"
    },
    {
     "name": "stdout",
     "output_type": "stream",
     "text": [
      "----------------------------\n",
      "11\n",
      "count      501.000000\n",
      "mean      1084.854964\n",
      "std       8695.674977\n",
      "min     -29302.410981\n",
      "25%      -3924.572720\n",
      "50%        717.664024\n",
      "75%       6192.372051\n",
      "max      35196.218058\n",
      "Name: profit, dtype: float64\n"
     ]
    },
    {
     "data": {
      "image/png": "[encoded data removed]",
      "text/plain": [
       "<Figure size 432x288 with 1 Axes>"
      ]
     },
     "metadata": {
      "needs_background": "light"
     },
     "output_type": "display_data"
    },
    {
     "name": "stdout",
     "output_type": "stream",
     "text": [
      "----------------------------\n",
      "12\n",
      "count      326.000000\n",
      "mean      1365.271338\n",
      "std      10932.693386\n",
      "min     -39096.143140\n",
      "25%      -4543.009300\n",
      "50%        -15.284811\n",
      "75%       8254.978272\n",
      "max      34513.510836\n",
      "Name: profit, dtype: float64\n"
     ]
    },
    {
     "data": {
      "image/png": "[encoded data removed]",
      "text/plain": [
       "<Figure size 432x288 with 1 Axes>"
      ]
     },
     "metadata": {
      "needs_background": "light"
     },
     "output_type": "display_data"
    },
    {
     "name": "stdout",
     "output_type": "stream",
     "text": [
      "----------------------------\n",
      "13\n",
      "count      151.000000\n",
      "mean      3610.213989\n",
      "std      12283.908715\n",
      "min     -34481.293800\n",
      "25%      -3147.493669\n",
      "50%       2452.211895\n",
      "75%      12382.256735\n",
      "max      34057.753572\n",
      "Name: profit, dtype: float64\n"
     ]
    },
    {
     "data": {
      "image/png": "[encoded data removed]",
      "text/plain": [
       "<Figure size 432x288 with 1 Axes>"
      ]
     },
     "metadata": {
      "needs_background": "light"
     },
     "output_type": "display_data"
    },
    {
     "name": "stdout",
     "output_type": "stream",
     "text": [
      "----------------------------\n",
      "14\n",
      "count       64.000000\n",
      "mean      6065.560442\n",
      "std      14592.088293\n",
      "min     -38898.869440\n",
      "25%      -1462.840878\n",
      "50%       6264.036163\n",
      "75%      15281.417241\n",
      "max      43592.236580\n",
      "Name: profit, dtype: float64\n"
     ]
    },
    {
     "data": {
      "image/png": "[encoded data removed]",
      "text/plain": [
       "<Figure size 432x288 with 1 Axes>"
      ]
     },
     "metadata": {
      "needs_background": "light"
     },
     "output_type": "display_data"
    },
    {
     "name": "stdout",
     "output_type": "stream",
     "text": [
      "----------------------------\n",
      "15\n",
      "count       19.000000\n",
      "mean      6738.346485\n",
      "std      24885.548727\n",
      "min     -53204.255802\n",
      "25%      -2227.349664\n",
      "50%       9059.670609\n",
      "75%      22609.289862\n",
      "max      44685.856845\n",
      "Name: profit, dtype: float64\n"
     ]
    },
    {
     "data": {
      "image/png": "[encoded data removed]",
      "text/plain": [
       "<Figure size 432x288 with 1 Axes>"
      ]
     },
     "metadata": {
      "needs_background": "light"
     },
     "output_type": "display_data"
    },
    {
     "name": "stdout",
     "output_type": "stream",
     "text": [
      "----------------------------\n",
      "16\n",
      "count       19.000000\n",
      "mean      2639.416292\n",
      "std      17985.733021\n",
      "min     -33914.384712\n",
      "25%      -4891.511477\n",
      "50%       -254.358212\n",
      "75%      13860.749809\n",
      "max      33177.909150\n",
      "Name: profit, dtype: float64\n"
     ]
    },
    {
     "data": {
      "image/png": "[encoded data removed]",
      "text/plain": [
       "<Figure size 432x288 with 1 Axes>"
      ]
     },
     "metadata": {
      "needs_background": "light"
     },
     "output_type": "display_data"
    },
    {
     "name": "stdout",
     "output_type": "stream",
     "text": [
      "----------------------------\n",
      "17\n",
      "count        6.000000\n",
      "mean      8660.658428\n",
      "std      25765.049527\n",
      "min     -26560.778920\n",
      "25%     -10824.239968\n",
      "50%      13677.766475\n",
      "75%      29685.770610\n",
      "max      35139.000000\n",
      "Name: profit, dtype: float64\n"
     ]
    },
    {
     "data": {
      "image/png": "[encoded data removed]",
      "text/plain": [
       "<Figure size 432x288 with 1 Axes>"
      ]
     },
     "metadata": {
      "needs_background": "light"
     },
     "output_type": "display_data"
    },
    {
     "name": "stdout",
     "output_type": "stream",
     "text": [
      "----------------------------\n",
      "18\n",
      "count        5.000000\n",
      "mean     -2257.582867\n",
      "std      16987.203928\n",
      "min     -27707.356860\n",
      "25%      -5189.822730\n",
      "50%        438.831294\n",
      "75%       1617.895833\n",
      "max      19552.538127\n",
      "Name: profit, dtype: float64\n"
     ]
    },
    {
     "data": {
      "image/png": "[encoded data removed]",
      "text/plain": [
       "<Figure size 432x288 with 1 Axes>"
      ]
     },
     "metadata": {
      "needs_background": "light"
     },
     "output_type": "display_data"
    },
    {
     "name": "stdout",
     "output_type": "stream",
     "text": [
      "----------------------------\n",
      "19\n",
      "count        5.000000\n",
      "mean     -7206.188169\n",
      "std      31924.530984\n",
      "min     -40160.162196\n",
      "25%     -24755.370318\n",
      "50%     -24327.564129\n",
      "75%      19426.790757\n",
      "max      33785.365043\n",
      "Name: profit, dtype: float64\n"
     ]
    },
    {
     "data": {
      "image/png": "[encoded data removed]",
      "text/plain": [
       "<Figure size 432x288 with 1 Axes>"
      ]
     },
     "metadata": {
      "needs_background": "light"
     },
     "output_type": "display_data"
    },
    {
     "name": "stdout",
     "output_type": "stream",
     "text": [
      "----------------------------\n",
      "20\n",
      "count        2.000000\n",
      "mean      7910.941731\n",
      "std       3547.869527\n",
      "min       5402.219130\n",
      "25%       6656.580431\n",
      "50%       7910.941731\n",
      "75%       9165.303031\n",
      "max      10419.664332\n",
      "Name: profit, dtype: float64\n"
     ]
    },
    {
     "data": {
      "image/png": "[encoded data removed]",
      "text/plain": [
       "<Figure size 432x288 with 1 Axes>"
      ]
     },
     "metadata": {
      "needs_background": "light"
     },
     "output_type": "display_data"
    },
    {
     "name": "stdout",
     "output_type": "stream",
     "text": [
      "----------------------------\n",
      "21\n",
      "count        2.000000\n",
      "mean     23160.437045\n",
      "std      30239.504923\n",
      "min       1777.878054\n",
      "25%      12469.157549\n",
      "50%      23160.437045\n",
      "75%      33851.716540\n",
      "max      44542.996036\n",
      "Name: profit, dtype: float64\n"
     ]
    },
    {
     "data": {
      "image/png": "[encoded data removed]",
      "text/plain": [
       "<Figure size 432x288 with 1 Axes>"
      ]
     },
     "metadata": {
      "needs_background": "light"
     },
     "output_type": "display_data"
    },
    {
     "name": "stdout",
     "output_type": "stream",
     "text": [
      "----------------------------\n",
      "22\n",
      "count        1.000000\n",
      "mean     29034.120132\n",
      "std               NaN\n",
      "min      29034.120132\n",
      "25%      29034.120132\n",
      "50%      29034.120132\n",
      "75%      29034.120132\n",
      "max      29034.120132\n",
      "Name: profit, dtype: float64\n"
     ]
    },
    {
     "data": {
      "image/png": "[encoded data removed]",
      "text/plain": [
       "<Figure size 432x288 with 1 Axes>"
      ]
     },
     "metadata": {
      "needs_background": "light"
     },
     "output_type": "display_data"
    },
    {
     "name": "stdout",
     "output_type": "stream",
     "text": [
      "----------------------------\n",
      "23\n",
      "count        2.000000\n",
      "mean     32971.914331\n",
      "std      67156.594738\n",
      "min     -14514.969210\n",
      "25%       9228.472560\n",
      "50%      32971.914331\n",
      "75%      56715.356101\n",
      "max      80458.797871\n",
      "Name: profit, dtype: float64\n"
     ]
    },
    {
     "data": {
      "image/png": "[encoded data removed]",
      "text/plain": [
       "<Figure size 432x288 with 1 Axes>"
      ]
     },
     "metadata": {
      "needs_background": "light"
     },
     "output_type": "display_data"
    },
    {
     "name": "stdout",
     "output_type": "stream",
     "text": [
      "----------------------------\n",
      "28\n",
      "count       1.000000\n",
      "mean    -8750.253204\n",
      "std              NaN\n",
      "min     -8750.253204\n",
      "25%     -8750.253204\n",
      "50%     -8750.253204\n",
      "75%     -8750.253204\n",
      "max     -8750.253204\n",
      "Name: profit, dtype: float64\n"
     ]
    },
    {
     "data": {
      "image/png": "[encoded data removed]",
      "text/plain": [
       "<Figure size 432x288 with 1 Axes>"
      ]
     },
     "metadata": {
      "needs_background": "light"
     },
     "output_type": "display_data"
    },
    {
     "name": "stdout",
     "output_type": "stream",
     "text": [
      "----------------------------\n"
     ]
    }
   ],
   "source": [
    "for name, group in stoxx_data[\"profit\"].groupby(stoxx_data[\"group\"]):\n",
    "    print(name)\n",
    "    print(group.describe())\n",
    "    plt.hist(group, bins = len(group))\n",
    "    plt.show()\n",
    "    print(\"----------------------------\")"
   ]
  },
  {
   "cell_type": "code",
   "execution_count": 37,
   "metadata": {},
   "outputs": [
    {
     "data": {
      "text/plain": [
       "-1"
      ]
     },
     "execution_count": 37,
     "metadata": {},
     "output_type": "execute_result"
    }
   ],
   "source": [
    "-5 // 10"
   ]
  },
  {
   "cell_type": "code",
   "execution_count": 38,
   "metadata": {},
   "outputs": [
    {
     "data": {
      "text/html": [
       "<div>\n",
       "<style scoped>\n",
       "    .dataframe tbody tr th:only-of-type {\n",
       "        vertical-align: middle;\n",
       "    }\n",
       "\n",
       "    .dataframe tbody tr th {\n",
       "        vertical-align: top;\n",
       "    }\n",
       "\n",
       "    .dataframe thead th {\n",
       "        text-align: right;\n",
       "    }\n",
       "</style>\n",
       "<table border=\"1\" class=\"dataframe\">\n",
       "  <thead>\n",
       "    <tr style=\"text-align: right;\">\n",
       "      <th></th>\n",
       "      <th>Date</th>\n",
       "      <th>Open</th>\n",
       "      <th>High</th>\n",
       "      <th>Low</th>\n",
       "      <th>Close</th>\n",
       "      <th>Adj Close</th>\n",
       "      <th>Volume</th>\n",
       "      <th>price_change</th>\n",
       "      <th>10_days_RSI</th>\n",
       "      <th>portfolio value</th>\n",
       "      <th>profit</th>\n",
       "      <th>group</th>\n",
       "    </tr>\n",
       "  </thead>\n",
       "  <tbody>\n",
       "    <tr>\n",
       "      <td>1627</td>\n",
       "      <td>2016-06-24</td>\n",
       "      <td>3030.929932</td>\n",
       "      <td>3030.929932</td>\n",
       "      <td>2736.429932</td>\n",
       "      <td>2776.090088</td>\n",
       "      <td>2776.090088</td>\n",
       "      <td>235845300</td>\n",
       "      <td>-261.770019</td>\n",
       "      <td>31.067769</td>\n",
       "      <td>3.772453e+06</td>\n",
       "      <td>0.000000</td>\n",
       "      <td>6</td>\n",
       "    </tr>\n",
       "    <tr>\n",
       "      <td>1416</td>\n",
       "      <td>2015-08-24</td>\n",
       "      <td>3174.929932</td>\n",
       "      <td>3186.399902</td>\n",
       "      <td>2973.159912</td>\n",
       "      <td>3073.389893</td>\n",
       "      <td>3073.389893</td>\n",
       "      <td>139619200</td>\n",
       "      <td>-173.870117</td>\n",
       "      <td>43.287109</td>\n",
       "      <td>3.163551e+06</td>\n",
       "      <td>0.000000</td>\n",
       "      <td>8</td>\n",
       "    </tr>\n",
       "    <tr>\n",
       "      <td>1376</td>\n",
       "      <td>2015-06-29</td>\n",
       "      <td>3544.290039</td>\n",
       "      <td>3544.290039</td>\n",
       "      <td>3449.139893</td>\n",
       "      <td>3468.899902</td>\n",
       "      <td>3468.899902</td>\n",
       "      <td>93594300</td>\n",
       "      <td>-152.470215</td>\n",
       "      <td>43.977885</td>\n",
       "      <td>3.265501e+06</td>\n",
       "      <td>0.000000</td>\n",
       "      <td>8</td>\n",
       "    </tr>\n",
       "    <tr>\n",
       "      <td>406</td>\n",
       "      <td>2011-08-10</td>\n",
       "      <td>2313.659912</td>\n",
       "      <td>2334.800049</td>\n",
       "      <td>2146.070068</td>\n",
       "      <td>2153.770020</td>\n",
       "      <td>2153.770020</td>\n",
       "      <td>0</td>\n",
       "      <td>-140.469970</td>\n",
       "      <td>34.361640</td>\n",
       "      <td>1.111989e+06</td>\n",
       "      <td>0.000000</td>\n",
       "      <td>6</td>\n",
       "    </tr>\n",
       "    <tr>\n",
       "      <td>91</td>\n",
       "      <td>2010-05-14</td>\n",
       "      <td>2755.830078</td>\n",
       "      <td>2755.830078</td>\n",
       "      <td>2616.979980</td>\n",
       "      <td>2633.919922</td>\n",
       "      <td>2633.919922</td>\n",
       "      <td>0</td>\n",
       "      <td>-130.390137</td>\n",
       "      <td>61.693124</td>\n",
       "      <td>1.090637e+06</td>\n",
       "      <td>470.074946</td>\n",
       "      <td>12</td>\n",
       "    </tr>\n",
       "    <tr>\n",
       "      <td>...</td>\n",
       "      <td>...</td>\n",
       "      <td>...</td>\n",
       "      <td>...</td>\n",
       "      <td>...</td>\n",
       "      <td>...</td>\n",
       "      <td>...</td>\n",
       "      <td>...</td>\n",
       "      <td>...</td>\n",
       "      <td>...</td>\n",
       "      <td>...</td>\n",
       "      <td>...</td>\n",
       "      <td>...</td>\n",
       "    </tr>\n",
       "    <tr>\n",
       "      <td>1371</td>\n",
       "      <td>2015-06-22</td>\n",
       "      <td>3497.090088</td>\n",
       "      <td>3601.879883</td>\n",
       "      <td>3497.090088</td>\n",
       "      <td>3596.070068</td>\n",
       "      <td>3596.070068</td>\n",
       "      <td>81570600</td>\n",
       "      <td>140.270019</td>\n",
       "      <td>53.901922</td>\n",
       "      <td>3.247230e+06</td>\n",
       "      <td>21587.729966</td>\n",
       "      <td>10</td>\n",
       "    </tr>\n",
       "    <tr>\n",
       "      <td>394</td>\n",
       "      <td>2011-07-22</td>\n",
       "      <td>2763.439941</td>\n",
       "      <td>2796.570068</td>\n",
       "      <td>2754.070068</td>\n",
       "      <td>2772.600098</td>\n",
       "      <td>2772.600098</td>\n",
       "      <td>0</td>\n",
       "      <td>140.620118</td>\n",
       "      <td>50.761003</td>\n",
       "      <td>1.296332e+06</td>\n",
       "      <td>-11182.654978</td>\n",
       "      <td>10</td>\n",
       "    </tr>\n",
       "    <tr>\n",
       "      <td>462</td>\n",
       "      <td>2011-10-27</td>\n",
       "      <td>2361.679932</td>\n",
       "      <td>2482.919922</td>\n",
       "      <td>2361.679932</td>\n",
       "      <td>2476.919922</td>\n",
       "      <td>2476.919922</td>\n",
       "      <td>0</td>\n",
       "      <td>141.859863</td>\n",
       "      <td>68.766208</td>\n",
       "      <td>1.232586e+06</td>\n",
       "      <td>-5794.806370</td>\n",
       "      <td>13</td>\n",
       "    </tr>\n",
       "    <tr>\n",
       "      <td>1417</td>\n",
       "      <td>2015-08-25</td>\n",
       "      <td>3105.520020</td>\n",
       "      <td>3237.520020</td>\n",
       "      <td>3105.479980</td>\n",
       "      <td>3218.010010</td>\n",
       "      <td>3218.010010</td>\n",
       "      <td>103513400</td>\n",
       "      <td>144.620117</td>\n",
       "      <td>44.162711</td>\n",
       "      <td>3.163551e+06</td>\n",
       "      <td>0.000000</td>\n",
       "      <td>8</td>\n",
       "    </tr>\n",
       "    <tr>\n",
       "      <td>88</td>\n",
       "      <td>2010-05-10</td>\n",
       "      <td>2534.810059</td>\n",
       "      <td>2758.889893</td>\n",
       "      <td>2531.429932</td>\n",
       "      <td>2758.889893</td>\n",
       "      <td>2758.889893</td>\n",
       "      <td>0</td>\n",
       "      <td>258.709961</td>\n",
       "      <td>72.277488</td>\n",
       "      <td>1.131497e+06</td>\n",
       "      <td>-9318.451464</td>\n",
       "      <td>14</td>\n",
       "    </tr>\n",
       "  </tbody>\n",
       "</table>\n",
       "<p>2510 rows × 12 columns</p>\n",
       "</div>"
      ],
      "text/plain": [
       "            Date         Open         High          Low        Close  \\\n",
       "1627  2016-06-24  3030.929932  3030.929932  2736.429932  2776.090088   \n",
       "1416  2015-08-24  3174.929932  3186.399902  2973.159912  3073.389893   \n",
       "1376  2015-06-29  3544.290039  3544.290039  3449.139893  3468.899902   \n",
       "406   2011-08-10  2313.659912  2334.800049  2146.070068  2153.770020   \n",
       "91    2010-05-14  2755.830078  2755.830078  2616.979980  2633.919922   \n",
       "...          ...          ...          ...          ...          ...   \n",
       "1371  2015-06-22  3497.090088  3601.879883  3497.090088  3596.070068   \n",
       "394   2011-07-22  2763.439941  2796.570068  2754.070068  2772.600098   \n",
       "462   2011-10-27  2361.679932  2482.919922  2361.679932  2476.919922   \n",
       "1417  2015-08-25  3105.520020  3237.520020  3105.479980  3218.010010   \n",
       "88    2010-05-10  2534.810059  2758.889893  2531.429932  2758.889893   \n",
       "\n",
       "        Adj Close     Volume  price_change  10_days_RSI  portfolio value  \\\n",
       "1627  2776.090088  235845300   -261.770019    31.067769     3.772453e+06   \n",
       "1416  3073.389893  139619200   -173.870117    43.287109     3.163551e+06   \n",
       "1376  3468.899902   93594300   -152.470215    43.977885     3.265501e+06   \n",
       "406   2153.770020          0   -140.469970    34.361640     1.111989e+06   \n",
       "91    2633.919922          0   -130.390137    61.693124     1.090637e+06   \n",
       "...           ...        ...           ...          ...              ...   \n",
       "1371  3596.070068   81570600    140.270019    53.901922     3.247230e+06   \n",
       "394   2772.600098          0    140.620118    50.761003     1.296332e+06   \n",
       "462   2476.919922          0    141.859863    68.766208     1.232586e+06   \n",
       "1417  3218.010010  103513400    144.620117    44.162711     3.163551e+06   \n",
       "88    2758.889893          0    258.709961    72.277488     1.131497e+06   \n",
       "\n",
       "            profit  group  \n",
       "1627      0.000000      6  \n",
       "1416      0.000000      8  \n",
       "1376      0.000000      8  \n",
       "406       0.000000      6  \n",
       "91      470.074946     12  \n",
       "...            ...    ...  \n",
       "1371  21587.729966     10  \n",
       "394  -11182.654978     10  \n",
       "462   -5794.806370     13  \n",
       "1417      0.000000      8  \n",
       "88    -9318.451464     14  \n",
       "\n",
       "[2510 rows x 12 columns]"
      ]
     },
     "execution_count": 38,
     "metadata": {},
     "output_type": "execute_result"
    }
   ],
   "source": [
    "stoxx_data.sort_values(\"price_change\")"
   ]
  },
  {
   "cell_type": "code",
   "execution_count": 39,
   "metadata": {},
   "outputs": [
    {
     "data": {
      "text/html": [
       "<div>\n",
       "<style scoped>\n",
       "    .dataframe tbody tr th:only-of-type {\n",
       "        vertical-align: middle;\n",
       "    }\n",
       "\n",
       "    .dataframe tbody tr th {\n",
       "        vertical-align: top;\n",
       "    }\n",
       "\n",
       "    .dataframe thead th {\n",
       "        text-align: right;\n",
       "    }\n",
       "</style>\n",
       "<table border=\"1\" class=\"dataframe\">\n",
       "  <thead>\n",
       "    <tr style=\"text-align: right;\">\n",
       "      <th></th>\n",
       "      <th>Date</th>\n",
       "      <th>Open</th>\n",
       "      <th>High</th>\n",
       "      <th>Low</th>\n",
       "      <th>Close</th>\n",
       "      <th>Adj Close</th>\n",
       "      <th>Volume</th>\n",
       "      <th>price_change</th>\n",
       "      <th>10_days_RSI</th>\n",
       "      <th>portfolio value</th>\n",
       "      <th>profit</th>\n",
       "      <th>group</th>\n",
       "    </tr>\n",
       "  </thead>\n",
       "  <tbody>\n",
       "    <tr>\n",
       "      <td>1627</td>\n",
       "      <td>2016-06-24</td>\n",
       "      <td>3030.929932</td>\n",
       "      <td>3030.929932</td>\n",
       "      <td>2736.429932</td>\n",
       "      <td>2776.090088</td>\n",
       "      <td>2776.090088</td>\n",
       "      <td>235845300</td>\n",
       "      <td>-261.770019</td>\n",
       "      <td>31.067769</td>\n",
       "      <td>3.772453e+06</td>\n",
       "      <td>0.000000</td>\n",
       "      <td>6</td>\n",
       "    </tr>\n",
       "    <tr>\n",
       "      <td>1416</td>\n",
       "      <td>2015-08-24</td>\n",
       "      <td>3174.929932</td>\n",
       "      <td>3186.399902</td>\n",
       "      <td>2973.159912</td>\n",
       "      <td>3073.389893</td>\n",
       "      <td>3073.389893</td>\n",
       "      <td>139619200</td>\n",
       "      <td>-173.870117</td>\n",
       "      <td>43.287109</td>\n",
       "      <td>3.163551e+06</td>\n",
       "      <td>0.000000</td>\n",
       "      <td>8</td>\n",
       "    </tr>\n",
       "    <tr>\n",
       "      <td>1376</td>\n",
       "      <td>2015-06-29</td>\n",
       "      <td>3544.290039</td>\n",
       "      <td>3544.290039</td>\n",
       "      <td>3449.139893</td>\n",
       "      <td>3468.899902</td>\n",
       "      <td>3468.899902</td>\n",
       "      <td>93594300</td>\n",
       "      <td>-152.470215</td>\n",
       "      <td>43.977885</td>\n",
       "      <td>3.265501e+06</td>\n",
       "      <td>0.000000</td>\n",
       "      <td>8</td>\n",
       "    </tr>\n",
       "    <tr>\n",
       "      <td>406</td>\n",
       "      <td>2011-08-10</td>\n",
       "      <td>2313.659912</td>\n",
       "      <td>2334.800049</td>\n",
       "      <td>2146.070068</td>\n",
       "      <td>2153.770020</td>\n",
       "      <td>2153.770020</td>\n",
       "      <td>0</td>\n",
       "      <td>-140.469970</td>\n",
       "      <td>34.361640</td>\n",
       "      <td>1.111989e+06</td>\n",
       "      <td>0.000000</td>\n",
       "      <td>6</td>\n",
       "    </tr>\n",
       "    <tr>\n",
       "      <td>91</td>\n",
       "      <td>2010-05-14</td>\n",
       "      <td>2755.830078</td>\n",
       "      <td>2755.830078</td>\n",
       "      <td>2616.979980</td>\n",
       "      <td>2633.919922</td>\n",
       "      <td>2633.919922</td>\n",
       "      <td>0</td>\n",
       "      <td>-130.390137</td>\n",
       "      <td>61.693124</td>\n",
       "      <td>1.090637e+06</td>\n",
       "      <td>470.074946</td>\n",
       "      <td>12</td>\n",
       "    </tr>\n",
       "    <tr>\n",
       "      <td>465</td>\n",
       "      <td>2011-11-01</td>\n",
       "      <td>2352.760010</td>\n",
       "      <td>2352.760010</td>\n",
       "      <td>2241.689941</td>\n",
       "      <td>2259.729980</td>\n",
       "      <td>2259.729980</td>\n",
       "      <td>0</td>\n",
       "      <td>-125.489991</td>\n",
       "      <td>53.317995</td>\n",
       "      <td>1.145768e+06</td>\n",
       "      <td>13024.764765</td>\n",
       "      <td>10</td>\n",
       "    </tr>\n",
       "    <tr>\n",
       "      <td>400</td>\n",
       "      <td>2011-08-02</td>\n",
       "      <td>2581.590088</td>\n",
       "      <td>2591.500000</td>\n",
       "      <td>2543.629883</td>\n",
       "      <td>2544.889893</td>\n",
       "      <td>2544.889893</td>\n",
       "      <td>0</td>\n",
       "      <td>-125.480224</td>\n",
       "      <td>63.152552</td>\n",
       "      <td>1.210871e+06</td>\n",
       "      <td>-17882.729700</td>\n",
       "      <td>12</td>\n",
       "    </tr>\n",
       "    <tr>\n",
       "      <td>1489</td>\n",
       "      <td>2015-12-03</td>\n",
       "      <td>3464.810059</td>\n",
       "      <td>3514.389893</td>\n",
       "      <td>3343.340088</td>\n",
       "      <td>3343.340088</td>\n",
       "      <td>3343.340088</td>\n",
       "      <td>84501300</td>\n",
       "      <td>-125.319824</td>\n",
       "      <td>45.759254</td>\n",
       "      <td>3.429372e+06</td>\n",
       "      <td>0.000000</td>\n",
       "      <td>9</td>\n",
       "    </tr>\n",
       "    <tr>\n",
       "      <td>412</td>\n",
       "      <td>2011-08-18</td>\n",
       "      <td>2313.159912</td>\n",
       "      <td>2313.159912</td>\n",
       "      <td>2177.290039</td>\n",
       "      <td>2206.610107</td>\n",
       "      <td>2206.610107</td>\n",
       "      <td>0</td>\n",
       "      <td>-124.510010</td>\n",
       "      <td>33.659276</td>\n",
       "      <td>1.111989e+06</td>\n",
       "      <td>0.000000</td>\n",
       "      <td>6</td>\n",
       "    </tr>\n",
       "    <tr>\n",
       "      <td>1507</td>\n",
       "      <td>2016-01-04</td>\n",
       "      <td>3266.010010</td>\n",
       "      <td>3266.010010</td>\n",
       "      <td>3147.879883</td>\n",
       "      <td>3164.760010</td>\n",
       "      <td>3164.760010</td>\n",
       "      <td>56241300</td>\n",
       "      <td>-123.219970</td>\n",
       "      <td>39.010257</td>\n",
       "      <td>3.477626e+06</td>\n",
       "      <td>0.000000</td>\n",
       "      <td>7</td>\n",
       "    </tr>\n",
       "  </tbody>\n",
       "</table>\n",
       "</div>"
      ],
      "text/plain": [
       "            Date         Open         High          Low        Close  \\\n",
       "1627  2016-06-24  3030.929932  3030.929932  2736.429932  2776.090088   \n",
       "1416  2015-08-24  3174.929932  3186.399902  2973.159912  3073.389893   \n",
       "1376  2015-06-29  3544.290039  3544.290039  3449.139893  3468.899902   \n",
       "406   2011-08-10  2313.659912  2334.800049  2146.070068  2153.770020   \n",
       "91    2010-05-14  2755.830078  2755.830078  2616.979980  2633.919922   \n",
       "465   2011-11-01  2352.760010  2352.760010  2241.689941  2259.729980   \n",
       "400   2011-08-02  2581.590088  2591.500000  2543.629883  2544.889893   \n",
       "1489  2015-12-03  3464.810059  3514.389893  3343.340088  3343.340088   \n",
       "412   2011-08-18  2313.159912  2313.159912  2177.290039  2206.610107   \n",
       "1507  2016-01-04  3266.010010  3266.010010  3147.879883  3164.760010   \n",
       "\n",
       "        Adj Close     Volume  price_change  10_days_RSI  portfolio value  \\\n",
       "1627  2776.090088  235845300   -261.770019    31.067769     3.772453e+06   \n",
       "1416  3073.389893  139619200   -173.870117    43.287109     3.163551e+06   \n",
       "1376  3468.899902   93594300   -152.470215    43.977885     3.265501e+06   \n",
       "406   2153.770020          0   -140.469970    34.361640     1.111989e+06   \n",
       "91    2633.919922          0   -130.390137    61.693124     1.090637e+06   \n",
       "465   2259.729980          0   -125.489991    53.317995     1.145768e+06   \n",
       "400   2544.889893          0   -125.480224    63.152552     1.210871e+06   \n",
       "1489  3343.340088   84501300   -125.319824    45.759254     3.429372e+06   \n",
       "412   2206.610107          0   -124.510010    33.659276     1.111989e+06   \n",
       "1507  3164.760010   56241300   -123.219970    39.010257     3.477626e+06   \n",
       "\n",
       "            profit  group  \n",
       "1627      0.000000      6  \n",
       "1416      0.000000      8  \n",
       "1376      0.000000      8  \n",
       "406       0.000000      6  \n",
       "91      470.074946     12  \n",
       "465   13024.764765     10  \n",
       "400  -17882.729700     12  \n",
       "1489      0.000000      9  \n",
       "412       0.000000      6  \n",
       "1507      0.000000      7  "
      ]
     },
     "execution_count": 39,
     "metadata": {},
     "output_type": "execute_result"
    }
   ],
   "source": [
    "stoxx_data_sort_change = stoxx_data.sort_values(\"price_change\")\n",
    "stoxx_data_sort_change.head(10)"
   ]
  },
  {
   "cell_type": "code",
   "execution_count": 40,
   "metadata": {},
   "outputs": [
    {
     "data": {
      "image/png": "[encoded data removed]",
      "text/plain": [
       "<Figure size 432x288 with 1 Axes>"
      ]
     },
     "metadata": {
      "needs_background": "light"
     },
     "output_type": "display_data"
    }
   ],
   "source": [
    "plt.plot(cum_profit)\n",
    "plt.show()"
   ]
  }
 ],
 "metadata": {
  "kernelspec": {
   "display_name": "Python 3 (ipykernel)",
   "language": "python",
   "name": "python3"
  },
  "language_info": {
   "codemirror_mode": {
    "name": "ipython",
    "version": 3
   },
   "file_extension": ".py",
   "mimetype": "text/x-python",
   "name": "python",
   "nbconvert_exporter": "python",
   "pygments_lexer": "ipython3",
   "version": "3.7.4"
  }
 },
 "nbformat": 4,
 "nbformat_minor": 2
}
